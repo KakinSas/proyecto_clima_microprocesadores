{
 "cells": [
  {
   "cell_type": "markdown",
   "id": "c0a3d98b",
   "metadata": {},
   "source": [
    "# Entrenamiento de Modelo LSTM para Predicción de Temperatura\n",
    "## Usando 3 features del dataset meteorológico\n",
    "\n",
    "Este notebook entrena un modelo LSTM usando solo 3 columnas del `dataset_ml.csv`:\n",
    "\n",
    "**Features seleccionadas:**\n",
    "- **ts**: Temperatura del Aire Seco (°C) → **[OBJETIVO A PREDECIR]**\n",
    "- **hr**: Humedad Relativa del aire (%)\n",
    "- **p0**: Presión leída del sensor (hPa)\n",
    "\n",
    "Este enfoque simplificado permite:\n",
    "- ✅ Entrenamiento más rápido\n",
    "- ✅ Modelo más ligero\n",
    "- ✅ Fácil de mapear con datos de Arduino (temperatura, humedad, presión)\n",
    "- ✅ Menos riesgo de overfitting"
   ]
  },
  {
   "cell_type": "code",
   "execution_count": 17,
   "id": "5914befd",
   "metadata": {},
   "outputs": [],
   "source": [
    "# Imports necesarios\n",
    "import pandas as pd\n",
    "import numpy as np\n",
    "import matplotlib.pyplot as plt\n",
    "from sklearn.preprocessing import StandardScaler\n",
    "from tensorflow.keras.models import Sequential\n",
    "from tensorflow.keras.layers import LSTM, Dense, Dropout\n",
    "from tensorflow.keras.callbacks import EarlyStopping, ModelCheckpoint\n",
    "from tensorflow.keras.optimizers import Adam\n",
    "import joblib\n",
    "import warnings\n",
    "warnings.filterwarnings('ignore')"
   ]
  },
  {
   "cell_type": "markdown",
   "id": "c3202b8e",
   "metadata": {},
   "source": [
    "## 1. Cargar y explorar datos"
   ]
  },
  {
   "cell_type": "code",
   "execution_count": 18,
   "id": "ed7ea4b2",
   "metadata": {},
   "outputs": [
    {
     "name": "stdout",
     "output_type": "stream",
     "text": [
      "✅ Datos cargados\n",
      "   Total de registros: 3,549,541\n",
      "   Columnas: ['momento', 'ts', 'td', 'tMin12Horas', 'tMax12Horas', 'tMin24Horas', 'hr', 'p0', 'qfe1', 'qfe2', 'qff', 'qnh', 'tPromedio24h', 'deltaTemp1h', 'deltaPresion1h', 'humedadRelativaCambio']\n",
      "\n",
      "📊 Primeras filas:\n"
     ]
    },
    {
     "data": {
      "text/html": [
       "<div>\n",
       "<style scoped>\n",
       "    .dataframe tbody tr th:only-of-type {\n",
       "        vertical-align: middle;\n",
       "    }\n",
       "\n",
       "    .dataframe tbody tr th {\n",
       "        vertical-align: top;\n",
       "    }\n",
       "\n",
       "    .dataframe thead th {\n",
       "        text-align: right;\n",
       "    }\n",
       "</style>\n",
       "<table border=\"1\" class=\"dataframe\">\n",
       "  <thead>\n",
       "    <tr style=\"text-align: right;\">\n",
       "      <th></th>\n",
       "      <th>momento</th>\n",
       "      <th>ts</th>\n",
       "      <th>td</th>\n",
       "      <th>tMin12Horas</th>\n",
       "      <th>tMax12Horas</th>\n",
       "      <th>tMin24Horas</th>\n",
       "      <th>hr</th>\n",
       "      <th>p0</th>\n",
       "      <th>qfe1</th>\n",
       "      <th>qfe2</th>\n",
       "      <th>qff</th>\n",
       "      <th>qnh</th>\n",
       "      <th>tPromedio24h</th>\n",
       "      <th>deltaTemp1h</th>\n",
       "      <th>deltaPresion1h</th>\n",
       "      <th>humedadRelativaCambio</th>\n",
       "    </tr>\n",
       "  </thead>\n",
       "  <tbody>\n",
       "    <tr>\n",
       "      <th>0</th>\n",
       "      <td>2019-01-01 01:00:00</td>\n",
       "      <td>21.9</td>\n",
       "      <td>3.5</td>\n",
       "      <td>21.0</td>\n",
       "      <td>32.3</td>\n",
       "      <td>32.9</td>\n",
       "      <td>30.0</td>\n",
       "      <td>950.9</td>\n",
       "      <td>951.0</td>\n",
       "      <td>951.184</td>\n",
       "      <td>1010.0</td>\n",
       "      <td>1011.9</td>\n",
       "      <td>22.683607</td>\n",
       "      <td>-1.7</td>\n",
       "      <td>0.5</td>\n",
       "      <td>1.2</td>\n",
       "    </tr>\n",
       "    <tr>\n",
       "      <th>1</th>\n",
       "      <td>2019-01-01 01:01:00</td>\n",
       "      <td>21.8</td>\n",
       "      <td>3.5</td>\n",
       "      <td>21.0</td>\n",
       "      <td>32.3</td>\n",
       "      <td>32.9</td>\n",
       "      <td>30.0</td>\n",
       "      <td>950.9</td>\n",
       "      <td>951.0</td>\n",
       "      <td>951.184</td>\n",
       "      <td>1010.0</td>\n",
       "      <td>1011.9</td>\n",
       "      <td>22.669355</td>\n",
       "      <td>-1.8</td>\n",
       "      <td>0.5</td>\n",
       "      <td>1.2</td>\n",
       "    </tr>\n",
       "    <tr>\n",
       "      <th>2</th>\n",
       "      <td>2019-01-01 01:02:00</td>\n",
       "      <td>21.8</td>\n",
       "      <td>3.5</td>\n",
       "      <td>21.0</td>\n",
       "      <td>32.3</td>\n",
       "      <td>32.9</td>\n",
       "      <td>30.0</td>\n",
       "      <td>950.9</td>\n",
       "      <td>951.2</td>\n",
       "      <td>951.184</td>\n",
       "      <td>1010.2</td>\n",
       "      <td>1012.1</td>\n",
       "      <td>22.655556</td>\n",
       "      <td>-1.8</td>\n",
       "      <td>0.5</td>\n",
       "      <td>1.0</td>\n",
       "    </tr>\n",
       "    <tr>\n",
       "      <th>3</th>\n",
       "      <td>2019-01-01 01:03:00</td>\n",
       "      <td>21.8</td>\n",
       "      <td>3.6</td>\n",
       "      <td>21.0</td>\n",
       "      <td>32.3</td>\n",
       "      <td>32.9</td>\n",
       "      <td>30.1</td>\n",
       "      <td>950.9</td>\n",
       "      <td>951.1</td>\n",
       "      <td>951.184</td>\n",
       "      <td>1010.1</td>\n",
       "      <td>1012.0</td>\n",
       "      <td>22.642187</td>\n",
       "      <td>-1.7</td>\n",
       "      <td>0.5</td>\n",
       "      <td>1.0</td>\n",
       "    </tr>\n",
       "    <tr>\n",
       "      <th>4</th>\n",
       "      <td>2019-01-01 01:04:00</td>\n",
       "      <td>21.8</td>\n",
       "      <td>3.5</td>\n",
       "      <td>21.0</td>\n",
       "      <td>32.3</td>\n",
       "      <td>32.9</td>\n",
       "      <td>30.1</td>\n",
       "      <td>950.9</td>\n",
       "      <td>951.1</td>\n",
       "      <td>951.184</td>\n",
       "      <td>1010.1</td>\n",
       "      <td>1012.0</td>\n",
       "      <td>22.629231</td>\n",
       "      <td>-1.7</td>\n",
       "      <td>0.5</td>\n",
       "      <td>0.9</td>\n",
       "    </tr>\n",
       "    <tr>\n",
       "      <th>5</th>\n",
       "      <td>2019-01-01 01:05:00</td>\n",
       "      <td>21.7</td>\n",
       "      <td>3.5</td>\n",
       "      <td>21.0</td>\n",
       "      <td>32.3</td>\n",
       "      <td>32.9</td>\n",
       "      <td>30.1</td>\n",
       "      <td>950.9</td>\n",
       "      <td>951.1</td>\n",
       "      <td>951.184</td>\n",
       "      <td>1010.1</td>\n",
       "      <td>1012.0</td>\n",
       "      <td>22.615152</td>\n",
       "      <td>-1.7</td>\n",
       "      <td>0.4</td>\n",
       "      <td>1.0</td>\n",
       "    </tr>\n",
       "    <tr>\n",
       "      <th>6</th>\n",
       "      <td>2019-01-01 01:06:00</td>\n",
       "      <td>21.7</td>\n",
       "      <td>3.3</td>\n",
       "      <td>21.0</td>\n",
       "      <td>32.3</td>\n",
       "      <td>32.9</td>\n",
       "      <td>29.7</td>\n",
       "      <td>950.9</td>\n",
       "      <td>951.0</td>\n",
       "      <td>951.184</td>\n",
       "      <td>1010.1</td>\n",
       "      <td>1011.9</td>\n",
       "      <td>22.601493</td>\n",
       "      <td>-1.7</td>\n",
       "      <td>0.4</td>\n",
       "      <td>0.8</td>\n",
       "    </tr>\n",
       "    <tr>\n",
       "      <th>7</th>\n",
       "      <td>2019-01-01 01:07:00</td>\n",
       "      <td>21.8</td>\n",
       "      <td>3.3</td>\n",
       "      <td>21.0</td>\n",
       "      <td>32.3</td>\n",
       "      <td>32.9</td>\n",
       "      <td>29.7</td>\n",
       "      <td>951.0</td>\n",
       "      <td>951.1</td>\n",
       "      <td>951.184</td>\n",
       "      <td>1010.1</td>\n",
       "      <td>1012.0</td>\n",
       "      <td>22.589706</td>\n",
       "      <td>-1.6</td>\n",
       "      <td>0.6</td>\n",
       "      <td>0.7</td>\n",
       "    </tr>\n",
       "    <tr>\n",
       "      <th>8</th>\n",
       "      <td>2019-01-01 01:08:00</td>\n",
       "      <td>21.8</td>\n",
       "      <td>3.3</td>\n",
       "      <td>21.0</td>\n",
       "      <td>32.3</td>\n",
       "      <td>32.9</td>\n",
       "      <td>29.9</td>\n",
       "      <td>951.0</td>\n",
       "      <td>951.1</td>\n",
       "      <td>951.184</td>\n",
       "      <td>1010.1</td>\n",
       "      <td>1012.0</td>\n",
       "      <td>22.578261</td>\n",
       "      <td>-1.6</td>\n",
       "      <td>0.5</td>\n",
       "      <td>1.0</td>\n",
       "    </tr>\n",
       "    <tr>\n",
       "      <th>9</th>\n",
       "      <td>2019-01-01 01:09:00</td>\n",
       "      <td>21.7</td>\n",
       "      <td>3.5</td>\n",
       "      <td>21.0</td>\n",
       "      <td>32.3</td>\n",
       "      <td>32.9</td>\n",
       "      <td>30.1</td>\n",
       "      <td>951.0</td>\n",
       "      <td>951.2</td>\n",
       "      <td>951.184</td>\n",
       "      <td>1010.2</td>\n",
       "      <td>1012.1</td>\n",
       "      <td>22.565714</td>\n",
       "      <td>-1.6</td>\n",
       "      <td>0.5</td>\n",
       "      <td>1.1</td>\n",
       "    </tr>\n",
       "  </tbody>\n",
       "</table>\n",
       "</div>"
      ],
      "text/plain": [
       "               momento    ts   td  tMin12Horas  tMax12Horas  tMin24Horas  \\\n",
       "0  2019-01-01 01:00:00  21.9  3.5         21.0         32.3         32.9   \n",
       "1  2019-01-01 01:01:00  21.8  3.5         21.0         32.3         32.9   \n",
       "2  2019-01-01 01:02:00  21.8  3.5         21.0         32.3         32.9   \n",
       "3  2019-01-01 01:03:00  21.8  3.6         21.0         32.3         32.9   \n",
       "4  2019-01-01 01:04:00  21.8  3.5         21.0         32.3         32.9   \n",
       "5  2019-01-01 01:05:00  21.7  3.5         21.0         32.3         32.9   \n",
       "6  2019-01-01 01:06:00  21.7  3.3         21.0         32.3         32.9   \n",
       "7  2019-01-01 01:07:00  21.8  3.3         21.0         32.3         32.9   \n",
       "8  2019-01-01 01:08:00  21.8  3.3         21.0         32.3         32.9   \n",
       "9  2019-01-01 01:09:00  21.7  3.5         21.0         32.3         32.9   \n",
       "\n",
       "     hr     p0   qfe1     qfe2     qff     qnh  tPromedio24h  deltaTemp1h  \\\n",
       "0  30.0  950.9  951.0  951.184  1010.0  1011.9     22.683607         -1.7   \n",
       "1  30.0  950.9  951.0  951.184  1010.0  1011.9     22.669355         -1.8   \n",
       "2  30.0  950.9  951.2  951.184  1010.2  1012.1     22.655556         -1.8   \n",
       "3  30.1  950.9  951.1  951.184  1010.1  1012.0     22.642187         -1.7   \n",
       "4  30.1  950.9  951.1  951.184  1010.1  1012.0     22.629231         -1.7   \n",
       "5  30.1  950.9  951.1  951.184  1010.1  1012.0     22.615152         -1.7   \n",
       "6  29.7  950.9  951.0  951.184  1010.1  1011.9     22.601493         -1.7   \n",
       "7  29.7  951.0  951.1  951.184  1010.1  1012.0     22.589706         -1.6   \n",
       "8  29.9  951.0  951.1  951.184  1010.1  1012.0     22.578261         -1.6   \n",
       "9  30.1  951.0  951.2  951.184  1010.2  1012.1     22.565714         -1.6   \n",
       "\n",
       "   deltaPresion1h  humedadRelativaCambio  \n",
       "0             0.5                    1.2  \n",
       "1             0.5                    1.2  \n",
       "2             0.5                    1.0  \n",
       "3             0.5                    1.0  \n",
       "4             0.5                    0.9  \n",
       "5             0.4                    1.0  \n",
       "6             0.4                    0.8  \n",
       "7             0.6                    0.7  \n",
       "8             0.5                    1.0  \n",
       "9             0.5                    1.1  "
      ]
     },
     "execution_count": 18,
     "metadata": {},
     "output_type": "execute_result"
    }
   ],
   "source": [
    "# Cargar datos del dataset completo\n",
    "csv_path = \"modelo stefano/dataset_ml.csv\"\n",
    "df = pd.read_csv(csv_path, sep=\";\", decimal=\".\", encoding=\"utf-8\")\n",
    "\n",
    "# Limpiar nombres de columnas\n",
    "df.columns = df.columns.str.strip()\n",
    "\n",
    "print(f\"✅ Datos cargados\")\n",
    "print(f\"   Total de registros: {len(df):,}\")\n",
    "print(f\"   Columnas: {list(df.columns)}\")\n",
    "print(f\"\\n📊 Primeras filas:\")\n",
    "df.head(10)"
   ]
  },
  {
   "cell_type": "markdown",
   "id": "de44497c",
   "metadata": {},
   "source": [
    "## 2. Preparar datos para el modelo"
   ]
  },
  {
   "cell_type": "code",
   "execution_count": 19,
   "id": "e57b0cec",
   "metadata": {},
   "outputs": [
    {
     "name": "stdout",
     "output_type": "stream",
     "text": [
      "✅ Todas las columnas están disponibles\n",
      "\n",
      "✅ Datos preparados\n",
      "   Registros después de limpieza: 3,549,541\n",
      "   Features seleccionadas: ['ts', 'hr', 'p0']\n",
      "   Shape final: (3549541, 3)\n",
      "\n",
      "✅ Datos preparados\n",
      "   Registros después de limpieza: 3,549,541\n",
      "   Features seleccionadas: ['ts', 'hr', 'p0']\n",
      "   Shape final: (3549541, 3)\n"
     ]
    }
   ],
   "source": [
    "# Seleccionar solo las 3 columnas que necesitamos\n",
    "feature_cols = ['ts', 'hr', 'p0']\n",
    "\n",
    "# Verificar que las columnas existan\n",
    "missing = [col for col in feature_cols if col not in df.columns]\n",
    "if missing:\n",
    "    print(f\"❌ Columnas faltantes: {missing}\")\n",
    "    print(f\"   Columnas disponibles: {list(df.columns)}\")\n",
    "else:\n",
    "    print(f\"✅ Todas las columnas están disponibles\")\n",
    "\n",
    "# Extraer solo las columnas seleccionadas\n",
    "df_selected = df[feature_cols].copy()\n",
    "\n",
    "# Convertir a numérico y limpiar valores inválidos\n",
    "df_selected = df_selected.apply(pd.to_numeric, errors='coerce')\n",
    "df_selected = df_selected.replace([np.inf, -np.inf], np.nan).dropna()\n",
    "\n",
    "print(f\"\\n✅ Datos preparados\")\n",
    "print(f\"   Registros después de limpieza: {len(df_selected):,}\")\n",
    "print(f\"   Features seleccionadas: {feature_cols}\")\n",
    "\n",
    "# Extraer datos numéricos\n",
    "data = df_selected.values\n",
    "\n",
    "print(f\"   Shape final: {data.shape}\")"
   ]
  },
  {
   "cell_type": "code",
   "execution_count": 20,
   "id": "d285104c",
   "metadata": {},
   "outputs": [
    {
     "name": "stdout",
     "output_type": "stream",
     "text": [
      "📈 Estadísticas de las variables seleccionadas:\n"
     ]
    },
    {
     "data": {
      "text/html": [
       "<div>\n",
       "<style scoped>\n",
       "    .dataframe tbody tr th:only-of-type {\n",
       "        vertical-align: middle;\n",
       "    }\n",
       "\n",
       "    .dataframe tbody tr th {\n",
       "        vertical-align: top;\n",
       "    }\n",
       "\n",
       "    .dataframe thead th {\n",
       "        text-align: right;\n",
       "    }\n",
       "</style>\n",
       "<table border=\"1\" class=\"dataframe\">\n",
       "  <thead>\n",
       "    <tr style=\"text-align: right;\">\n",
       "      <th></th>\n",
       "      <th>ts</th>\n",
       "      <th>hr</th>\n",
       "      <th>p0</th>\n",
       "    </tr>\n",
       "  </thead>\n",
       "  <tbody>\n",
       "    <tr>\n",
       "      <th>count</th>\n",
       "      <td>3.549541e+06</td>\n",
       "      <td>3.549541e+06</td>\n",
       "      <td>3.549541e+06</td>\n",
       "    </tr>\n",
       "    <tr>\n",
       "      <th>mean</th>\n",
       "      <td>1.659037e+01</td>\n",
       "      <td>5.948897e+01</td>\n",
       "      <td>9.554909e+02</td>\n",
       "    </tr>\n",
       "    <tr>\n",
       "      <th>std</th>\n",
       "      <td>7.806034e+00</td>\n",
       "      <td>2.397927e+01</td>\n",
       "      <td>3.352694e+00</td>\n",
       "    </tr>\n",
       "    <tr>\n",
       "      <th>min</th>\n",
       "      <td>-2.500000e+00</td>\n",
       "      <td>6.300000e+00</td>\n",
       "      <td>8.538363e+02</td>\n",
       "    </tr>\n",
       "    <tr>\n",
       "      <th>25%</th>\n",
       "      <td>1.040000e+01</td>\n",
       "      <td>3.540000e+01</td>\n",
       "      <td>9.531000e+02</td>\n",
       "    </tr>\n",
       "    <tr>\n",
       "      <th>50%</th>\n",
       "      <td>1.570000e+01</td>\n",
       "      <td>5.890000e+01</td>\n",
       "      <td>9.553000e+02</td>\n",
       "    </tr>\n",
       "    <tr>\n",
       "      <th>75%</th>\n",
       "      <td>2.380000e+01</td>\n",
       "      <td>8.070000e+01</td>\n",
       "      <td>9.576000e+02</td>\n",
       "    </tr>\n",
       "    <tr>\n",
       "      <th>max</th>\n",
       "      <td>3.830000e+01</td>\n",
       "      <td>1.000000e+02</td>\n",
       "      <td>9.677000e+02</td>\n",
       "    </tr>\n",
       "  </tbody>\n",
       "</table>\n",
       "</div>"
      ],
      "text/plain": [
       "                 ts            hr            p0\n",
       "count  3.549541e+06  3.549541e+06  3.549541e+06\n",
       "mean   1.659037e+01  5.948897e+01  9.554909e+02\n",
       "std    7.806034e+00  2.397927e+01  3.352694e+00\n",
       "min   -2.500000e+00  6.300000e+00  8.538363e+02\n",
       "25%    1.040000e+01  3.540000e+01  9.531000e+02\n",
       "50%    1.570000e+01  5.890000e+01  9.553000e+02\n",
       "75%    2.380000e+01  8.070000e+01  9.576000e+02\n",
       "max    3.830000e+01  1.000000e+02  9.677000e+02"
      ]
     },
     "execution_count": 20,
     "metadata": {},
     "output_type": "execute_result"
    }
   ],
   "source": [
    "# Estadísticas descriptivas de las 3 variables\n",
    "print(\"📈 Estadísticas de las variables seleccionadas:\")\n",
    "df_selected.describe()"
   ]
  },
  {
   "cell_type": "code",
   "execution_count": 21,
   "id": "9220988e",
   "metadata": {},
   "outputs": [
    {
     "data": {
      "image/png": "[encoded data removed]",
      "text/plain": [
       "<Figure size 1500x1000 with 3 Axes>"
      ]
     },
     "metadata": {},
     "output_type": "display_data"
    },
    {
     "name": "stdout",
     "output_type": "stream",
     "text": [
      "📊 Visualización de las primeras 1000 muestras de las 3 variables\n"
     ]
    }
   ],
   "source": [
    "# Visualizar distribución de las 3 variables\n",
    "fig, axes = plt.subplots(3, 1, figsize=(15, 10))\n",
    "\n",
    "# Temperatura seca (ts)\n",
    "axes[0].plot(df_selected['ts'][:1000], label='Temperatura Seca (ts)', color='red', alpha=0.7, linewidth=1.5)\n",
    "axes[0].set_ylabel('Temperatura (°C)', fontsize=12)\n",
    "axes[0].set_title('Temperatura del Aire Seco', fontsize=14, fontweight='bold')\n",
    "axes[0].legend()\n",
    "axes[0].grid(True, alpha=0.3)\n",
    "\n",
    "# Humedad relativa (hr)\n",
    "axes[1].plot(df_selected['hr'][:1000], label='Humedad Relativa (hr)', color='blue', alpha=0.7, linewidth=1.5)\n",
    "axes[1].set_ylabel('Humedad (%)', fontsize=12)\n",
    "axes[1].set_title('Humedad Relativa del Aire', fontsize=14, fontweight='bold')\n",
    "axes[1].legend()\n",
    "axes[1].grid(True, alpha=0.3)\n",
    "\n",
    "# Presión (p0)\n",
    "axes[2].plot(df_selected['p0'][:1000], label='Presión Sensor (p0)', color='green', alpha=0.7, linewidth=1.5)\n",
    "axes[2].set_ylabel('Presión (hPa)', fontsize=12)\n",
    "axes[2].set_xlabel('Índice', fontsize=12)\n",
    "axes[2].set_title('Presión Leída del Sensor', fontsize=14, fontweight='bold')\n",
    "axes[2].legend()\n",
    "axes[2].grid(True, alpha=0.3)\n",
    "\n",
    "plt.tight_layout()\n",
    "plt.show()\n",
    "\n",
    "print(\"📊 Visualización de las primeras 1000 muestras de las 3 variables\")"
   ]
  },
  {
   "cell_type": "code",
   "execution_count": 22,
   "id": "ea8d7848",
   "metadata": {},
   "outputs": [
    {
     "name": "stdout",
     "output_type": "stream",
     "text": [
      "✅ Datos escalados con StandardScaler\n",
      "   Shape escalado: (3549541, 3)\n",
      "   Media de cada feature: [ 16.59037105  59.48897101 955.49092561]\n",
      "   Desviación estándar:   [ 7.80603333 23.97926202  3.35269374]\n",
      "\n",
      "💾 Scaler guardado en: scaler_3_features.pkl\n"
     ]
    }
   ],
   "source": [
    "# Escalado con StandardScaler\n",
    "scaler = StandardScaler()\n",
    "data_scaled = scaler.fit_transform(data)\n",
    "\n",
    "print(\"✅ Datos escalados con StandardScaler\")\n",
    "print(f\"   Shape escalado: {data_scaled.shape}\")\n",
    "print(f\"   Media de cada feature: {scaler.mean_}\")\n",
    "print(f\"   Desviación estándar:   {scaler.scale_}\")\n",
    "\n",
    "# Guardar el scaler para uso futuro\n",
    "scaler_path = \"scaler_3_features.pkl\"\n",
    "joblib.dump(scaler, scaler_path)\n",
    "print(f\"\\n💾 Scaler guardado en: {scaler_path}\")"
   ]
  },
  {
   "cell_type": "markdown",
   "id": "dc052a3d",
   "metadata": {},
   "source": [
    "## 3. Crear secuencias para LSTM"
   ]
  },
  {
   "cell_type": "code",
   "execution_count": 23,
   "id": "b8a5b808",
   "metadata": {},
   "outputs": [
    {
     "name": "stdout",
     "output_type": "stream",
     "text": [
      "✅ Secuencias creadas\n",
      "   X shape: (3549517, 24, 3) (secuencias, timesteps, features)\n",
      "   y shape: (3549517,) (secuencias,)\n",
      "   Timesteps: 24\n",
      "   Features por timestep: 3 (ts, hr, p0)\n",
      "   Prediciendo: ts (Temperatura del Aire Seco)\n"
     ]
    }
   ],
   "source": [
    "def crear_secuencias(datos, n_pasos, columna_objetivo=0):\n",
    "    \"\"\"\n",
    "    Crea secuencias de tiempo para entrenar el LSTM.\n",
    "    \n",
    "    Args:\n",
    "        datos: Array con los datos escalados (n_samples, n_features)\n",
    "        n_pasos: Número de timesteps en cada secuencia\n",
    "        columna_objetivo: Índice de la columna a predecir (0 = ts)\n",
    "    \n",
    "    Returns:\n",
    "        X: Secuencias de entrada (n_sequences, n_pasos, n_features)\n",
    "        y: Valores objetivo (n_sequences,) - temperatura del siguiente paso\n",
    "    \"\"\"\n",
    "    X, y = [], []\n",
    "    for i in range(n_pasos, len(datos)):\n",
    "        X.append(datos[i - n_pasos:i])  # Ventana de n_pasos\n",
    "        y.append(datos[i, columna_objetivo])  # Temperatura ts del siguiente paso\n",
    "    return np.array(X), np.array(y)\n",
    "\n",
    "# Configuración\n",
    "n_pasos = 24  # Usar las últimas 24 observaciones para predecir la siguiente\n",
    "columna_ts = 0  # ts es la primera columna (índice 0)\n",
    "\n",
    "X, y = crear_secuencias(data_scaled, n_pasos, columna_ts)\n",
    "\n",
    "print(f\"✅ Secuencias creadas\")\n",
    "print(f\"   X shape: {X.shape} (secuencias, timesteps, features)\")\n",
    "print(f\"   y shape: {y.shape} (secuencias,)\")\n",
    "print(f\"   Timesteps: {n_pasos}\")\n",
    "print(f\"   Features por timestep: {X.shape[2]} (ts, hr, p0)\")\n",
    "print(f\"   Prediciendo: ts (Temperatura del Aire Seco)\")"
   ]
  },
  {
   "cell_type": "markdown",
   "id": "6e5c5cc4",
   "metadata": {},
   "source": [
    "## 4. Dividir en entrenamiento y validación"
   ]
  },
  {
   "cell_type": "code",
   "execution_count": 24,
   "id": "5d139ea9",
   "metadata": {},
   "outputs": [
    {
     "name": "stdout",
     "output_type": "stream",
     "text": [
      "✅ División completada\n",
      "   Entrenamiento: 2,839,613 secuencias (80%)\n",
      "   Validación:    709,904 secuencias (20%)\n"
     ]
    }
   ],
   "source": [
    "# Dividir datos (80% entrenamiento, 20% validación)\n",
    "split_ratio = 0.8\n",
    "n_train = int(len(X) * split_ratio)\n",
    "\n",
    "X_train, X_val = X[:n_train], X[n_train:]\n",
    "y_train, y_val = y[:n_train], y[n_train:]\n",
    "\n",
    "print(f\"✅ División completada\")\n",
    "print(f\"   Entrenamiento: {len(X_train):,} secuencias ({split_ratio*100:.0f}%)\")\n",
    "print(f\"   Validación:    {len(X_val):,} secuencias ({(1-split_ratio)*100:.0f}%)\")"
   ]
  },
  {
   "cell_type": "markdown",
   "id": "e2a4c5d0",
   "metadata": {},
   "source": [
    "## 5. Construir el modelo LSTM"
   ]
  },
  {
   "cell_type": "code",
   "execution_count": 25,
   "id": "b2d1240e",
   "metadata": {},
   "outputs": [
    {
     "name": "stdout",
     "output_type": "stream",
     "text": [
      "✅ Modelo construido\n"
     ]
    },
    {
     "data": {
      "text/html": [
       "<pre style=\"white-space:pre;overflow-x:auto;line-height:normal;font-family:Menlo,'DejaVu Sans Mono',consolas,'Courier New',monospace\"><span style=\"font-weight: bold\">Model: \"sequential_1\"</span>\n",
       "</pre>\n"
      ],
      "text/plain": [
       "\u001b[1mModel: \"sequential_1\"\u001b[0m\n"
      ]
     },
     "metadata": {},
     "output_type": "display_data"
    },
    {
     "data": {
      "text/html": [
       "<pre style=\"white-space:pre;overflow-x:auto;line-height:normal;font-family:Menlo,'DejaVu Sans Mono',consolas,'Courier New',monospace\">┏━━━━━━━━━━━━━━━━━━━━━━━━━━━━━━━━━┳━━━━━━━━━━━━━━━━━━━━━━━━┳━━━━━━━━━━━━━━━┓\n",
       "┃<span style=\"font-weight: bold\"> Layer (type)                    </span>┃<span style=\"font-weight: bold\"> Output Shape           </span>┃<span style=\"font-weight: bold\">       Param # </span>┃\n",
       "┡━━━━━━━━━━━━━━━━━━━━━━━━━━━━━━━━━╇━━━━━━━━━━━━━━━━━━━━━━━━╇━━━━━━━━━━━━━━━┩\n",
       "│ lstm_2 (<span style=\"color: #0087ff; text-decoration-color: #0087ff\">LSTM</span>)                   │ (<span style=\"color: #00d7ff; text-decoration-color: #00d7ff\">None</span>, <span style=\"color: #00af00; text-decoration-color: #00af00\">24</span>, <span style=\"color: #00af00; text-decoration-color: #00af00\">128</span>)        │        <span style=\"color: #00af00; text-decoration-color: #00af00\">67,584</span> │\n",
       "├─────────────────────────────────┼────────────────────────┼───────────────┤\n",
       "│ dropout_2 (<span style=\"color: #0087ff; text-decoration-color: #0087ff\">Dropout</span>)             │ (<span style=\"color: #00d7ff; text-decoration-color: #00d7ff\">None</span>, <span style=\"color: #00af00; text-decoration-color: #00af00\">24</span>, <span style=\"color: #00af00; text-decoration-color: #00af00\">128</span>)        │             <span style=\"color: #00af00; text-decoration-color: #00af00\">0</span> │\n",
       "├─────────────────────────────────┼────────────────────────┼───────────────┤\n",
       "│ lstm_3 (<span style=\"color: #0087ff; text-decoration-color: #0087ff\">LSTM</span>)                   │ (<span style=\"color: #00d7ff; text-decoration-color: #00d7ff\">None</span>, <span style=\"color: #00af00; text-decoration-color: #00af00\">64</span>)             │        <span style=\"color: #00af00; text-decoration-color: #00af00\">49,408</span> │\n",
       "├─────────────────────────────────┼────────────────────────┼───────────────┤\n",
       "│ dropout_3 (<span style=\"color: #0087ff; text-decoration-color: #0087ff\">Dropout</span>)             │ (<span style=\"color: #00d7ff; text-decoration-color: #00d7ff\">None</span>, <span style=\"color: #00af00; text-decoration-color: #00af00\">64</span>)             │             <span style=\"color: #00af00; text-decoration-color: #00af00\">0</span> │\n",
       "├─────────────────────────────────┼────────────────────────┼───────────────┤\n",
       "│ dense_1 (<span style=\"color: #0087ff; text-decoration-color: #0087ff\">Dense</span>)                 │ (<span style=\"color: #00d7ff; text-decoration-color: #00d7ff\">None</span>, <span style=\"color: #00af00; text-decoration-color: #00af00\">1</span>)              │            <span style=\"color: #00af00; text-decoration-color: #00af00\">65</span> │\n",
       "└─────────────────────────────────┴────────────────────────┴───────────────┘\n",
       "</pre>\n"
      ],
      "text/plain": [
       "┏━━━━━━━━━━━━━━━━━━━━━━━━━━━━━━━━━┳━━━━━━━━━━━━━━━━━━━━━━━━┳━━━━━━━━━━━━━━━┓\n",
       "┃\u001b[1m \u001b[0m\u001b[1mLayer (type)                   \u001b[0m\u001b[1m \u001b[0m┃\u001b[1m \u001b[0m\u001b[1mOutput Shape          \u001b[0m\u001b[1m \u001b[0m┃\u001b[1m \u001b[0m\u001b[1m      Param #\u001b[0m\u001b[1m \u001b[0m┃\n",
       "┡━━━━━━━━━━━━━━━━━━━━━━━━━━━━━━━━━╇━━━━━━━━━━━━━━━━━━━━━━━━╇━━━━━━━━━━━━━━━┩\n",
       "│ lstm_2 (\u001b[38;5;33mLSTM\u001b[0m)                   │ (\u001b[38;5;45mNone\u001b[0m, \u001b[38;5;34m24\u001b[0m, \u001b[38;5;34m128\u001b[0m)        │        \u001b[38;5;34m67,584\u001b[0m │\n",
       "├─────────────────────────────────┼────────────────────────┼───────────────┤\n",
       "│ dropout_2 (\u001b[38;5;33mDropout\u001b[0m)             │ (\u001b[38;5;45mNone\u001b[0m, \u001b[38;5;34m24\u001b[0m, \u001b[38;5;34m128\u001b[0m)        │             \u001b[38;5;34m0\u001b[0m │\n",
       "├─────────────────────────────────┼────────────────────────┼───────────────┤\n",
       "│ lstm_3 (\u001b[38;5;33mLSTM\u001b[0m)                   │ (\u001b[38;5;45mNone\u001b[0m, \u001b[38;5;34m64\u001b[0m)             │        \u001b[38;5;34m49,408\u001b[0m │\n",
       "├─────────────────────────────────┼────────────────────────┼───────────────┤\n",
       "│ dropout_3 (\u001b[38;5;33mDropout\u001b[0m)             │ (\u001b[38;5;45mNone\u001b[0m, \u001b[38;5;34m64\u001b[0m)             │             \u001b[38;5;34m0\u001b[0m │\n",
       "├─────────────────────────────────┼────────────────────────┼───────────────┤\n",
       "│ dense_1 (\u001b[38;5;33mDense\u001b[0m)                 │ (\u001b[38;5;45mNone\u001b[0m, \u001b[38;5;34m1\u001b[0m)              │            \u001b[38;5;34m65\u001b[0m │\n",
       "└─────────────────────────────────┴────────────────────────┴───────────────┘\n"
      ]
     },
     "metadata": {},
     "output_type": "display_data"
    },
    {
     "data": {
      "text/html": [
       "<pre style=\"white-space:pre;overflow-x:auto;line-height:normal;font-family:Menlo,'DejaVu Sans Mono',consolas,'Courier New',monospace\"><span style=\"font-weight: bold\"> Total params: </span><span style=\"color: #00af00; text-decoration-color: #00af00\">117,057</span> (457.25 KB)\n",
       "</pre>\n"
      ],
      "text/plain": [
       "\u001b[1m Total params: \u001b[0m\u001b[38;5;34m117,057\u001b[0m (457.25 KB)\n"
      ]
     },
     "metadata": {},
     "output_type": "display_data"
    },
    {
     "data": {
      "text/html": [
       "<pre style=\"white-space:pre;overflow-x:auto;line-height:normal;font-family:Menlo,'DejaVu Sans Mono',consolas,'Courier New',monospace\"><span style=\"font-weight: bold\"> Trainable params: </span><span style=\"color: #00af00; text-decoration-color: #00af00\">117,057</span> (457.25 KB)\n",
       "</pre>\n"
      ],
      "text/plain": [
       "\u001b[1m Trainable params: \u001b[0m\u001b[38;5;34m117,057\u001b[0m (457.25 KB)\n"
      ]
     },
     "metadata": {},
     "output_type": "display_data"
    },
    {
     "data": {
      "text/html": [
       "<pre style=\"white-space:pre;overflow-x:auto;line-height:normal;font-family:Menlo,'DejaVu Sans Mono',consolas,'Courier New',monospace\"><span style=\"font-weight: bold\"> Non-trainable params: </span><span style=\"color: #00af00; text-decoration-color: #00af00\">0</span> (0.00 B)\n",
       "</pre>\n"
      ],
      "text/plain": [
       "\u001b[1m Non-trainable params: \u001b[0m\u001b[38;5;34m0\u001b[0m (0.00 B)\n"
      ]
     },
     "metadata": {},
     "output_type": "display_data"
    }
   ],
   "source": [
    "# Arquitectura del modelo\n",
    "model = Sequential([\n",
    "    # Primera capa LSTM con 128 unidades\n",
    "    LSTM(128, return_sequences=True, input_shape=(n_pasos, X.shape[2])),\n",
    "    Dropout(0.2),\n",
    "    \n",
    "    # Segunda capa LSTM con 64 unidades\n",
    "    LSTM(64, return_sequences=False),\n",
    "    Dropout(0.2),\n",
    "    \n",
    "    # Capa de salida\n",
    "    Dense(1)  # Predice 1 valor: temperatura del siguiente paso\n",
    "])\n",
    "\n",
    "# Compilar el modelo\n",
    "model.compile(\n",
    "    optimizer=Adam(learning_rate=0.001),\n",
    "    loss='mse',  # Mean Squared Error\n",
    "    metrics=['mae']  # Mean Absolute Error\n",
    ")\n",
    "\n",
    "print(\"✅ Modelo construido\")\n",
    "model.summary()"
   ]
  },
  {
   "cell_type": "markdown",
   "id": "932fefa6",
   "metadata": {},
   "source": [
    "## 6. Entrenar el modelo"
   ]
  },
  {
   "cell_type": "code",
   "execution_count": null,
   "id": "4e54f77d",
   "metadata": {},
   "outputs": [
    {
     "name": "stdout",
     "output_type": "stream",
     "text": [
      "🚀 Iniciando entrenamiento...\n",
      "\n",
      "\u001b[1m79577/88738\u001b[0m \u001b[32m━━━━━━━━━━━━━━━━━\u001b[0m\u001b[37m━━━\u001b[0m \u001b[1m2:30\u001b[0m 16ms/step - loss: 0.0045 - mae: 0.0460"
     ]
    }
   ],
   "source": [
    "# Callbacks\n",
    "early_stop = EarlyStopping(\n",
    "    monitor='val_loss',\n",
    "    patience=10,\n",
    "    restore_best_weights=True,\n",
    "    verbose=1\n",
    ")\n",
    "\n",
    "checkpoint = ModelCheckpoint(\n",
    "    'modelo_lstm_clima_best.h5',\n",
    "    monitor='val_loss',\n",
    "    save_best_only=True,\n",
    "    verbose=1\n",
    ")\n",
    "\n",
    "# Entrenar\n",
    "print(\"🚀 Iniciando entrenamiento...\\n\")\n",
    "history = model.fit(\n",
    "    X_train, y_train,\n",
    "    validation_data=(X_val, y_val),\n",
    "    epochs=1, # Deberian ser mas, pero 1 por el momento para comprobar que funciona\n",
    "    batch_size=32,\n",
    "    callbacks=[early_stop, checkpoint],\n",
    "    verbose=1\n",
    ")\n",
    "\n",
    "print(\"\\n✅ Entrenamiento completado\")"
   ]
  },
  {
   "cell_type": "markdown",
   "id": "ad921ea0",
   "metadata": {},
   "source": [
    "## 7. Visualizar resultados del entrenamiento"
   ]
  },
  {
   "cell_type": "code",
   "execution_count": null,
   "id": "728c3bf0",
   "metadata": {},
   "outputs": [],
   "source": [
    "# Graficar pérdida\n",
    "fig, axes = plt.subplots(1, 2, figsize=(14, 5))\n",
    "\n",
    "# Loss\n",
    "axes[0].plot(history.history['loss'], label='Entrenamiento', linewidth=2)\n",
    "axes[0].plot(history.history['val_loss'], label='Validación', linewidth=2)\n",
    "axes[0].set_title('Pérdida del Modelo (MSE)', fontsize=14)\n",
    "axes[0].set_xlabel('Época')\n",
    "axes[0].set_ylabel('Loss')\n",
    "axes[0].legend()\n",
    "axes[0].grid(True, alpha=0.3)\n",
    "\n",
    "# MAE\n",
    "axes[1].plot(history.history['mae'], label='Entrenamiento', linewidth=2)\n",
    "axes[1].plot(history.history['val_mae'], label='Validación', linewidth=2)\n",
    "axes[1].set_title('Error Absoluto Medio (MAE)', fontsize=14)\n",
    "axes[1].set_xlabel('Época')\n",
    "axes[1].set_ylabel('MAE')\n",
    "axes[1].legend()\n",
    "axes[1].grid(True, alpha=0.3)\n",
    "\n",
    "plt.tight_layout()\n",
    "plt.show()"
   ]
  },
  {
   "cell_type": "markdown",
   "id": "5720a3a2",
   "metadata": {},
   "source": [
    "## 8. Evaluar el modelo"
   ]
  },
  {
   "cell_type": "code",
   "execution_count": null,
   "id": "00a17183",
   "metadata": {},
   "outputs": [],
   "source": [
    "# Evaluar en conjunto de validación\n",
    "loss, mae = model.evaluate(X_val, y_val, verbose=0)\n",
    "\n",
    "print(f\"📊 RESULTADOS EN VALIDACIÓN\")\n",
    "print(f\"   Loss (MSE): {loss:.6f}\")\n",
    "print(f\"   MAE:        {mae:.6f}\")\n",
    "\n",
    "# Hacer predicciones en validación\n",
    "y_pred_scaled = model.predict(X_val, verbose=0)\n",
    "\n",
    "# Invertir escalado para obtener temperaturas reales\n",
    "# Crear array dummy con las 3 features\n",
    "dummy_pred = np.zeros((len(y_pred_scaled), 3))\n",
    "dummy_pred[:, 0] = y_pred_scaled.flatten()  # ts en columna 0\n",
    "y_pred_real = scaler.inverse_transform(dummy_pred)[:, 0]\n",
    "\n",
    "dummy_true = np.zeros((len(y_val), 3))\n",
    "dummy_true[:, 0] = y_val\n",
    "y_true_real = scaler.inverse_transform(dummy_true)[:, 0]\n",
    "\n",
    "# Calcular MAE en escala real\n",
    "mae_real = np.mean(np.abs(y_pred_real - y_true_real))\n",
    "print(f\"\\n🌡️  MAE en escala real: {mae_real:.3f} °C\")"
   ]
  },
  {
   "cell_type": "code",
   "execution_count": null,
   "id": "ed392ac5",
   "metadata": {},
   "outputs": [],
   "source": [
    "# Visualizar predicciones vs valores reales\n",
    "n_samples = 500  # Mostrar solo las primeras 500 predicciones\n",
    "\n",
    "plt.figure(figsize=(15, 6))\n",
    "plt.plot(y_true_real[:n_samples], label='Temperatura Real', linewidth=2, alpha=0.8)\n",
    "plt.plot(y_pred_real[:n_samples], label='Temperatura Predicha', linewidth=2, alpha=0.8)\n",
    "plt.title(f'Predicciones vs Valores Reales (Primeras {n_samples} muestras)', fontsize=14)\n",
    "plt.xlabel('Índice')\n",
    "plt.ylabel('Temperatura (°C)')\n",
    "plt.legend()\n",
    "plt.grid(True, alpha=0.3)\n",
    "plt.tight_layout()\n",
    "plt.show()\n",
    "\n",
    "print(f\"📊 Gráfica de comparación generada\")"
   ]
  },
  {
   "cell_type": "code",
   "execution_count": null,
   "id": "2e0c08da",
   "metadata": {},
   "outputs": [],
   "source": [
    "# Scatter plot: predicho vs real\n",
    "plt.figure(figsize=(8, 8))\n",
    "plt.scatter(y_true_real[:5000], y_pred_real[:5000], alpha=0.3, s=5)\n",
    "plt.plot([y_true_real.min(), y_true_real.max()], \n",
    "         [y_true_real.min(), y_true_real.max()], \n",
    "         'r--', linewidth=2, label='Predicción perfecta')\n",
    "plt.xlabel('Temperatura Real (°C)')\n",
    "plt.ylabel('Temperatura Predicha (°C)')\n",
    "plt.title('Predicciones vs Valores Reales')\n",
    "plt.legend()\n",
    "plt.grid(True, alpha=0.3)\n",
    "plt.axis('equal')\n",
    "plt.tight_layout()\n",
    "plt.show()"
   ]
  },
  {
   "cell_type": "markdown",
   "id": "99d457bc",
   "metadata": {},
   "source": [
    "## 9. Predicción futura"
   ]
  },
  {
   "cell_type": "code",
   "execution_count": null,
   "id": "7e413529",
   "metadata": {},
   "outputs": [],
   "source": [
    "# Usar la última ventana disponible para predecir el siguiente valor\n",
    "ultima_ventana = data_scaled[-n_pasos:].reshape(1, n_pasos, 3)\n",
    "\n",
    "# Predecir\n",
    "siguiente_pred_scaled = model.predict(ultima_ventana, verbose=0)[0][0]\n",
    "\n",
    "# Invertir escalado\n",
    "dummy_siguiente = np.zeros((1, 3))\n",
    "dummy_siguiente[0, 0] = siguiente_pred_scaled\n",
    "siguiente_temp = scaler.inverse_transform(dummy_siguiente)[0, 0]\n",
    "\n",
    "ultima_temp_real = df_selected['ts'].iloc[-1]\n",
    "\n",
    "print(f\"🔮 PREDICCIÓN DEL SIGUIENTE PASO\")\n",
    "print(f\"   Última temperatura real (ts):    {ultima_temp_real:.2f} °C\")\n",
    "print(f\"   Temperatura predicha:            {siguiente_temp:.2f} °C\")\n",
    "print(f\"   Diferencia:                      {siguiente_temp - ultima_temp_real:+.2f} °C\")"
   ]
  },
  {
   "cell_type": "markdown",
   "id": "4cfd2378",
   "metadata": {},
   "source": [
    "## 10. Guardar modelo final"
   ]
  },
  {
   "cell_type": "code",
   "execution_count": null,
   "id": "309d095e",
   "metadata": {},
   "outputs": [],
   "source": [
    "# Guardar el modelo final\n",
    "model_path = \"modelo_lstm_3_features.h5\"\n",
    "model.save(model_path)\n",
    "\n",
    "print(f\"✅ ARCHIVOS GUARDADOS:\")\n",
    "print(f\"   📦 Modelo:  {model_path}\")\n",
    "print(f\"   📦 Scaler:  {scaler_path}\")\n",
    "print(f\"\\n🎉 ¡Entrenamiento completado exitosamente!\")\n",
    "print(f\"\\n📝 Configuración del modelo:\")\n",
    "print(f\"   - Dataset:    dataset_ml.csv\")\n",
    "print(f\"   - Features:   3 columnas (ts, hr, p0)\")\n",
    "print(f\"   - Timesteps:  {n_pasos}\")\n",
    "print(f\"   - MAE:        {mae_real:.3f} °C\")\n",
    "print(f\"   - Objetivo:   Predecir 'ts' (Temperatura del Aire Seco)\")\n",
    "print(f\"\\n💡 Ahora puedes usar el modelo con 'predecir_simple.py'\")"
   ]
  }
 ],
 "metadata": {
  "kernelspec": {
   "display_name": "Python 3",
   "language": "python",
   "name": "python3"
  },
  "language_info": {
   "codemirror_mode": {
    "name": "ipython",
    "version": 3
   },
   "file_extension": ".py",
   "mimetype": "text/x-python",
   "name": "python",
   "nbconvert_exporter": "python",
   "pygments_lexer": "ipython3",
   "version": "3.13.3"
  }
 },
 "nbformat": 4,
 "nbformat_minor": 5
}
