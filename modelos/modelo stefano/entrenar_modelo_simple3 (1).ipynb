{
  "cells": [
    {
      "cell_type": "markdown",
      "metadata": {
        "id": "2FV5vR7TXlAF"
      },
      "source": [
        "Entrenamiento de Modelo LSTM para Predicción de Temperatura\n",
        "Usando 3 features del dataset meteorológico\n",
        "Este notebook entrena un modelo LSTM usando solo 4 columnas del dataset_ml.csv:\n",
        "\n",
        "Features seleccionadas:\n",
        "\n",
        "ts: Temperatura del Aire Seco (°C) → [OBJETIVO A PREDECIR]\n",
        "hr: Humedad Relativa del aire (%)\n",
        "p0: Presión leída del sensor (hPa)\n",
        "Tambien utilizar momento a lo que se refiere a la hora\n",
        "Este enfoque simplificado permite:\n",
        "\n",
        "✅ Entrenamiento más rápido\n",
        "✅ Modelo más ligero\n",
        "✅ Fácil de mapear con datos de Arduino (temperatura, humedad, presión)\n",
        "✅ Menos riesgo de overfitting"
      ]
    },
    {
      "cell_type": "markdown",
      "metadata": {
        "id": "dnX1KL4-X1Z6"
      },
      "source": [
        "1. Cargar y explorar datos"
      ]
    },
    {
      "cell_type": "markdown",
      "metadata": {
        "id": "1V2tpgzWhLkN"
      },
      "source": [
        "==================================================\n",
        "MODELO CLIMÁTICO LIGERO (TensorFlow Lite + Raspberry Pi)\n",
        "=================================================="
      ]
    },
    {
      "cell_type": "code",
      "execution_count": null,
      "metadata": {
        "id": "kse6ggyBc79h"
      },
      "outputs": [],
      "source": [
        "import pandas as pd\n",
        "import numpy as np\n",
        "import matplotlib.pyplot as plt\n",
        "import seaborn as sns\n",
        "from sklearn.preprocessing import StandardScaler\n",
        "from tensorflow.keras.models import Sequential\n",
        "from tensorflow.keras.layers import LSTM, Dense, Dropout\n",
        "from tensorflow.keras.callbacks import EarlyStopping, ModelCheckpoint\n",
        "from tensorflow.keras.optimizers import Adam\n",
        "from sklearn.metrics import mean_absolute_error, mean_squared_error, r2_score\n",
        "import tensorflow as tf\n",
        "import joblib\n",
        "import warnings\n",
        "warnings.filterwarnings('ignore')"
      ]
    },
    {
      "cell_type": "code",
      "execution_count": 3,
      "metadata": {
        "colab": {
          "base_uri": "https://localhost:8080/",
          "height": 455
        },
        "id": "FL8q-voYshL7",
        "outputId": "847f9fed-583e-4bc7-fe0f-d02ab8d4265c"
      },
      "outputs": [
        {
          "output_type": "stream",
          "name": "stdout",
          "text": [
            "✅ Datos cargados\n",
            "   Total de registros: 3,549,541\n",
            "   Columnas: ['momento', 'ts', 'td', 'tMin12Horas', 'tMax12Horas', 'tMin24Horas', 'hr', 'p0', 'qfe1', 'qfe2', 'qff', 'qnh', 'tPromedio24h', 'deltaTemp1h', 'deltaPresion1h', 'humedadRelativaCambio']\n",
            "\n",
            "📊 Primeras filas:\n"
          ]
        },
        {
          "output_type": "execute_result",
          "data": {
            "text/plain": [
              "               momento    ts   td  tMin12Horas  tMax12Horas  tMin24Horas  \\\n",
              "0  2019-01-01 01:00:00  21.9  3.5         21.0         32.3         32.9   \n",
              "1  2019-01-01 01:01:00  21.8  3.5         21.0         32.3         32.9   \n",
              "2  2019-01-01 01:02:00  21.8  3.5         21.0         32.3         32.9   \n",
              "3  2019-01-01 01:03:00  21.8  3.6         21.0         32.3         32.9   \n",
              "4  2019-01-01 01:04:00  21.8  3.5         21.0         32.3         32.9   \n",
              "5  2019-01-01 01:05:00  21.7  3.5         21.0         32.3         32.9   \n",
              "6  2019-01-01 01:06:00  21.7  3.3         21.0         32.3         32.9   \n",
              "7  2019-01-01 01:07:00  21.8  3.3         21.0         32.3         32.9   \n",
              "8  2019-01-01 01:08:00  21.8  3.3         21.0         32.3         32.9   \n",
              "9  2019-01-01 01:09:00  21.7  3.5         21.0         32.3         32.9   \n",
              "\n",
              "     hr     p0   qfe1     qfe2     qff     qnh  tPromedio24h  deltaTemp1h  \\\n",
              "0  30.0  950.9  951.0  951.184  1010.0  1011.9     22.683607         -1.7   \n",
              "1  30.0  950.9  951.0  951.184  1010.0  1011.9     22.669355         -1.8   \n",
              "2  30.0  950.9  951.2  951.184  1010.2  1012.1     22.655556         -1.8   \n",
              "3  30.1  950.9  951.1  951.184  1010.1  1012.0     22.642187         -1.7   \n",
              "4  30.1  950.9  951.1  951.184  1010.1  1012.0     22.629231         -1.7   \n",
              "5  30.1  950.9  951.1  951.184  1010.1  1012.0     22.615152         -1.7   \n",
              "6  29.7  950.9  951.0  951.184  1010.1  1011.9     22.601493         -1.7   \n",
              "7  29.7  951.0  951.1  951.184  1010.1  1012.0     22.589706         -1.6   \n",
              "8  29.9  951.0  951.1  951.184  1010.1  1012.0     22.578261         -1.6   \n",
              "9  30.1  951.0  951.2  951.184  1010.2  1012.1     22.565714         -1.6   \n",
              "\n",
              "   deltaPresion1h  humedadRelativaCambio  \n",
              "0             0.5                    1.2  \n",
              "1             0.5                    1.2  \n",
              "2             0.5                    1.0  \n",
              "3             0.5                    1.0  \n",
              "4             0.5                    0.9  \n",
              "5             0.4                    1.0  \n",
              "6             0.4                    0.8  \n",
              "7             0.6                    0.7  \n",
              "8             0.5                    1.0  \n",
              "9             0.5                    1.1  "
            ],
            "text/html": [
              "\n",
              "  <div id=\"df-b90c8381-0f09-4b4a-bcc0-bbbed37f11a5\" class=\"colab-df-container\">\n",
              "    <div>\n",
              "<style scoped>\n",
              "    .dataframe tbody tr th:only-of-type {\n",
              "        vertical-align: middle;\n",
              "    }\n",
              "\n",
              "    .dataframe tbody tr th {\n",
              "        vertical-align: top;\n",
              "    }\n",
              "\n",
              "    .dataframe thead th {\n",
              "        text-align: right;\n",
              "    }\n",
              "</style>\n",
              "<table border=\"1\" class=\"dataframe\">\n",
              "  <thead>\n",
              "    <tr style=\"text-align: right;\">\n",
              "      <th></th>\n",
              "      <th>momento</th>\n",
              "      <th>ts</th>\n",
              "      <th>td</th>\n",
              "      <th>tMin12Horas</th>\n",
              "      <th>tMax12Horas</th>\n",
              "      <th>tMin24Horas</th>\n",
              "      <th>hr</th>\n",
              "      <th>p0</th>\n",
              "      <th>qfe1</th>\n",
              "      <th>qfe2</th>\n",
              "      <th>qff</th>\n",
              "      <th>qnh</th>\n",
              "      <th>tPromedio24h</th>\n",
              "      <th>deltaTemp1h</th>\n",
              "      <th>deltaPresion1h</th>\n",
              "      <th>humedadRelativaCambio</th>\n",
              "    </tr>\n",
              "  </thead>\n",
              "  <tbody>\n",
              "    <tr>\n",
              "      <th>0</th>\n",
              "      <td>2019-01-01 01:00:00</td>\n",
              "      <td>21.9</td>\n",
              "      <td>3.5</td>\n",
              "      <td>21.0</td>\n",
              "      <td>32.3</td>\n",
              "      <td>32.9</td>\n",
              "      <td>30.0</td>\n",
              "      <td>950.9</td>\n",
              "      <td>951.0</td>\n",
              "      <td>951.184</td>\n",
              "      <td>1010.0</td>\n",
              "      <td>1011.9</td>\n",
              "      <td>22.683607</td>\n",
              "      <td>-1.7</td>\n",
              "      <td>0.5</td>\n",
              "      <td>1.2</td>\n",
              "    </tr>\n",
              "    <tr>\n",
              "      <th>1</th>\n",
              "      <td>2019-01-01 01:01:00</td>\n",
              "      <td>21.8</td>\n",
              "      <td>3.5</td>\n",
              "      <td>21.0</td>\n",
              "      <td>32.3</td>\n",
              "      <td>32.9</td>\n",
              "      <td>30.0</td>\n",
              "      <td>950.9</td>\n",
              "      <td>951.0</td>\n",
              "      <td>951.184</td>\n",
              "      <td>1010.0</td>\n",
              "      <td>1011.9</td>\n",
              "      <td>22.669355</td>\n",
              "      <td>-1.8</td>\n",
              "      <td>0.5</td>\n",
              "      <td>1.2</td>\n",
              "    </tr>\n",
              "    <tr>\n",
              "      <th>2</th>\n",
              "      <td>2019-01-01 01:02:00</td>\n",
              "      <td>21.8</td>\n",
              "      <td>3.5</td>\n",
              "      <td>21.0</td>\n",
              "      <td>32.3</td>\n",
              "      <td>32.9</td>\n",
              "      <td>30.0</td>\n",
              "      <td>950.9</td>\n",
              "      <td>951.2</td>\n",
              "      <td>951.184</td>\n",
              "      <td>1010.2</td>\n",
              "      <td>1012.1</td>\n",
              "      <td>22.655556</td>\n",
              "      <td>-1.8</td>\n",
              "      <td>0.5</td>\n",
              "      <td>1.0</td>\n",
              "    </tr>\n",
              "    <tr>\n",
              "      <th>3</th>\n",
              "      <td>2019-01-01 01:03:00</td>\n",
              "      <td>21.8</td>\n",
              "      <td>3.6</td>\n",
              "      <td>21.0</td>\n",
              "      <td>32.3</td>\n",
              "      <td>32.9</td>\n",
              "      <td>30.1</td>\n",
              "      <td>950.9</td>\n",
              "      <td>951.1</td>\n",
              "      <td>951.184</td>\n",
              "      <td>1010.1</td>\n",
              "      <td>1012.0</td>\n",
              "      <td>22.642187</td>\n",
              "      <td>-1.7</td>\n",
              "      <td>0.5</td>\n",
              "      <td>1.0</td>\n",
              "    </tr>\n",
              "    <tr>\n",
              "      <th>4</th>\n",
              "      <td>2019-01-01 01:04:00</td>\n",
              "      <td>21.8</td>\n",
              "      <td>3.5</td>\n",
              "      <td>21.0</td>\n",
              "      <td>32.3</td>\n",
              "      <td>32.9</td>\n",
              "      <td>30.1</td>\n",
              "      <td>950.9</td>\n",
              "      <td>951.1</td>\n",
              "      <td>951.184</td>\n",
              "      <td>1010.1</td>\n",
              "      <td>1012.0</td>\n",
              "      <td>22.629231</td>\n",
              "      <td>-1.7</td>\n",
              "      <td>0.5</td>\n",
              "      <td>0.9</td>\n",
              "    </tr>\n",
              "    <tr>\n",
              "      <th>5</th>\n",
              "      <td>2019-01-01 01:05:00</td>\n",
              "      <td>21.7</td>\n",
              "      <td>3.5</td>\n",
              "      <td>21.0</td>\n",
              "      <td>32.3</td>\n",
              "      <td>32.9</td>\n",
              "      <td>30.1</td>\n",
              "      <td>950.9</td>\n",
              "      <td>951.1</td>\n",
              "      <td>951.184</td>\n",
              "      <td>1010.1</td>\n",
              "      <td>1012.0</td>\n",
              "      <td>22.615152</td>\n",
              "      <td>-1.7</td>\n",
              "      <td>0.4</td>\n",
              "      <td>1.0</td>\n",
              "    </tr>\n",
              "    <tr>\n",
              "      <th>6</th>\n",
              "      <td>2019-01-01 01:06:00</td>\n",
              "      <td>21.7</td>\n",
              "      <td>3.3</td>\n",
              "      <td>21.0</td>\n",
              "      <td>32.3</td>\n",
              "      <td>32.9</td>\n",
              "      <td>29.7</td>\n",
              "      <td>950.9</td>\n",
              "      <td>951.0</td>\n",
              "      <td>951.184</td>\n",
              "      <td>1010.1</td>\n",
              "      <td>1011.9</td>\n",
              "      <td>22.601493</td>\n",
              "      <td>-1.7</td>\n",
              "      <td>0.4</td>\n",
              "      <td>0.8</td>\n",
              "    </tr>\n",
              "    <tr>\n",
              "      <th>7</th>\n",
              "      <td>2019-01-01 01:07:00</td>\n",
              "      <td>21.8</td>\n",
              "      <td>3.3</td>\n",
              "      <td>21.0</td>\n",
              "      <td>32.3</td>\n",
              "      <td>32.9</td>\n",
              "      <td>29.7</td>\n",
              "      <td>951.0</td>\n",
              "      <td>951.1</td>\n",
              "      <td>951.184</td>\n",
              "      <td>1010.1</td>\n",
              "      <td>1012.0</td>\n",
              "      <td>22.589706</td>\n",
              "      <td>-1.6</td>\n",
              "      <td>0.6</td>\n",
              "      <td>0.7</td>\n",
              "    </tr>\n",
              "    <tr>\n",
              "      <th>8</th>\n",
              "      <td>2019-01-01 01:08:00</td>\n",
              "      <td>21.8</td>\n",
              "      <td>3.3</td>\n",
              "      <td>21.0</td>\n",
              "      <td>32.3</td>\n",
              "      <td>32.9</td>\n",
              "      <td>29.9</td>\n",
              "      <td>951.0</td>\n",
              "      <td>951.1</td>\n",
              "      <td>951.184</td>\n",
              "      <td>1010.1</td>\n",
              "      <td>1012.0</td>\n",
              "      <td>22.578261</td>\n",
              "      <td>-1.6</td>\n",
              "      <td>0.5</td>\n",
              "      <td>1.0</td>\n",
              "    </tr>\n",
              "    <tr>\n",
              "      <th>9</th>\n",
              "      <td>2019-01-01 01:09:00</td>\n",
              "      <td>21.7</td>\n",
              "      <td>3.5</td>\n",
              "      <td>21.0</td>\n",
              "      <td>32.3</td>\n",
              "      <td>32.9</td>\n",
              "      <td>30.1</td>\n",
              "      <td>951.0</td>\n",
              "      <td>951.2</td>\n",
              "      <td>951.184</td>\n",
              "      <td>1010.2</td>\n",
              "      <td>1012.1</td>\n",
              "      <td>22.565714</td>\n",
              "      <td>-1.6</td>\n",
              "      <td>0.5</td>\n",
              "      <td>1.1</td>\n",
              "    </tr>\n",
              "  </tbody>\n",
              "</table>\n",
              "</div>\n",
              "    <div class=\"colab-df-buttons\">\n",
              "\n",
              "  <div class=\"colab-df-container\">\n",
              "    <button class=\"colab-df-convert\" onclick=\"convertToInteractive('df-b90c8381-0f09-4b4a-bcc0-bbbed37f11a5')\"\n",
              "            title=\"Convert this dataframe to an interactive table.\"\n",
              "            style=\"display:none;\">\n",
              "\n",
              "  <svg xmlns=\"http://www.w3.org/2000/svg\" height=\"24px\" viewBox=\"0 -960 960 960\">\n",
              "    <path d=\"M120-120v-720h720v720H120Zm60-500h600v-160H180v160Zm220 220h160v-160H400v160Zm0 220h160v-160H400v160ZM180-400h160v-160H180v160Zm440 0h160v-160H620v160ZM180-180h160v-160H180v160Zm440 0h160v-160H620v160Z\"/>\n",
              "  </svg>\n",
              "    </button>\n",
              "\n",
              "  <style>\n",
              "    .colab-df-container {\n",
              "      display:flex;\n",
              "      gap: 12px;\n",
              "    }\n",
              "\n",
              "    .colab-df-convert {\n",
              "      background-color: #E8F0FE;\n",
              "      border: none;\n",
              "      border-radius: 50%;\n",
              "      cursor: pointer;\n",
              "      display: none;\n",
              "      fill: #1967D2;\n",
              "      height: 32px;\n",
              "      padding: 0 0 0 0;\n",
              "      width: 32px;\n",
              "    }\n",
              "\n",
              "    .colab-df-convert:hover {\n",
              "      background-color: #E2EBFA;\n",
              "      box-shadow: 0px 1px 2px rgba(60, 64, 67, 0.3), 0px 1px 3px 1px rgba(60, 64, 67, 0.15);\n",
              "      fill: #174EA6;\n",
              "    }\n",
              "\n",
              "    .colab-df-buttons div {\n",
              "      margin-bottom: 4px;\n",
              "    }\n",
              "\n",
              "    [theme=dark] .colab-df-convert {\n",
              "      background-color: #3B4455;\n",
              "      fill: #D2E3FC;\n",
              "    }\n",
              "\n",
              "    [theme=dark] .colab-df-convert:hover {\n",
              "      background-color: #434B5C;\n",
              "      box-shadow: 0px 1px 3px 1px rgba(0, 0, 0, 0.15);\n",
              "      filter: drop-shadow(0px 1px 2px rgba(0, 0, 0, 0.3));\n",
              "      fill: #FFFFFF;\n",
              "    }\n",
              "  </style>\n",
              "\n",
              "    <script>\n",
              "      const buttonEl =\n",
              "        document.querySelector('#df-b90c8381-0f09-4b4a-bcc0-bbbed37f11a5 button.colab-df-convert');\n",
              "      buttonEl.style.display =\n",
              "        google.colab.kernel.accessAllowed ? 'block' : 'none';\n",
              "\n",
              "      async function convertToInteractive(key) {\n",
              "        const element = document.querySelector('#df-b90c8381-0f09-4b4a-bcc0-bbbed37f11a5');\n",
              "        const dataTable =\n",
              "          await google.colab.kernel.invokeFunction('convertToInteractive',\n",
              "                                                    [key], {});\n",
              "        if (!dataTable) return;\n",
              "\n",
              "        const docLinkHtml = 'Like what you see? Visit the ' +\n",
              "          '<a target=\"_blank\" href=https://colab.research.google.com/notebooks/data_table.ipynb>data table notebook</a>'\n",
              "          + ' to learn more about interactive tables.';\n",
              "        element.innerHTML = '';\n",
              "        dataTable['output_type'] = 'display_data';\n",
              "        await google.colab.output.renderOutput(dataTable, element);\n",
              "        const docLink = document.createElement('div');\n",
              "        docLink.innerHTML = docLinkHtml;\n",
              "        element.appendChild(docLink);\n",
              "      }\n",
              "    </script>\n",
              "  </div>\n",
              "\n",
              "\n",
              "    <div id=\"df-351715be-2c53-4245-9e6b-51bf257a38ee\">\n",
              "      <button class=\"colab-df-quickchart\" onclick=\"quickchart('df-351715be-2c53-4245-9e6b-51bf257a38ee')\"\n",
              "                title=\"Suggest charts\"\n",
              "                style=\"display:none;\">\n",
              "\n",
              "<svg xmlns=\"http://www.w3.org/2000/svg\" height=\"24px\"viewBox=\"0 0 24 24\"\n",
              "     width=\"24px\">\n",
              "    <g>\n",
              "        <path d=\"M19 3H5c-1.1 0-2 .9-2 2v14c0 1.1.9 2 2 2h14c1.1 0 2-.9 2-2V5c0-1.1-.9-2-2-2zM9 17H7v-7h2v7zm4 0h-2V7h2v10zm4 0h-2v-4h2v4z\"/>\n",
              "    </g>\n",
              "</svg>\n",
              "      </button>\n",
              "\n",
              "<style>\n",
              "  .colab-df-quickchart {\n",
              "      --bg-color: #E8F0FE;\n",
              "      --fill-color: #1967D2;\n",
              "      --hover-bg-color: #E2EBFA;\n",
              "      --hover-fill-color: #174EA6;\n",
              "      --disabled-fill-color: #AAA;\n",
              "      --disabled-bg-color: #DDD;\n",
              "  }\n",
              "\n",
              "  [theme=dark] .colab-df-quickchart {\n",
              "      --bg-color: #3B4455;\n",
              "      --fill-color: #D2E3FC;\n",
              "      --hover-bg-color: #434B5C;\n",
              "      --hover-fill-color: #FFFFFF;\n",
              "      --disabled-bg-color: #3B4455;\n",
              "      --disabled-fill-color: #666;\n",
              "  }\n",
              "\n",
              "  .colab-df-quickchart {\n",
              "    background-color: var(--bg-color);\n",
              "    border: none;\n",
              "    border-radius: 50%;\n",
              "    cursor: pointer;\n",
              "    display: none;\n",
              "    fill: var(--fill-color);\n",
              "    height: 32px;\n",
              "    padding: 0;\n",
              "    width: 32px;\n",
              "  }\n",
              "\n",
              "  .colab-df-quickchart:hover {\n",
              "    background-color: var(--hover-bg-color);\n",
              "    box-shadow: 0 1px 2px rgba(60, 64, 67, 0.3), 0 1px 3px 1px rgba(60, 64, 67, 0.15);\n",
              "    fill: var(--button-hover-fill-color);\n",
              "  }\n",
              "\n",
              "  .colab-df-quickchart-complete:disabled,\n",
              "  .colab-df-quickchart-complete:disabled:hover {\n",
              "    background-color: var(--disabled-bg-color);\n",
              "    fill: var(--disabled-fill-color);\n",
              "    box-shadow: none;\n",
              "  }\n",
              "\n",
              "  .colab-df-spinner {\n",
              "    border: 2px solid var(--fill-color);\n",
              "    border-color: transparent;\n",
              "    border-bottom-color: var(--fill-color);\n",
              "    animation:\n",
              "      spin 1s steps(1) infinite;\n",
              "  }\n",
              "\n",
              "  @keyframes spin {\n",
              "    0% {\n",
              "      border-color: transparent;\n",
              "      border-bottom-color: var(--fill-color);\n",
              "      border-left-color: var(--fill-color);\n",
              "    }\n",
              "    20% {\n",
              "      border-color: transparent;\n",
              "      border-left-color: var(--fill-color);\n",
              "      border-top-color: var(--fill-color);\n",
              "    }\n",
              "    30% {\n",
              "      border-color: transparent;\n",
              "      border-left-color: var(--fill-color);\n",
              "      border-top-color: var(--fill-color);\n",
              "      border-right-color: var(--fill-color);\n",
              "    }\n",
              "    40% {\n",
              "      border-color: transparent;\n",
              "      border-right-color: var(--fill-color);\n",
              "      border-top-color: var(--fill-color);\n",
              "    }\n",
              "    60% {\n",
              "      border-color: transparent;\n",
              "      border-right-color: var(--fill-color);\n",
              "    }\n",
              "    80% {\n",
              "      border-color: transparent;\n",
              "      border-right-color: var(--fill-color);\n",
              "      border-bottom-color: var(--fill-color);\n",
              "    }\n",
              "    90% {\n",
              "      border-color: transparent;\n",
              "      border-bottom-color: var(--fill-color);\n",
              "    }\n",
              "  }\n",
              "</style>\n",
              "\n",
              "      <script>\n",
              "        async function quickchart(key) {\n",
              "          const quickchartButtonEl =\n",
              "            document.querySelector('#' + key + ' button');\n",
              "          quickchartButtonEl.disabled = true;  // To prevent multiple clicks.\n",
              "          quickchartButtonEl.classList.add('colab-df-spinner');\n",
              "          try {\n",
              "            const charts = await google.colab.kernel.invokeFunction(\n",
              "                'suggestCharts', [key], {});\n",
              "          } catch (error) {\n",
              "            console.error('Error during call to suggestCharts:', error);\n",
              "          }\n",
              "          quickchartButtonEl.classList.remove('colab-df-spinner');\n",
              "          quickchartButtonEl.classList.add('colab-df-quickchart-complete');\n",
              "        }\n",
              "        (() => {\n",
              "          let quickchartButtonEl =\n",
              "            document.querySelector('#df-351715be-2c53-4245-9e6b-51bf257a38ee button');\n",
              "          quickchartButtonEl.style.display =\n",
              "            google.colab.kernel.accessAllowed ? 'block' : 'none';\n",
              "        })();\n",
              "      </script>\n",
              "    </div>\n",
              "\n",
              "    </div>\n",
              "  </div>\n"
            ],
            "application/vnd.google.colaboratory.intrinsic+json": {
              "type": "dataframe",
              "variable_name": "df"
            }
          },
          "metadata": {},
          "execution_count": 3
        }
      ],
      "source": [
        "# Cargar datos del dataset completo\n",
        "csv_path = \"dataset_ml.csv\"\n",
        "df = pd.read_csv(csv_path, sep=\";\", decimal=\".\", encoding=\"utf-8\")\n",
        "\n",
        "# Limpiar nombres de columnas\n",
        "df.columns = df.columns.str.strip()\n",
        "\n",
        "print(f\"✅ Datos cargados\")\n",
        "print(f\"   Total de registros: {len(df):,}\")\n",
        "print(f\"   Columnas: {list(df.columns)}\")\n",
        "print(f\"\\n📊 Primeras filas:\")\n",
        "df.head(10)"
      ]
    },
    {
      "cell_type": "code",
      "source": [
        "import pandas as pd\n",
        "\n",
        "# === 1. Cargar el archivo ===\n",
        "df = pd.read_csv(\"dataset_ml.csv\", sep=';', parse_dates=['momento'])  # Ajusta 'momento' si tu columna de fecha se llama diferente\n",
        "\n",
        "# === 2. Verificar si hay datos faltantes ===\n",
        "print(\"Cantidad de datos faltantes por columna antes de rellenar:\")\n",
        "print(df.isna().sum())\n",
        "\n",
        "# === 3. Rellenar datos faltantes con ffill (propagar último valor conocido) ===\n",
        "df.fillna(method='ffill', inplace=True)\n",
        "\n",
        "# Opcional: si los primeros valores siguen siendo NaN, rellenar hacia atrás\n",
        "df.fillna(method='bfill', inplace=True)\n",
        "\n",
        "# === 4. Verificar que ya no haya datos faltantes ===\n",
        "print(\"\\nCantidad de datos faltantes por columna después de rellenar:\")\n",
        "print(df.isna().sum())\n",
        "\n",
        "# === 5. Sobrescribir el mismo archivo ===\n",
        "df.to_csv(\"dataset_ml.csv\", sep=';', index=False)\n",
        "print(\"\\nArchivo original 'dataset_ml.csv' actualizado con datos rellenados.\")\n"
      ],
      "metadata": {
        "colab": {
          "base_uri": "https://localhost:8080/"
        },
        "id": "Aw8_xXCzFrs2",
        "outputId": "576d713c-7c7c-488a-dd2a-dccda32853df"
      },
      "execution_count": 6,
      "outputs": [
        {
          "output_type": "stream",
          "name": "stdout",
          "text": [
            "Cantidad de datos faltantes por columna antes de rellenar:\n",
            "momento                  0\n",
            "ts                       0\n",
            "td                       0\n",
            "tMin12Horas              0\n",
            "tMax12Horas              0\n",
            "tMin24Horas              0\n",
            "hr                       0\n",
            "p0                       0\n",
            "qfe1                     0\n",
            "qfe2                     0\n",
            "qff                      0\n",
            "qnh                      0\n",
            "tPromedio24h             0\n",
            "deltaTemp1h              0\n",
            "deltaPresion1h           0\n",
            "humedadRelativaCambio    0\n",
            "dtype: int64\n",
            "\n",
            "Cantidad de datos faltantes por columna después de rellenar:\n",
            "momento                  0\n",
            "ts                       0\n",
            "td                       0\n",
            "tMin12Horas              0\n",
            "tMax12Horas              0\n",
            "tMin24Horas              0\n",
            "hr                       0\n",
            "p0                       0\n",
            "qfe1                     0\n",
            "qfe2                     0\n",
            "qff                      0\n",
            "qnh                      0\n",
            "tPromedio24h             0\n",
            "deltaTemp1h              0\n",
            "deltaPresion1h           0\n",
            "humedadRelativaCambio    0\n",
            "dtype: int64\n",
            "\n",
            "Archivo original 'dataset_ml.csv' actualizado con datos rellenados.\n"
          ]
        }
      ]
    },
    {
      "cell_type": "markdown",
      "metadata": {
        "id": "t9NZNL3Zc_Ll"
      },
      "source": [
        "=== Cargar dataset ==="
      ]
    },
    {
      "cell_type": "code",
      "execution_count": 7,
      "metadata": {
        "colab": {
          "base_uri": "https://localhost:8080/"
        },
        "id": "f8AiFPkfdBPc",
        "outputId": "8baf97a3-c367-4226-e6de-77da8abae2d3"
      },
      "outputs": [
        {
          "output_type": "stream",
          "name": "stdout",
          "text": [
            "✅ Datos cargados: 3,549,541 registros\n"
          ]
        }
      ],
      "source": [
        "csv_path = \"dataset_ml.csv\"\n",
        "df = pd.read_csv(csv_path, sep=\";\", decimal=\".\", encoding=\"utf-8\")\n",
        "df.columns = df.columns.str.strip()\n",
        "print(f\"✅ Datos cargados: {len(df):,} registros\")"
      ]
    },
    {
      "cell_type": "markdown",
      "metadata": {
        "id": "Cj3wfLMrdDbp"
      },
      "source": [
        "=== Convertir columna 'momento' a datetime ==="
      ]
    },
    {
      "cell_type": "code",
      "execution_count": 8,
      "metadata": {
        "id": "PodlCArVkrEG"
      },
      "outputs": [],
      "source": [
        "df[\"momento\"] = pd.to_datetime(df[\"momento\"], errors=\"coerce\")"
      ]
    },
    {
      "cell_type": "markdown",
      "metadata": {
        "id": "4gPwOPu7k2jb"
      },
      "source": [
        "=== Re-muestrear por hora (promediar cada hora) ==="
      ]
    },
    {
      "cell_type": "code",
      "execution_count": 9,
      "metadata": {
        "colab": {
          "base_uri": "https://localhost:8080/"
        },
        "id": "ca3OrsuNk3yu",
        "outputId": "4ac61a6e-9e73-4a9f-d5df-eb0bebe8022f"
      },
      "outputs": [
        {
          "output_type": "stream",
          "name": "stdout",
          "text": [
            "✅ Datos muestreados por hora\n"
          ]
        }
      ],
      "source": [
        "#=== Re-muestrear por hora (promediar cada hora) ===\n",
        "#df.set_index(\"momento\") Coloca la columna \"momento\" como índice del DataFrame.\n",
        "#.resample(\"1H\")Agrupa los datos en intervalos de 1 hora exacta (por ejemplo: 10:00, 11:00, 12:00, etc.).\n",
        "#.mean() Calcula el promedio de todas las columnas numéricas dentro de cada grupo horario.\n",
        "#.reset_index() Devuelve la columna \"momento\" como columna normal en vez de índice.\n",
        "df = df.set_index(\"momento\").resample(\"1H\").mean().reset_index()\n",
        "print(\"✅ Datos muestreados por hora\")"
      ]
    },
    {
      "cell_type": "code",
      "execution_count": 10,
      "metadata": {
        "id": "VPt4Z8dblAGd"
      },
      "outputs": [],
      "source": [
        "#=== Agregar variables temporales ===\n",
        "\n",
        "df[\"timestamp\"] = df[\"momento\"].astype(np.int64) / 1e9\n",
        "df[\"hora\"] = df[\"momento\"].dt.hour\n",
        "df[\"dia_semana\"] = df[\"momento\"].dt.weekday\n",
        "df[\"mes\"] = df[\"momento\"].dt.month\n"
      ]
    },
    {
      "cell_type": "code",
      "execution_count": 11,
      "metadata": {
        "colab": {
          "base_uri": "https://localhost:8080/"
        },
        "id": "O7H14RcylC2C",
        "outputId": "b821a4d5-97ab-4f57-ef56-5e573bc42a1d"
      },
      "outputs": [
        {
          "output_type": "stream",
          "name": "stdout",
          "text": [
            "✅ Features seleccionadas: ['ts', 'hr', 'p0', 'hora']\n",
            " Total de registros: 59,160\n"
          ]
        }
      ],
      "source": [
        "#=== Seleccionar features ===\n",
        "#=== Seleccionar features ===\n",
        "\n",
        "feature_cols = ['ts', 'hr', 'p0', 'hora']\n",
        "df_selected = df[feature_cols]\n",
        "\n",
        "print(f\"✅ Features seleccionadas: {feature_cols}\")\n",
        "print(f\" Total de registros: {len(df_selected):,}\")\n"
      ]
    },
    {
      "cell_type": "code",
      "execution_count": 12,
      "metadata": {
        "colab": {
          "base_uri": "https://localhost:8080/",
          "height": 625
        },
        "id": "Q09R8eXclLci",
        "outputId": "d808730e-2d3d-433b-9a6a-12c167060f16"
      },
      "outputs": [
        {
          "output_type": "display_data",
          "data": {
            "text/plain": [
              "<Figure size 800x600 with 2 Axes>"
            ],
            "image/png": "[encoded data removed]"
          },
          "metadata": {}
        },
        {
          "output_type": "stream",
          "name": "stdout",
          "text": [
            "✅ Escalado completado y guardado: scaler_ligero.pkl\n"
          ]
        }
      ],
      "source": [
        "#=== Matriz de correlación ===\n",
        "\n",
        "plt.figure(figsize=(8, 6))\n",
        "sns.heatmap(df_selected.corr(), annot=True, cmap='coolwarm', fmt=\".2f\")\n",
        "plt.title(\"🔗 Matriz de correlación entre variables climáticas\")\n",
        "plt.tight_layout()\n",
        "plt.show()\n",
        "\n",
        "#=== Escalado ===\n",
        "\n",
        "scaler = StandardScaler()\n",
        "data_scaled = scaler.fit_transform(df_selected)\n",
        "scaler_path = \"scaler_ligero.pkl\"\n",
        "joblib.dump(scaler, scaler_path)\n",
        "print(f\"✅ Escalado completado y guardado: {scaler_path}\")\n"
      ]
    },
    {
      "cell_type": "code",
      "execution_count": 13,
      "metadata": {
        "colab": {
          "base_uri": "https://localhost:8080/"
        },
        "id": "Bb8Rlr46lSsI",
        "outputId": "4cfda820-c524-4cba-9daf-23ea63e98f5f"
      },
      "outputs": [
        {
          "output_type": "stream",
          "name": "stdout",
          "text": [
            "✅ Secuencias creadas: X=(59136, 24, 4), y=(59136,)\n"
          ]
        }
      ],
      "source": [
        "#=== Crear secuencias ===\n",
        "\n",
        "def crear_secuencias(datos, pasos=24, col_obj=0):\n",
        "  X, y = [], []\n",
        "  for i in range(pasos, len(datos)):\n",
        "    X.append(datos[i-pasos:i])\n",
        "    y.append(datos[i, col_obj])\n",
        "  return np.array(X), np.array(y)\n",
        "\n",
        "n_pasos = 24\n",
        "X, y = crear_secuencias(data_scaled, pasos=n_pasos, col_obj=0)\n",
        "print(f\"✅ Secuencias creadas: X={X.shape}, y={y.shape}\")"
      ]
    },
    {
      "cell_type": "code",
      "execution_count": 14,
      "metadata": {
        "colab": {
          "base_uri": "https://localhost:8080/"
        },
        "id": "laXARuZKlWpt",
        "outputId": "d9323640-1482-4bf7-a605-a2162688a582"
      },
      "outputs": [
        {
          "output_type": "stream",
          "name": "stdout",
          "text": [
            "✅ División de datos:\n",
            " Entrenamiento: 35481\n",
            " Validación: 11827\n",
            " Prueba: 11828\n"
          ]
        }
      ],
      "source": [
        "#=== División 60% / 20% / 20% ===\n",
        "\n",
        "n_total = len(X)\n",
        "n_train = int(n_total * 0.6)\n",
        "n_val = int(n_total * 0.2)\n",
        "\n",
        "X_train, y_train = X[:n_train], y[:n_train]\n",
        "X_val, y_val = X[n_train:n_train+n_val], y[n_train:n_train+n_val]\n",
        "X_test, y_test = X[n_train+n_val:], y[n_train+n_val:]\n",
        "\n",
        "print(f\"✅ División de datos:\")\n",
        "print(f\" Entrenamiento: {len(X_train)}\")\n",
        "print(f\" Validación: {len(X_val)}\")\n",
        "print(f\" Prueba: {len(X_test)}\")"
      ]
    },
    {
      "cell_type": "code",
      "execution_count": 15,
      "metadata": {
        "colab": {
          "base_uri": "https://localhost:8080/",
          "height": 334
        },
        "id": "m7NwRdT9lbdl",
        "outputId": "1b47c428-9594-4a9b-9af0-c943adf8c963"
      },
      "outputs": [
        {
          "output_type": "display_data",
          "data": {
            "text/plain": [
              "\u001b[1mModel: \"sequential\"\u001b[0m\n"
            ],
            "text/html": [
              "<pre style=\"white-space:pre;overflow-x:auto;line-height:normal;font-family:Menlo,'DejaVu Sans Mono',consolas,'Courier New',monospace\"><span style=\"font-weight: bold\">Model: \"sequential\"</span>\n",
              "</pre>\n"
            ]
          },
          "metadata": {}
        },
        {
          "output_type": "display_data",
          "data": {
            "text/plain": [
              "┏━━━━━━━━━━━━━━━━━━━━━━━━━━━━━━━━━┳━━━━━━━━━━━━━━━━━━━━━━━━┳━━━━━━━━━━━━━━━┓\n",
              "┃\u001b[1m \u001b[0m\u001b[1mLayer (type)                   \u001b[0m\u001b[1m \u001b[0m┃\u001b[1m \u001b[0m\u001b[1mOutput Shape          \u001b[0m\u001b[1m \u001b[0m┃\u001b[1m \u001b[0m\u001b[1m      Param #\u001b[0m\u001b[1m \u001b[0m┃\n",
              "┡━━━━━━━━━━━━━━━━━━━━━━━━━━━━━━━━━╇━━━━━━━━━━━━━━━━━━━━━━━━╇━━━━━━━━━━━━━━━┩\n",
              "│ lstm (\u001b[38;5;33mLSTM\u001b[0m)                     │ (\u001b[38;5;45mNone\u001b[0m, \u001b[38;5;34m24\u001b[0m, \u001b[38;5;34m64\u001b[0m)         │        \u001b[38;5;34m17,664\u001b[0m │\n",
              "├─────────────────────────────────┼────────────────────────┼───────────────┤\n",
              "│ dropout (\u001b[38;5;33mDropout\u001b[0m)               │ (\u001b[38;5;45mNone\u001b[0m, \u001b[38;5;34m24\u001b[0m, \u001b[38;5;34m64\u001b[0m)         │             \u001b[38;5;34m0\u001b[0m │\n",
              "├─────────────────────────────────┼────────────────────────┼───────────────┤\n",
              "│ lstm_1 (\u001b[38;5;33mLSTM\u001b[0m)                   │ (\u001b[38;5;45mNone\u001b[0m, \u001b[38;5;34m32\u001b[0m)             │        \u001b[38;5;34m12,416\u001b[0m │\n",
              "├─────────────────────────────────┼────────────────────────┼───────────────┤\n",
              "│ dropout_1 (\u001b[38;5;33mDropout\u001b[0m)             │ (\u001b[38;5;45mNone\u001b[0m, \u001b[38;5;34m32\u001b[0m)             │             \u001b[38;5;34m0\u001b[0m │\n",
              "├─────────────────────────────────┼────────────────────────┼───────────────┤\n",
              "│ dense (\u001b[38;5;33mDense\u001b[0m)                   │ (\u001b[38;5;45mNone\u001b[0m, \u001b[38;5;34m8\u001b[0m)              │           \u001b[38;5;34m264\u001b[0m │\n",
              "├─────────────────────────────────┼────────────────────────┼───────────────┤\n",
              "│ dense_1 (\u001b[38;5;33mDense\u001b[0m)                 │ (\u001b[38;5;45mNone\u001b[0m, \u001b[38;5;34m1\u001b[0m)              │             \u001b[38;5;34m9\u001b[0m │\n",
              "└─────────────────────────────────┴────────────────────────┴───────────────┘\n"
            ],
            "text/html": [
              "<pre style=\"white-space:pre;overflow-x:auto;line-height:normal;font-family:Menlo,'DejaVu Sans Mono',consolas,'Courier New',monospace\">┏━━━━━━━━━━━━━━━━━━━━━━━━━━━━━━━━━┳━━━━━━━━━━━━━━━━━━━━━━━━┳━━━━━━━━━━━━━━━┓\n",
              "┃<span style=\"font-weight: bold\"> Layer (type)                    </span>┃<span style=\"font-weight: bold\"> Output Shape           </span>┃<span style=\"font-weight: bold\">       Param # </span>┃\n",
              "┡━━━━━━━━━━━━━━━━━━━━━━━━━━━━━━━━━╇━━━━━━━━━━━━━━━━━━━━━━━━╇━━━━━━━━━━━━━━━┩\n",
              "│ lstm (<span style=\"color: #0087ff; text-decoration-color: #0087ff\">LSTM</span>)                     │ (<span style=\"color: #00d7ff; text-decoration-color: #00d7ff\">None</span>, <span style=\"color: #00af00; text-decoration-color: #00af00\">24</span>, <span style=\"color: #00af00; text-decoration-color: #00af00\">64</span>)         │        <span style=\"color: #00af00; text-decoration-color: #00af00\">17,664</span> │\n",
              "├─────────────────────────────────┼────────────────────────┼───────────────┤\n",
              "│ dropout (<span style=\"color: #0087ff; text-decoration-color: #0087ff\">Dropout</span>)               │ (<span style=\"color: #00d7ff; text-decoration-color: #00d7ff\">None</span>, <span style=\"color: #00af00; text-decoration-color: #00af00\">24</span>, <span style=\"color: #00af00; text-decoration-color: #00af00\">64</span>)         │             <span style=\"color: #00af00; text-decoration-color: #00af00\">0</span> │\n",
              "├─────────────────────────────────┼────────────────────────┼───────────────┤\n",
              "│ lstm_1 (<span style=\"color: #0087ff; text-decoration-color: #0087ff\">LSTM</span>)                   │ (<span style=\"color: #00d7ff; text-decoration-color: #00d7ff\">None</span>, <span style=\"color: #00af00; text-decoration-color: #00af00\">32</span>)             │        <span style=\"color: #00af00; text-decoration-color: #00af00\">12,416</span> │\n",
              "├─────────────────────────────────┼────────────────────────┼───────────────┤\n",
              "│ dropout_1 (<span style=\"color: #0087ff; text-decoration-color: #0087ff\">Dropout</span>)             │ (<span style=\"color: #00d7ff; text-decoration-color: #00d7ff\">None</span>, <span style=\"color: #00af00; text-decoration-color: #00af00\">32</span>)             │             <span style=\"color: #00af00; text-decoration-color: #00af00\">0</span> │\n",
              "├─────────────────────────────────┼────────────────────────┼───────────────┤\n",
              "│ dense (<span style=\"color: #0087ff; text-decoration-color: #0087ff\">Dense</span>)                   │ (<span style=\"color: #00d7ff; text-decoration-color: #00d7ff\">None</span>, <span style=\"color: #00af00; text-decoration-color: #00af00\">8</span>)              │           <span style=\"color: #00af00; text-decoration-color: #00af00\">264</span> │\n",
              "├─────────────────────────────────┼────────────────────────┼───────────────┤\n",
              "│ dense_1 (<span style=\"color: #0087ff; text-decoration-color: #0087ff\">Dense</span>)                 │ (<span style=\"color: #00d7ff; text-decoration-color: #00d7ff\">None</span>, <span style=\"color: #00af00; text-decoration-color: #00af00\">1</span>)              │             <span style=\"color: #00af00; text-decoration-color: #00af00\">9</span> │\n",
              "└─────────────────────────────────┴────────────────────────┴───────────────┘\n",
              "</pre>\n"
            ]
          },
          "metadata": {}
        },
        {
          "output_type": "display_data",
          "data": {
            "text/plain": [
              "\u001b[1m Total params: \u001b[0m\u001b[38;5;34m30,353\u001b[0m (118.57 KB)\n"
            ],
            "text/html": [
              "<pre style=\"white-space:pre;overflow-x:auto;line-height:normal;font-family:Menlo,'DejaVu Sans Mono',consolas,'Courier New',monospace\"><span style=\"font-weight: bold\"> Total params: </span><span style=\"color: #00af00; text-decoration-color: #00af00\">30,353</span> (118.57 KB)\n",
              "</pre>\n"
            ]
          },
          "metadata": {}
        },
        {
          "output_type": "display_data",
          "data": {
            "text/plain": [
              "\u001b[1m Trainable params: \u001b[0m\u001b[38;5;34m30,353\u001b[0m (118.57 KB)\n"
            ],
            "text/html": [
              "<pre style=\"white-space:pre;overflow-x:auto;line-height:normal;font-family:Menlo,'DejaVu Sans Mono',consolas,'Courier New',monospace\"><span style=\"font-weight: bold\"> Trainable params: </span><span style=\"color: #00af00; text-decoration-color: #00af00\">30,353</span> (118.57 KB)\n",
              "</pre>\n"
            ]
          },
          "metadata": {}
        },
        {
          "output_type": "display_data",
          "data": {
            "text/plain": [
              "\u001b[1m Non-trainable params: \u001b[0m\u001b[38;5;34m0\u001b[0m (0.00 B)\n"
            ],
            "text/html": [
              "<pre style=\"white-space:pre;overflow-x:auto;line-height:normal;font-family:Menlo,'DejaVu Sans Mono',consolas,'Courier New',monospace\"><span style=\"font-weight: bold\"> Non-trainable params: </span><span style=\"color: #00af00; text-decoration-color: #00af00\">0</span> (0.00 B)\n",
              "</pre>\n"
            ]
          },
          "metadata": {}
        }
      ],
      "source": [
        "# === Modelo LSTM liviano (2 capas LSTM) ===\n",
        "model = Sequential([\n",
        "    LSTM(64, return_sequences=True, input_shape=(n_pasos, X.shape[2]), activation='tanh'),\n",
        "    Dropout(0.2),\n",
        "    LSTM(32, activation='tanh'),\n",
        "    Dropout(0.1),\n",
        "    Dense(8, activation='relu'),\n",
        "    Dense(1)\n",
        "])\n",
        "\n",
        "model.compile(optimizer=Adam(learning_rate=0.001), loss='mse', metrics=['mae'])\n",
        "model.summary()\n",
        "\n"
      ]
    },
    {
      "cell_type": "code",
      "execution_count": 16,
      "metadata": {
        "colab": {
          "base_uri": "https://localhost:8080/"
        },
        "id": "m8KvOc2Dled0",
        "outputId": "4618282b-b285-4e43-8a9e-72d4bf035406"
      },
      "outputs": [
        {
          "output_type": "stream",
          "name": "stdout",
          "text": [
            "Epoch 1/40\n",
            "\u001b[1m1109/1109\u001b[0m \u001b[32m━━━━━━━━━━━━━━━━━━━━\u001b[0m\u001b[37m\u001b[0m \u001b[1m0s\u001b[0m 18ms/step - loss: 0.1386 - mae: 0.2559"
          ]
        },
        {
          "output_type": "stream",
          "name": "stderr",
          "text": [
            "WARNING:absl:You are saving your model as an HDF5 file via `model.save()` or `keras.saving.save_model(model)`. This file format is considered legacy. We recommend using instead the native Keras format, e.g. `model.save('my_model.keras')` or `keras.saving.save_model(model, 'my_model.keras')`. \n"
          ]
        },
        {
          "output_type": "stream",
          "name": "stdout",
          "text": [
            "\b\b\b\b\b\b\b\b\b\b\b\b\b\b\b\b\b\b\b\b\b\b\b\b\b\b\b\b\b\b\b\b\b\b\b\b\b\b\b\b\b\b\b\b\b\b\b\b\b\b\b\b\b\b\b\b\b\b\b\b\b\b\b\b\b\b\b\b\b\b\b\b\r\u001b[1m1109/1109\u001b[0m \u001b[32m━━━━━━━━━━━━━━━━━━━━\u001b[0m\u001b[37m\u001b[0m \u001b[1m25s\u001b[0m 20ms/step - loss: 0.1385 - mae: 0.2558 - val_loss: 0.0181 - val_mae: 0.1022\n",
            "Epoch 2/40\n",
            "\u001b[1m1109/1109\u001b[0m \u001b[32m━━━━━━━━━━━━━━━━━━━━\u001b[0m\u001b[37m\u001b[0m \u001b[1m0s\u001b[0m 18ms/step - loss: 0.0253 - mae: 0.1222"
          ]
        },
        {
          "output_type": "stream",
          "name": "stderr",
          "text": [
            "WARNING:absl:You are saving your model as an HDF5 file via `model.save()` or `keras.saving.save_model(model)`. This file format is considered legacy. We recommend using instead the native Keras format, e.g. `model.save('my_model.keras')` or `keras.saving.save_model(model, 'my_model.keras')`. \n"
          ]
        },
        {
          "output_type": "stream",
          "name": "stdout",
          "text": [
            "\b\b\b\b\b\b\b\b\b\b\b\b\b\b\b\b\b\b\b\b\b\b\b\b\b\b\b\b\b\b\b\b\b\b\b\b\b\b\b\b\b\b\b\b\b\b\b\b\b\b\b\b\b\b\b\b\b\b\b\b\b\b\b\b\b\b\b\b\b\b\b\b\r\u001b[1m1109/1109\u001b[0m \u001b[32m━━━━━━━━━━━━━━━━━━━━\u001b[0m\u001b[37m\u001b[0m \u001b[1m22s\u001b[0m 20ms/step - loss: 0.0253 - mae: 0.1222 - val_loss: 0.0115 - val_mae: 0.0803\n",
            "Epoch 3/40\n",
            "\u001b[1m1108/1109\u001b[0m \u001b[32m━━━━━━━━━━━━━━━━━━━\u001b[0m\u001b[37m━\u001b[0m \u001b[1m0s\u001b[0m 18ms/step - loss: 0.0192 - mae: 0.1057"
          ]
        },
        {
          "output_type": "stream",
          "name": "stderr",
          "text": [
            "WARNING:absl:You are saving your model as an HDF5 file via `model.save()` or `keras.saving.save_model(model)`. This file format is considered legacy. We recommend using instead the native Keras format, e.g. `model.save('my_model.keras')` or `keras.saving.save_model(model, 'my_model.keras')`. \n"
          ]
        },
        {
          "output_type": "stream",
          "name": "stdout",
          "text": [
            "\b\b\b\b\b\b\b\b\b\b\b\b\b\b\b\b\b\b\b\b\b\b\b\b\b\b\b\b\b\b\b\b\b\b\b\b\b\b\b\b\b\b\b\b\b\b\b\b\b\b\b\b\b\b\b\b\b\b\b\b\b\b\b\b\b\b\b\b\b\b\b\b\r\u001b[1m1109/1109\u001b[0m \u001b[32m━━━━━━━━━━━━━━━━━━━━\u001b[0m\u001b[37m\u001b[0m \u001b[1m22s\u001b[0m 20ms/step - loss: 0.0192 - mae: 0.1057 - val_loss: 0.0098 - val_mae: 0.0752\n",
            "Epoch 4/40\n",
            "\u001b[1m1107/1109\u001b[0m \u001b[32m━━━━━━━━━━━━━━━━━━━\u001b[0m\u001b[37m━\u001b[0m \u001b[1m0s\u001b[0m 17ms/step - loss: 0.0148 - mae: 0.0925"
          ]
        },
        {
          "output_type": "stream",
          "name": "stderr",
          "text": [
            "WARNING:absl:You are saving your model as an HDF5 file via `model.save()` or `keras.saving.save_model(model)`. This file format is considered legacy. We recommend using instead the native Keras format, e.g. `model.save('my_model.keras')` or `keras.saving.save_model(model, 'my_model.keras')`. \n"
          ]
        },
        {
          "output_type": "stream",
          "name": "stdout",
          "text": [
            "\b\b\b\b\b\b\b\b\b\b\b\b\b\b\b\b\b\b\b\b\b\b\b\b\b\b\b\b\b\b\b\b\b\b\b\b\b\b\b\b\b\b\b\b\b\b\b\b\b\b\b\b\b\b\b\b\b\b\b\b\b\b\b\b\b\b\b\b\b\b\b\b\r\u001b[1m1109/1109\u001b[0m \u001b[32m━━━━━━━━━━━━━━━━━━━━\u001b[0m\u001b[37m\u001b[0m \u001b[1m21s\u001b[0m 19ms/step - loss: 0.0148 - mae: 0.0925 - val_loss: 0.0074 - val_mae: 0.0634\n",
            "Epoch 5/40\n",
            "\u001b[1m1109/1109\u001b[0m \u001b[32m━━━━━━━━━━━━━━━━━━━━\u001b[0m\u001b[37m\u001b[0m \u001b[1m0s\u001b[0m 16ms/step - loss: 0.0134 - mae: 0.0874"
          ]
        },
        {
          "output_type": "stream",
          "name": "stderr",
          "text": [
            "WARNING:absl:You are saving your model as an HDF5 file via `model.save()` or `keras.saving.save_model(model)`. This file format is considered legacy. We recommend using instead the native Keras format, e.g. `model.save('my_model.keras')` or `keras.saving.save_model(model, 'my_model.keras')`. \n"
          ]
        },
        {
          "output_type": "stream",
          "name": "stdout",
          "text": [
            "\b\b\b\b\b\b\b\b\b\b\b\b\b\b\b\b\b\b\b\b\b\b\b\b\b\b\b\b\b\b\b\b\b\b\b\b\b\b\b\b\b\b\b\b\b\b\b\b\b\b\b\b\b\b\b\b\b\b\b\b\b\b\b\b\b\b\b\b\b\b\b\b\r\u001b[1m1109/1109\u001b[0m \u001b[32m━━━━━━━━━━━━━━━━━━━━\u001b[0m\u001b[37m\u001b[0m \u001b[1m20s\u001b[0m 18ms/step - loss: 0.0134 - mae: 0.0874 - val_loss: 0.0067 - val_mae: 0.0593\n",
            "Epoch 6/40\n",
            "\u001b[1m1108/1109\u001b[0m \u001b[32m━━━━━━━━━━━━━━━━━━━\u001b[0m\u001b[37m━\u001b[0m \u001b[1m0s\u001b[0m 16ms/step - loss: 0.0123 - mae: 0.0836"
          ]
        },
        {
          "output_type": "stream",
          "name": "stderr",
          "text": [
            "WARNING:absl:You are saving your model as an HDF5 file via `model.save()` or `keras.saving.save_model(model)`. This file format is considered legacy. We recommend using instead the native Keras format, e.g. `model.save('my_model.keras')` or `keras.saving.save_model(model, 'my_model.keras')`. \n"
          ]
        },
        {
          "output_type": "stream",
          "name": "stdout",
          "text": [
            "\b\b\b\b\b\b\b\b\b\b\b\b\b\b\b\b\b\b\b\b\b\b\b\b\b\b\b\b\b\b\b\b\b\b\b\b\b\b\b\b\b\b\b\b\b\b\b\b\b\b\b\b\b\b\b\b\b\b\b\b\b\b\b\b\b\b\b\b\b\b\b\b\r\u001b[1m1109/1109\u001b[0m \u001b[32m━━━━━━━━━━━━━━━━━━━━\u001b[0m\u001b[37m\u001b[0m \u001b[1m20s\u001b[0m 18ms/step - loss: 0.0123 - mae: 0.0836 - val_loss: 0.0063 - val_mae: 0.0576\n",
            "Epoch 7/40\n",
            "\u001b[1m1109/1109\u001b[0m \u001b[32m━━━━━━━━━━━━━━━━━━━━\u001b[0m\u001b[37m\u001b[0m \u001b[1m20s\u001b[0m 18ms/step - loss: 0.0115 - mae: 0.0814 - val_loss: 0.0069 - val_mae: 0.0607\n",
            "Epoch 8/40\n",
            "\u001b[1m1109/1109\u001b[0m \u001b[32m━━━━━━━━━━━━━━━━━━━━\u001b[0m\u001b[37m\u001b[0m \u001b[1m19s\u001b[0m 18ms/step - loss: 0.0109 - mae: 0.0789 - val_loss: 0.0070 - val_mae: 0.0622\n",
            "Epoch 9/40\n",
            "\u001b[1m1109/1109\u001b[0m \u001b[32m━━━━━━━━━━━━━━━━━━━━\u001b[0m\u001b[37m\u001b[0m \u001b[1m20s\u001b[0m 18ms/step - loss: 0.0101 - mae: 0.0762 - val_loss: 0.0065 - val_mae: 0.0598\n",
            "Epoch 10/40\n",
            "\u001b[1m1109/1109\u001b[0m \u001b[32m━━━━━━━━━━━━━━━━━━━━\u001b[0m\u001b[37m\u001b[0m \u001b[1m20s\u001b[0m 18ms/step - loss: 0.0098 - mae: 0.0746 - val_loss: 0.0071 - val_mae: 0.0634\n",
            "Epoch 11/40\n",
            "\u001b[1m1109/1109\u001b[0m \u001b[32m━━━━━━━━━━━━━━━━━━━━\u001b[0m\u001b[37m\u001b[0m \u001b[1m20s\u001b[0m 18ms/step - loss: 0.0094 - mae: 0.0738 - val_loss: 0.0066 - val_mae: 0.0597\n",
            "Epoch 12/40\n",
            "\u001b[1m1109/1109\u001b[0m \u001b[32m━━━━━━━━━━━━━━━━━━━━\u001b[0m\u001b[37m\u001b[0m \u001b[1m0s\u001b[0m 16ms/step - loss: 0.0094 - mae: 0.0734"
          ]
        },
        {
          "output_type": "stream",
          "name": "stderr",
          "text": [
            "WARNING:absl:You are saving your model as an HDF5 file via `model.save()` or `keras.saving.save_model(model)`. This file format is considered legacy. We recommend using instead the native Keras format, e.g. `model.save('my_model.keras')` or `keras.saving.save_model(model, 'my_model.keras')`. \n"
          ]
        },
        {
          "output_type": "stream",
          "name": "stdout",
          "text": [
            "\b\b\b\b\b\b\b\b\b\b\b\b\b\b\b\b\b\b\b\b\b\b\b\b\b\b\b\b\b\b\b\b\b\b\b\b\b\b\b\b\b\b\b\b\b\b\b\b\b\b\b\b\b\b\b\b\b\b\b\b\b\b\b\b\b\b\b\b\b\b\b\b\r\u001b[1m1109/1109\u001b[0m \u001b[32m━━━━━━━━━━━━━━━━━━━━\u001b[0m\u001b[37m\u001b[0m \u001b[1m19s\u001b[0m 18ms/step - loss: 0.0094 - mae: 0.0734 - val_loss: 0.0060 - val_mae: 0.0553\n",
            "Epoch 13/40\n",
            "\u001b[1m1109/1109\u001b[0m \u001b[32m━━━━━━━━━━━━━━━━━━━━\u001b[0m\u001b[37m\u001b[0m \u001b[1m19s\u001b[0m 18ms/step - loss: 0.0092 - mae: 0.0725 - val_loss: 0.0073 - val_mae: 0.0634\n",
            "Epoch 14/40\n",
            "\u001b[1m1109/1109\u001b[0m \u001b[32m━━━━━━━━━━━━━━━━━━━━\u001b[0m\u001b[37m\u001b[0m \u001b[1m19s\u001b[0m 17ms/step - loss: 0.0087 - mae: 0.0706 - val_loss: 0.0083 - val_mae: 0.0698\n",
            "Epoch 15/40\n",
            "\u001b[1m1109/1109\u001b[0m \u001b[32m━━━━━━━━━━━━━━━━━━━━\u001b[0m\u001b[37m\u001b[0m \u001b[1m17s\u001b[0m 15ms/step - loss: 0.0087 - mae: 0.0706 - val_loss: 0.0063 - val_mae: 0.0582\n",
            "Epoch 16/40\n",
            "\u001b[1m1109/1109\u001b[0m \u001b[32m━━━━━━━━━━━━━━━━━━━━\u001b[0m\u001b[37m\u001b[0m \u001b[1m0s\u001b[0m 14ms/step - loss: 0.0085 - mae: 0.0690"
          ]
        },
        {
          "output_type": "stream",
          "name": "stderr",
          "text": [
            "WARNING:absl:You are saving your model as an HDF5 file via `model.save()` or `keras.saving.save_model(model)`. This file format is considered legacy. We recommend using instead the native Keras format, e.g. `model.save('my_model.keras')` or `keras.saving.save_model(model, 'my_model.keras')`. \n"
          ]
        },
        {
          "output_type": "stream",
          "name": "stdout",
          "text": [
            "\b\b\b\b\b\b\b\b\b\b\b\b\b\b\b\b\b\b\b\b\b\b\b\b\b\b\b\b\b\b\b\b\b\b\b\b\b\b\b\b\b\b\b\b\b\b\b\b\b\b\b\b\b\b\b\b\b\b\b\b\b\b\b\b\b\b\b\b\b\b\b\b\r\u001b[1m1109/1109\u001b[0m \u001b[32m━━━━━━━━━━━━━━━━━━━━\u001b[0m\u001b[37m\u001b[0m \u001b[1m17s\u001b[0m 16ms/step - loss: 0.0085 - mae: 0.0690 - val_loss: 0.0059 - val_mae: 0.0564\n",
            "Epoch 17/40\n",
            "\u001b[1m1109/1109\u001b[0m \u001b[32m━━━━━━━━━━━━━━━━━━━━\u001b[0m\u001b[37m\u001b[0m \u001b[1m17s\u001b[0m 16ms/step - loss: 0.0080 - mae: 0.0678 - val_loss: 0.0061 - val_mae: 0.0581\n",
            "Epoch 18/40\n",
            "\u001b[1m1109/1109\u001b[0m \u001b[32m━━━━━━━━━━━━━━━━━━━━\u001b[0m\u001b[37m\u001b[0m \u001b[1m0s\u001b[0m 14ms/step - loss: 0.0079 - mae: 0.0673"
          ]
        },
        {
          "output_type": "stream",
          "name": "stderr",
          "text": [
            "WARNING:absl:You are saving your model as an HDF5 file via `model.save()` or `keras.saving.save_model(model)`. This file format is considered legacy. We recommend using instead the native Keras format, e.g. `model.save('my_model.keras')` or `keras.saving.save_model(model, 'my_model.keras')`. \n"
          ]
        },
        {
          "output_type": "stream",
          "name": "stdout",
          "text": [
            "\b\b\b\b\b\b\b\b\b\b\b\b\b\b\b\b\b\b\b\b\b\b\b\b\b\b\b\b\b\b\b\b\b\b\b\b\b\b\b\b\b\b\b\b\b\b\b\b\b\b\b\b\b\b\b\b\b\b\b\b\b\b\b\b\b\b\b\b\b\b\b\b\r\u001b[1m1109/1109\u001b[0m \u001b[32m━━━━━━━━━━━━━━━━━━━━\u001b[0m\u001b[37m\u001b[0m \u001b[1m17s\u001b[0m 16ms/step - loss: 0.0079 - mae: 0.0673 - val_loss: 0.0058 - val_mae: 0.0555\n",
            "Epoch 19/40\n",
            "\u001b[1m1109/1109\u001b[0m \u001b[32m━━━━━━━━━━━━━━━━━━━━\u001b[0m\u001b[37m\u001b[0m \u001b[1m17s\u001b[0m 16ms/step - loss: 0.0079 - mae: 0.0672 - val_loss: 0.0078 - val_mae: 0.0650\n",
            "Epoch 20/40\n",
            "\u001b[1m1109/1109\u001b[0m \u001b[32m━━━━━━━━━━━━━━━━━━━━\u001b[0m\u001b[37m\u001b[0m \u001b[1m18s\u001b[0m 16ms/step - loss: 0.0078 - mae: 0.0667 - val_loss: 0.0060 - val_mae: 0.0572\n",
            "Epoch 21/40\n",
            "\u001b[1m1109/1109\u001b[0m \u001b[32m━━━━━━━━━━━━━━━━━━━━\u001b[0m\u001b[37m\u001b[0m \u001b[1m18s\u001b[0m 16ms/step - loss: 0.0076 - mae: 0.0656 - val_loss: 0.0073 - val_mae: 0.0650\n",
            "Epoch 22/40\n",
            "\u001b[1m1109/1109\u001b[0m \u001b[32m━━━━━━━━━━━━━━━━━━━━\u001b[0m\u001b[37m\u001b[0m \u001b[1m18s\u001b[0m 16ms/step - loss: 0.0076 - mae: 0.0655 - val_loss: 0.0076 - val_mae: 0.0664\n",
            "Epoch 23/40\n",
            "\u001b[1m1109/1109\u001b[0m \u001b[32m━━━━━━━━━━━━━━━━━━━━\u001b[0m\u001b[37m\u001b[0m \u001b[1m18s\u001b[0m 17ms/step - loss: 0.0075 - mae: 0.0654 - val_loss: 0.0067 - val_mae: 0.0600\n",
            "Epoch 24/40\n",
            "\u001b[1m1109/1109\u001b[0m \u001b[32m━━━━━━━━━━━━━━━━━━━━\u001b[0m\u001b[37m\u001b[0m \u001b[1m18s\u001b[0m 16ms/step - loss: 0.0073 - mae: 0.0649 - val_loss: 0.0060 - val_mae: 0.0570\n",
            "Epoch 25/40\n",
            "\u001b[1m1109/1109\u001b[0m \u001b[32m━━━━━━━━━━━━━━━━━━━━\u001b[0m\u001b[37m\u001b[0m \u001b[1m18s\u001b[0m 16ms/step - loss: 0.0074 - mae: 0.0647 - val_loss: 0.0083 - val_mae: 0.0702\n",
            "Epoch 26/40\n",
            "\u001b[1m1109/1109\u001b[0m \u001b[32m━━━━━━━━━━━━━━━━━━━━\u001b[0m\u001b[37m\u001b[0m \u001b[1m18s\u001b[0m 16ms/step - loss: 0.0073 - mae: 0.0641 - val_loss: 0.0066 - val_mae: 0.0621\n"
          ]
        }
      ],
      "source": [
        "#=== Callbacks ===\n",
        "\n",
        "early_stop = EarlyStopping(monitor='val_loss', patience=8, restore_best_weights=True)\n",
        "checkpoint = ModelCheckpoint(\"modelo_clima_best.h5\", save_best_only=True)\n",
        "\n",
        "#=== Entrenamiento ===\n",
        "\n",
        "history = model.fit(\n",
        "X_train, y_train,\n",
        "validation_data=(X_val, y_val),\n",
        "epochs=40,\n",
        "batch_size=32,\n",
        "callbacks=[early_stop, checkpoint],\n",
        "verbose=1\n",
        ")"
      ]
    },
    {
      "cell_type": "code",
      "execution_count": 17,
      "metadata": {
        "colab": {
          "base_uri": "https://localhost:8080/"
        },
        "id": "GhpFC9HBliU7",
        "outputId": "40de3cd3-bae9-4463-fcd7-e56891a51652"
      },
      "outputs": [
        {
          "output_type": "stream",
          "name": "stdout",
          "text": [
            "\n",
            "📊 RESULTADOS FINAL:\n",
            " MSE: 0.0106 | MAE: 0.0793\n"
          ]
        }
      ],
      "source": [
        "#=== Evaluar en test ===\n",
        "\n",
        "loss, mae = model.evaluate(X_test, y_test, verbose=0)\n",
        "print(f\"\\n📊 RESULTADOS FINAL:\")\n",
        "print(f\" MSE: {loss:.4f} | MAE: {mae:.4f}\")"
      ]
    },
    {
      "cell_type": "code",
      "execution_count": 18,
      "metadata": {
        "colab": {
          "base_uri": "https://localhost:8080/"
        },
        "id": "lqw4_ApwllGu",
        "outputId": "2c12ef52-2d62-4cc6-9913-f9eba1de4731"
      },
      "outputs": [
        {
          "output_type": "stream",
          "name": "stderr",
          "text": [
            "WARNING:absl:You are saving your model as an HDF5 file via `model.save()` or `keras.saving.save_model(model)`. This file format is considered legacy. We recommend using instead the native Keras format, e.g. `model.save('my_model.keras')` or `keras.saving.save_model(model, 'my_model.keras')`. \n"
          ]
        },
        {
          "output_type": "stream",
          "name": "stdout",
          "text": [
            "💾 Modelo guardado: modelo_clima_ligero.h5\n"
          ]
        }
      ],
      "source": [
        "#=== Guardar modelo ===\n",
        "\n",
        "model.save(\"modelo_clima_ligero.h5\")\n",
        "print(\"💾 Modelo guardado: modelo_clima_ligero.h5\")"
      ]
    },
    {
      "cell_type": "code",
      "execution_count": 19,
      "metadata": {
        "colab": {
          "base_uri": "https://localhost:8080/"
        },
        "id": "5Q8bdoEOlqpH",
        "outputId": "ecff1294-c5c3-4481-a242-52eae2b7668c"
      },
      "outputs": [
        {
          "output_type": "stream",
          "name": "stdout",
          "text": [
            "Saved artifact at '/tmp/tmp26sp_oew'. The following endpoints are available:\n",
            "\n",
            "* Endpoint 'serve'\n",
            "  args_0 (POSITIONAL_ONLY): TensorSpec(shape=(None, 24, 4), dtype=tf.float32, name='keras_tensor')\n",
            "Output Type:\n",
            "  TensorSpec(shape=(None, 1), dtype=tf.float32, name=None)\n",
            "Captures:\n",
            "  139539123495056: TensorSpec(shape=(), dtype=tf.resource, name=None)\n",
            "  139539123499664: TensorSpec(shape=(), dtype=tf.resource, name=None)\n",
            "  139539123499472: TensorSpec(shape=(), dtype=tf.resource, name=None)\n",
            "  139539123501584: TensorSpec(shape=(), dtype=tf.resource, name=None)\n",
            "  139539123502160: TensorSpec(shape=(), dtype=tf.resource, name=None)\n",
            "  139539123500816: TensorSpec(shape=(), dtype=tf.resource, name=None)\n",
            "  139539123501776: TensorSpec(shape=(), dtype=tf.resource, name=None)\n",
            "  139539123501008: TensorSpec(shape=(), dtype=tf.resource, name=None)\n",
            "  139539123500624: TensorSpec(shape=(), dtype=tf.resource, name=None)\n",
            "  139539123501200: TensorSpec(shape=(), dtype=tf.resource, name=None)\n",
            "💡 Conversión exitosa → modelo_clima_ligero.tflite\n",
            "Saved artifact at '/tmp/tmpcc0e33aw'. The following endpoints are available:\n",
            "\n",
            "* Endpoint 'serve'\n",
            "  args_0 (POSITIONAL_ONLY): TensorSpec(shape=(None, 24, 4), dtype=tf.float32, name='keras_tensor')\n",
            "Output Type:\n",
            "  TensorSpec(shape=(None, 1), dtype=tf.float32, name=None)\n",
            "Captures:\n",
            "  139539123495056: TensorSpec(shape=(), dtype=tf.resource, name=None)\n",
            "  139539123499664: TensorSpec(shape=(), dtype=tf.resource, name=None)\n",
            "  139539123499472: TensorSpec(shape=(), dtype=tf.resource, name=None)\n",
            "  139539123501584: TensorSpec(shape=(), dtype=tf.resource, name=None)\n",
            "  139539123502160: TensorSpec(shape=(), dtype=tf.resource, name=None)\n",
            "  139539123500816: TensorSpec(shape=(), dtype=tf.resource, name=None)\n",
            "  139539123501776: TensorSpec(shape=(), dtype=tf.resource, name=None)\n",
            "  139539123501008: TensorSpec(shape=(), dtype=tf.resource, name=None)\n",
            "  139539123500624: TensorSpec(shape=(), dtype=tf.resource, name=None)\n",
            "  139539123501200: TensorSpec(shape=(), dtype=tf.resource, name=None)\n",
            "✅ Modelo cuantizado FP16 guardado (para Raspberry Pi)\n"
          ]
        }
      ],
      "source": [
        "#==================================================\n",
        "#CONVERSIÓN A TENSORFLOW LITE\n",
        "#==================================================\n",
        "\n",
        "converter = tf.lite.TFLiteConverter.from_keras_model(model)\n",
        "converter.target_spec.supported_ops = [\n",
        "tf.lite.OpsSet.TFLITE_BUILTINS,\n",
        "tf.lite.OpsSet.SELECT_TF_OPS\n",
        "]\n",
        "converter._experimental_lower_tensor_list_ops = False\n",
        "converter.optimizations = [tf.lite.Optimize.DEFAULT]\n",
        "\n",
        "tflite_model = converter.convert()\n",
        "with open(\"modelo_clima_ligero.tflite\", \"wb\") as f:\n",
        "  f.write(tflite_model)\n",
        "print(\"💡 Conversión exitosa → modelo_clima_ligero.tflite\")\n",
        "\n",
        "#=== Cuantización FP16 (opcional) ===\n",
        "\n",
        "converter.target_spec.supported_types = [tf.float16]\n",
        "tflite_model_fp16 = converter.convert()\n",
        "with open(\"modelo_clima_ligero_fp16.tflite\", \"wb\") as f:\n",
        "  f.write(tflite_model_fp16)\n",
        "print(\"✅ Modelo cuantizado FP16 guardado (para Raspberry Pi)\")"
      ]
    },
    {
      "cell_type": "code",
      "execution_count": 20,
      "metadata": {
        "id": "RetTE0bNltX3",
        "colab": {
          "base_uri": "https://localhost:8080/",
          "height": 971
        },
        "outputId": "7be647ea-2c3b-4564-8201-fb3e83ff37ec"
      },
      "outputs": [
        {
          "output_type": "stream",
          "name": "stdout",
          "text": [
            "\u001b[1m370/370\u001b[0m \u001b[32m━━━━━━━━━━━━━━━━━━━━\u001b[0m\u001b[37m\u001b[0m \u001b[1m2s\u001b[0m 5ms/step\n",
            "\n",
            "📈 MÉTRICAS EN ESCALA REAL:\n",
            " - MAE: 0.618\n",
            " - MSE: 0.643\n",
            " - R²: 0.989\n",
            " - Confianza: 98.9%\n"
          ]
        },
        {
          "output_type": "display_data",
          "data": {
            "text/plain": [
              "<Figure size 1400x500 with 1 Axes>"
            ],
            "image/png": "[encoded data removed]"
          },
          "metadata": {}
        },
        {
          "output_type": "display_data",
          "data": {
            "text/plain": [
              "<Figure size 600x400 with 1 Axes>"
            ],
            "image/png": "[encoded data removed]"
          },
          "metadata": {}
        }
      ],
      "source": [
        "#==================================================\n",
        "#EVALUACIÓN COMPLETA (MAE, MSE, R², confianza)\n",
        "#==================================================\n",
        "\n",
        "y_pred_scaled = model.predict(X_test)\n",
        "dummy_pred = np.zeros((len(y_pred_scaled), data_scaled.shape[1]))\n",
        "dummy_pred[:, 0] = y_pred_scaled.flatten()\n",
        "y_pred_real = scaler.inverse_transform(dummy_pred)[:, 0]\n",
        "\n",
        "dummy_true = np.zeros((len(y_test), data_scaled.shape[1]))\n",
        "dummy_true[:, 0] = y_test\n",
        "y_true_real = scaler.inverse_transform(dummy_true)[:, 0]\n",
        "\n",
        "mae_real = mean_absolute_error(y_true_real, y_pred_real)\n",
        "mse_real = mean_squared_error(y_true_real, y_pred_real)\n",
        "r2 = r2_score(y_true_real, y_pred_real)\n",
        "confianza = max(0, min(100, r2 * 100))\n",
        "\n",
        "print(\"\\n📈 MÉTRICAS EN ESCALA REAL:\")\n",
        "print(f\" - MAE: {mae_real:.3f}\")\n",
        "print(f\" - MSE: {mse_real:.3f}\")\n",
        "print(f\" - R²: {r2:.3f}\")\n",
        "print(f\" - Confianza: {confianza:.1f}%\")\n",
        "\n",
        "#=== Gráficos ===\n",
        "\n",
        "plt.figure(figsize=(14, 5))\n",
        "plt.plot(y_true_real[:300], label=\"Real\", alpha=0.8)\n",
        "plt.plot(y_pred_real[:300], label=\"Predicho\", alpha=0.8)\n",
        "plt.title(\"Predicciones vs Valores Reales (muestras de prueba)\")\n",
        "plt.legend()\n",
        "plt.grid(True, alpha=0.3)\n",
        "plt.show()\n",
        "\n",
        "#--- Gráfico de métricas ---\n",
        "\n",
        "metricas = {\"MAE\": mae_real, \"MSE\": mse_real, \"R²\": r2}\n",
        "plt.figure(figsize=(6, 4))\n",
        "sns.barplot(x=list(metricas.keys()), y=list(metricas.values()), palette=\"viridis\")\n",
        "plt.title(\"Comparación de Métricas del Modelo\")\n",
        "plt.grid(axis='y', alpha=0.3)\n",
        "plt.show()"
      ]
    },
    {
      "cell_type": "code",
      "execution_count": 21,
      "metadata": {
        "colab": {
          "base_uri": "https://localhost:8080/"
        },
        "id": "j4X-7AoedFrP",
        "outputId": "83e8e02e-07a0-495d-de2b-e49500b557e8"
      },
      "outputs": [
        {
          "output_type": "stream",
          "name": "stderr",
          "text": [
            "WARNING:absl:You are saving your model as an HDF5 file via `model.save()` or `keras.saving.save_model(model)`. This file format is considered legacy. We recommend using instead the native Keras format, e.g. `model.save('my_model.keras')` or `keras.saving.save_model(model, 'my_model.keras')`. \n"
          ]
        },
        {
          "output_type": "stream",
          "name": "stdout",
          "text": [
            "\n",
            "✅ ARCHIVOS GUARDADOS:\n",
            " 📦 Modelo: modelo_lstm_3_features.h5\n",
            " 📦 Scaler: scaler_ligero.pkl\n",
            "\n",
            "🎉 ¡Entrenamiento completado exitosamente!\n",
            "\n",
            "📝 Configuración del modelo:\n",
            " - Dataset: dataset_ml.csv\n",
            " - Features: 3 columnas (ts, hr, p0)\n",
            " - Timesteps: 24\n",
            " - MAE: 0.618 °C\n",
            " - Objetivo: Predecir 'ts' (Temperatura del Aire Seco)\n",
            " - Confianza: 98.9%\n",
            "\n",
            "💡 Ahora puedes usar el modelo con 'predecir_simple.py'\n"
          ]
        }
      ],
      "source": [
        "#==================================================\n",
        "#GUARDAR MODELO FINAL Y RESUMEN\n",
        "#==================================================\n",
        "\n",
        "model_path = \"modelo_lstm_3_features.h5\"\n",
        "model.save(model_path)\n",
        "\n",
        "print(f\"\\n✅ ARCHIVOS GUARDADOS:\")\n",
        "print(f\" 📦 Modelo: {model_path}\")\n",
        "print(f\" 📦 Scaler: {scaler_path}\")\n",
        "print(f\"\\n🎉 ¡Entrenamiento completado exitosamente!\")\n",
        "print(f\"\\n📝 Configuración del modelo:\")\n",
        "print(f\" - Dataset: dataset_ml.csv\")\n",
        "print(f\" - Features: 3 columnas (ts, hr, p0)\")\n",
        "print(f\" - Timesteps: {n_pasos}\")\n",
        "print(f\" - MAE: {mae_real:.3f} °C\")\n",
        "print(f\" - Objetivo: Predecir 'ts' (Temperatura del Aire Seco)\")\n",
        "print(f\" - Confianza: {confianza:.1f}%\")\n",
        "print(f\"\\n💡 Ahora puedes usar el modelo con 'predecir_simple.py'\")"
      ]
    }
  ],
  "metadata": {
    "colab": {
      "machine_shape": "hm",
      "provenance": []
    },
    "kernelspec": {
      "display_name": "Python 3",
      "name": "python3"
    },
    "language_info": {
      "name": "python"
    }
  },
  "nbformat": 4,
  "nbformat_minor": 0
}