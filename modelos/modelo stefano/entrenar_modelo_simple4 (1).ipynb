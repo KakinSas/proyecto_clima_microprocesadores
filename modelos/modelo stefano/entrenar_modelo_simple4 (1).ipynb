{
  "cells": [
    {
      "cell_type": "markdown",
      "metadata": {
        "id": "2FV5vR7TXlAF"
      },
      "source": [
        "Entrenamiento de Modelo LSTM para Predicción de Temperatura\n",
        "Usando 3 features del dataset meteorológico\n",
        "Este notebook entrena un modelo LSTM usando solo 4 columnas del dataset_ml.csv:\n",
        "\n",
        "Features seleccionadas:\n",
        "\n",
        "ts: Temperatura del Aire Seco (°C) → [OBJETIVO A PREDECIR]\n",
        "hr: Humedad Relativa del aire (%)\n",
        "p0: Presión leída del sensor (hPa)\n",
        "Tambien utilizar momento a lo que se refiere a la hora\n",
        "Este enfoque simplificado permite:\n",
        "\n",
        "✅ Entrenamiento más rápido\n",
        "✅ Modelo más ligero\n",
        "✅ Fácil de mapear con datos de Arduino (temperatura, humedad, presión)\n",
        "✅ Menos riesgo de overfitting"
      ]
    },
    {
      "cell_type": "markdown",
      "metadata": {
        "id": "dnX1KL4-X1Z6"
      },
      "source": [
        "1. Cargar y explorar datos"
      ]
    },
    {
      "cell_type": "markdown",
      "metadata": {
        "id": "1V2tpgzWhLkN"
      },
      "source": [
        "==================================================\n",
        "MODELO CLIMÁTICO LIGERO (TensorFlow Lite + Raspberry Pi)\n",
        "=================================================="
      ]
    },
    {
      "cell_type": "code",
      "execution_count": 52,
      "metadata": {
        "id": "kse6ggyBc79h"
      },
      "outputs": [],
      "source": [
        "import pandas as pd\n",
        "import numpy as np\n",
        "import matplotlib.pyplot as plt\n",
        "import seaborn as sns\n",
        "from sklearn.preprocessing import StandardScaler\n",
        "from tensorflow.keras.models import Sequential\n",
        "from tensorflow.keras.layers import LSTM, Dense, Dropout\n",
        "from tensorflow.keras.callbacks import EarlyStopping, ModelCheckpoint\n",
        "from tensorflow.keras.optimizers import Adam\n",
        "from sklearn.metrics import mean_absolute_error, mean_squared_error, r2_score\n",
        "import tensorflow as tf\n",
        "import joblib\n",
        "import warnings\n",
        "warnings.filterwarnings('ignore')"
      ]
    },
    {
      "cell_type": "code",
      "execution_count": 68,
      "metadata": {
        "colab": {
          "base_uri": "https://localhost:8080/",
          "height": 455
        },
        "id": "FL8q-voYshL7",
        "outputId": "7889b058-ea47-4ec3-b8a7-488e8db3fcb0"
      },
      "outputs": [
        {
          "output_type": "stream",
          "name": "stdout",
          "text": [
            "✅ Datos cargados\n",
            "   Total de registros: 3,546,082\n",
            "   Columnas: ['momento', 'ts', 'td', 'tMin12Horas', 'tMax12Horas', 'horaTMin12Horas', 'horaTMax12Horas', 'momentoRegistro_x', 'hr', 'p0', 'qfe1', 'qff', 'qnh', 'momentoRegistro_y']\n",
            "\n",
            "📊 Primeras filas:\n"
          ]
        },
        {
          "output_type": "execute_result",
          "data": {
            "text/plain": [
              "               momento    ts   td  tMin12Horas  tMax12Horas  \\\n",
              "0  2019-01-01 00:00:00  23.6  4.5         21.0         32.3   \n",
              "1  2019-01-01 00:01:00  23.6  4.4         21.0         32.3   \n",
              "2  2019-01-01 00:02:00  23.6  4.5         21.0         32.3   \n",
              "3  2019-01-01 00:03:00  23.5  4.4         21.0         32.3   \n",
              "4  2019-01-01 00:04:00  23.5  4.5         21.0         32.3   \n",
              "5  2019-01-01 00:05:00  23.4  4.5         21.0         32.3   \n",
              "6  2019-01-01 00:06:00  23.4  4.3         21.0         32.3   \n",
              "7  2019-01-01 00:07:00  23.4  4.3         21.0         32.3   \n",
              "8  2019-01-01 00:08:00  23.4  4.3         21.0         32.3   \n",
              "9  2019-01-01 00:09:00  23.3  4.3         21.0         32.3   \n",
              "\n",
              "       horaTMin12Horas      horaTMax12Horas    momentoRegistro_x    hr     p0  \\\n",
              "0  2018-12-31 12:12:00  2018-12-31 20:12:00  2019-01-01 00:02:06  28.8  950.4   \n",
              "1  2018-12-31 12:12:00  2018-12-31 20:12:00  2019-01-01 00:06:01  28.8  950.4   \n",
              "2  2018-12-31 12:12:00  2018-12-31 20:12:00  2019-01-01 00:06:01  29.0  950.4   \n",
              "3  2018-12-31 12:12:00  2018-12-31 20:12:00  2019-01-01 00:06:01  29.1  950.4   \n",
              "4  2018-12-31 12:12:00  2018-12-31 20:12:00  2019-01-01 00:06:01  29.2  950.4   \n",
              "5  2018-12-31 12:12:00  2018-12-31 20:12:00  2019-01-01 00:06:01  29.1  950.5   \n",
              "6  2018-12-31 12:12:00  2018-12-31 20:12:00  2019-01-01 00:12:01  28.9  950.5   \n",
              "7  2018-12-31 12:12:00  2018-12-31 20:12:00  2019-01-01 00:12:01  29.0  950.4   \n",
              "8  2018-12-31 12:12:00  2018-12-31 20:12:00  2019-01-01 00:12:01  28.9  950.5   \n",
              "9  2018-12-31 12:12:00  2018-12-31 20:12:00  2019-01-01 00:12:01  29.0  950.5   \n",
              "\n",
              "    qfe1     qff     qnh    momentoRegistro_y  \n",
              "0  950.5  1009.1  1011.4  2019-01-01 00:02:06  \n",
              "1  950.5  1009.1  1011.4  2019-01-01 00:06:01  \n",
              "2  950.6  1009.2  1011.4  2019-01-01 00:06:01  \n",
              "3  950.6  1009.2  1011.4  2019-01-01 00:06:01  \n",
              "4  950.5  1009.0  1011.3  2019-01-01 00:06:01  \n",
              "5  950.6  1009.3  1011.4  2019-01-01 00:06:01  \n",
              "6  950.6  1009.3  1011.4  2019-01-01 00:12:01  \n",
              "7  950.6  1009.3  1011.4  2019-01-01 00:12:01  \n",
              "8  950.5  1009.2  1011.4  2019-01-01 00:12:01  \n",
              "9  950.6  1009.3  1011.4  2019-01-01 00:12:01  "
            ],
            "text/html": [
              "\n",
              "  <div id=\"df-23778d02-7b42-419f-9933-6708967bc4ab\" class=\"colab-df-container\">\n",
              "    <div>\n",
              "<style scoped>\n",
              "    .dataframe tbody tr th:only-of-type {\n",
              "        vertical-align: middle;\n",
              "    }\n",
              "\n",
              "    .dataframe tbody tr th {\n",
              "        vertical-align: top;\n",
              "    }\n",
              "\n",
              "    .dataframe thead th {\n",
              "        text-align: right;\n",
              "    }\n",
              "</style>\n",
              "<table border=\"1\" class=\"dataframe\">\n",
              "  <thead>\n",
              "    <tr style=\"text-align: right;\">\n",
              "      <th></th>\n",
              "      <th>momento</th>\n",
              "      <th>ts</th>\n",
              "      <th>td</th>\n",
              "      <th>tMin12Horas</th>\n",
              "      <th>tMax12Horas</th>\n",
              "      <th>horaTMin12Horas</th>\n",
              "      <th>horaTMax12Horas</th>\n",
              "      <th>momentoRegistro_x</th>\n",
              "      <th>hr</th>\n",
              "      <th>p0</th>\n",
              "      <th>qfe1</th>\n",
              "      <th>qff</th>\n",
              "      <th>qnh</th>\n",
              "      <th>momentoRegistro_y</th>\n",
              "    </tr>\n",
              "  </thead>\n",
              "  <tbody>\n",
              "    <tr>\n",
              "      <th>0</th>\n",
              "      <td>2019-01-01 00:00:00</td>\n",
              "      <td>23.6</td>\n",
              "      <td>4.5</td>\n",
              "      <td>21.0</td>\n",
              "      <td>32.3</td>\n",
              "      <td>2018-12-31 12:12:00</td>\n",
              "      <td>2018-12-31 20:12:00</td>\n",
              "      <td>2019-01-01 00:02:06</td>\n",
              "      <td>28.8</td>\n",
              "      <td>950.4</td>\n",
              "      <td>950.5</td>\n",
              "      <td>1009.1</td>\n",
              "      <td>1011.4</td>\n",
              "      <td>2019-01-01 00:02:06</td>\n",
              "    </tr>\n",
              "    <tr>\n",
              "      <th>1</th>\n",
              "      <td>2019-01-01 00:01:00</td>\n",
              "      <td>23.6</td>\n",
              "      <td>4.4</td>\n",
              "      <td>21.0</td>\n",
              "      <td>32.3</td>\n",
              "      <td>2018-12-31 12:12:00</td>\n",
              "      <td>2018-12-31 20:12:00</td>\n",
              "      <td>2019-01-01 00:06:01</td>\n",
              "      <td>28.8</td>\n",
              "      <td>950.4</td>\n",
              "      <td>950.5</td>\n",
              "      <td>1009.1</td>\n",
              "      <td>1011.4</td>\n",
              "      <td>2019-01-01 00:06:01</td>\n",
              "    </tr>\n",
              "    <tr>\n",
              "      <th>2</th>\n",
              "      <td>2019-01-01 00:02:00</td>\n",
              "      <td>23.6</td>\n",
              "      <td>4.5</td>\n",
              "      <td>21.0</td>\n",
              "      <td>32.3</td>\n",
              "      <td>2018-12-31 12:12:00</td>\n",
              "      <td>2018-12-31 20:12:00</td>\n",
              "      <td>2019-01-01 00:06:01</td>\n",
              "      <td>29.0</td>\n",
              "      <td>950.4</td>\n",
              "      <td>950.6</td>\n",
              "      <td>1009.2</td>\n",
              "      <td>1011.4</td>\n",
              "      <td>2019-01-01 00:06:01</td>\n",
              "    </tr>\n",
              "    <tr>\n",
              "      <th>3</th>\n",
              "      <td>2019-01-01 00:03:00</td>\n",
              "      <td>23.5</td>\n",
              "      <td>4.4</td>\n",
              "      <td>21.0</td>\n",
              "      <td>32.3</td>\n",
              "      <td>2018-12-31 12:12:00</td>\n",
              "      <td>2018-12-31 20:12:00</td>\n",
              "      <td>2019-01-01 00:06:01</td>\n",
              "      <td>29.1</td>\n",
              "      <td>950.4</td>\n",
              "      <td>950.6</td>\n",
              "      <td>1009.2</td>\n",
              "      <td>1011.4</td>\n",
              "      <td>2019-01-01 00:06:01</td>\n",
              "    </tr>\n",
              "    <tr>\n",
              "      <th>4</th>\n",
              "      <td>2019-01-01 00:04:00</td>\n",
              "      <td>23.5</td>\n",
              "      <td>4.5</td>\n",
              "      <td>21.0</td>\n",
              "      <td>32.3</td>\n",
              "      <td>2018-12-31 12:12:00</td>\n",
              "      <td>2018-12-31 20:12:00</td>\n",
              "      <td>2019-01-01 00:06:01</td>\n",
              "      <td>29.2</td>\n",
              "      <td>950.4</td>\n",
              "      <td>950.5</td>\n",
              "      <td>1009.0</td>\n",
              "      <td>1011.3</td>\n",
              "      <td>2019-01-01 00:06:01</td>\n",
              "    </tr>\n",
              "    <tr>\n",
              "      <th>5</th>\n",
              "      <td>2019-01-01 00:05:00</td>\n",
              "      <td>23.4</td>\n",
              "      <td>4.5</td>\n",
              "      <td>21.0</td>\n",
              "      <td>32.3</td>\n",
              "      <td>2018-12-31 12:12:00</td>\n",
              "      <td>2018-12-31 20:12:00</td>\n",
              "      <td>2019-01-01 00:06:01</td>\n",
              "      <td>29.1</td>\n",
              "      <td>950.5</td>\n",
              "      <td>950.6</td>\n",
              "      <td>1009.3</td>\n",
              "      <td>1011.4</td>\n",
              "      <td>2019-01-01 00:06:01</td>\n",
              "    </tr>\n",
              "    <tr>\n",
              "      <th>6</th>\n",
              "      <td>2019-01-01 00:06:00</td>\n",
              "      <td>23.4</td>\n",
              "      <td>4.3</td>\n",
              "      <td>21.0</td>\n",
              "      <td>32.3</td>\n",
              "      <td>2018-12-31 12:12:00</td>\n",
              "      <td>2018-12-31 20:12:00</td>\n",
              "      <td>2019-01-01 00:12:01</td>\n",
              "      <td>28.9</td>\n",
              "      <td>950.5</td>\n",
              "      <td>950.6</td>\n",
              "      <td>1009.3</td>\n",
              "      <td>1011.4</td>\n",
              "      <td>2019-01-01 00:12:01</td>\n",
              "    </tr>\n",
              "    <tr>\n",
              "      <th>7</th>\n",
              "      <td>2019-01-01 00:07:00</td>\n",
              "      <td>23.4</td>\n",
              "      <td>4.3</td>\n",
              "      <td>21.0</td>\n",
              "      <td>32.3</td>\n",
              "      <td>2018-12-31 12:12:00</td>\n",
              "      <td>2018-12-31 20:12:00</td>\n",
              "      <td>2019-01-01 00:12:01</td>\n",
              "      <td>29.0</td>\n",
              "      <td>950.4</td>\n",
              "      <td>950.6</td>\n",
              "      <td>1009.3</td>\n",
              "      <td>1011.4</td>\n",
              "      <td>2019-01-01 00:12:01</td>\n",
              "    </tr>\n",
              "    <tr>\n",
              "      <th>8</th>\n",
              "      <td>2019-01-01 00:08:00</td>\n",
              "      <td>23.4</td>\n",
              "      <td>4.3</td>\n",
              "      <td>21.0</td>\n",
              "      <td>32.3</td>\n",
              "      <td>2018-12-31 12:12:00</td>\n",
              "      <td>2018-12-31 20:12:00</td>\n",
              "      <td>2019-01-01 00:12:01</td>\n",
              "      <td>28.9</td>\n",
              "      <td>950.5</td>\n",
              "      <td>950.5</td>\n",
              "      <td>1009.2</td>\n",
              "      <td>1011.4</td>\n",
              "      <td>2019-01-01 00:12:01</td>\n",
              "    </tr>\n",
              "    <tr>\n",
              "      <th>9</th>\n",
              "      <td>2019-01-01 00:09:00</td>\n",
              "      <td>23.3</td>\n",
              "      <td>4.3</td>\n",
              "      <td>21.0</td>\n",
              "      <td>32.3</td>\n",
              "      <td>2018-12-31 12:12:00</td>\n",
              "      <td>2018-12-31 20:12:00</td>\n",
              "      <td>2019-01-01 00:12:01</td>\n",
              "      <td>29.0</td>\n",
              "      <td>950.5</td>\n",
              "      <td>950.6</td>\n",
              "      <td>1009.3</td>\n",
              "      <td>1011.4</td>\n",
              "      <td>2019-01-01 00:12:01</td>\n",
              "    </tr>\n",
              "  </tbody>\n",
              "</table>\n",
              "</div>\n",
              "    <div class=\"colab-df-buttons\">\n",
              "\n",
              "  <div class=\"colab-df-container\">\n",
              "    <button class=\"colab-df-convert\" onclick=\"convertToInteractive('df-23778d02-7b42-419f-9933-6708967bc4ab')\"\n",
              "            title=\"Convert this dataframe to an interactive table.\"\n",
              "            style=\"display:none;\">\n",
              "\n",
              "  <svg xmlns=\"http://www.w3.org/2000/svg\" height=\"24px\" viewBox=\"0 -960 960 960\">\n",
              "    <path d=\"M120-120v-720h720v720H120Zm60-500h600v-160H180v160Zm220 220h160v-160H400v160Zm0 220h160v-160H400v160ZM180-400h160v-160H180v160Zm440 0h160v-160H620v160ZM180-180h160v-160H180v160Zm440 0h160v-160H620v160Z\"/>\n",
              "  </svg>\n",
              "    </button>\n",
              "\n",
              "  <style>\n",
              "    .colab-df-container {\n",
              "      display:flex;\n",
              "      gap: 12px;\n",
              "    }\n",
              "\n",
              "    .colab-df-convert {\n",
              "      background-color: #E8F0FE;\n",
              "      border: none;\n",
              "      border-radius: 50%;\n",
              "      cursor: pointer;\n",
              "      display: none;\n",
              "      fill: #1967D2;\n",
              "      height: 32px;\n",
              "      padding: 0 0 0 0;\n",
              "      width: 32px;\n",
              "    }\n",
              "\n",
              "    .colab-df-convert:hover {\n",
              "      background-color: #E2EBFA;\n",
              "      box-shadow: 0px 1px 2px rgba(60, 64, 67, 0.3), 0px 1px 3px 1px rgba(60, 64, 67, 0.15);\n",
              "      fill: #174EA6;\n",
              "    }\n",
              "\n",
              "    .colab-df-buttons div {\n",
              "      margin-bottom: 4px;\n",
              "    }\n",
              "\n",
              "    [theme=dark] .colab-df-convert {\n",
              "      background-color: #3B4455;\n",
              "      fill: #D2E3FC;\n",
              "    }\n",
              "\n",
              "    [theme=dark] .colab-df-convert:hover {\n",
              "      background-color: #434B5C;\n",
              "      box-shadow: 0px 1px 3px 1px rgba(0, 0, 0, 0.15);\n",
              "      filter: drop-shadow(0px 1px 2px rgba(0, 0, 0, 0.3));\n",
              "      fill: #FFFFFF;\n",
              "    }\n",
              "  </style>\n",
              "\n",
              "    <script>\n",
              "      const buttonEl =\n",
              "        document.querySelector('#df-23778d02-7b42-419f-9933-6708967bc4ab button.colab-df-convert');\n",
              "      buttonEl.style.display =\n",
              "        google.colab.kernel.accessAllowed ? 'block' : 'none';\n",
              "\n",
              "      async function convertToInteractive(key) {\n",
              "        const element = document.querySelector('#df-23778d02-7b42-419f-9933-6708967bc4ab');\n",
              "        const dataTable =\n",
              "          await google.colab.kernel.invokeFunction('convertToInteractive',\n",
              "                                                    [key], {});\n",
              "        if (!dataTable) return;\n",
              "\n",
              "        const docLinkHtml = 'Like what you see? Visit the ' +\n",
              "          '<a target=\"_blank\" href=https://colab.research.google.com/notebooks/data_table.ipynb>data table notebook</a>'\n",
              "          + ' to learn more about interactive tables.';\n",
              "        element.innerHTML = '';\n",
              "        dataTable['output_type'] = 'display_data';\n",
              "        await google.colab.output.renderOutput(dataTable, element);\n",
              "        const docLink = document.createElement('div');\n",
              "        docLink.innerHTML = docLinkHtml;\n",
              "        element.appendChild(docLink);\n",
              "      }\n",
              "    </script>\n",
              "  </div>\n",
              "\n",
              "\n",
              "    <div id=\"df-6de06d09-199b-4548-a649-c2f1f53f6ddc\">\n",
              "      <button class=\"colab-df-quickchart\" onclick=\"quickchart('df-6de06d09-199b-4548-a649-c2f1f53f6ddc')\"\n",
              "                title=\"Suggest charts\"\n",
              "                style=\"display:none;\">\n",
              "\n",
              "<svg xmlns=\"http://www.w3.org/2000/svg\" height=\"24px\"viewBox=\"0 0 24 24\"\n",
              "     width=\"24px\">\n",
              "    <g>\n",
              "        <path d=\"M19 3H5c-1.1 0-2 .9-2 2v14c0 1.1.9 2 2 2h14c1.1 0 2-.9 2-2V5c0-1.1-.9-2-2-2zM9 17H7v-7h2v7zm4 0h-2V7h2v10zm4 0h-2v-4h2v4z\"/>\n",
              "    </g>\n",
              "</svg>\n",
              "      </button>\n",
              "\n",
              "<style>\n",
              "  .colab-df-quickchart {\n",
              "      --bg-color: #E8F0FE;\n",
              "      --fill-color: #1967D2;\n",
              "      --hover-bg-color: #E2EBFA;\n",
              "      --hover-fill-color: #174EA6;\n",
              "      --disabled-fill-color: #AAA;\n",
              "      --disabled-bg-color: #DDD;\n",
              "  }\n",
              "\n",
              "  [theme=dark] .colab-df-quickchart {\n",
              "      --bg-color: #3B4455;\n",
              "      --fill-color: #D2E3FC;\n",
              "      --hover-bg-color: #434B5C;\n",
              "      --hover-fill-color: #FFFFFF;\n",
              "      --disabled-bg-color: #3B4455;\n",
              "      --disabled-fill-color: #666;\n",
              "  }\n",
              "\n",
              "  .colab-df-quickchart {\n",
              "    background-color: var(--bg-color);\n",
              "    border: none;\n",
              "    border-radius: 50%;\n",
              "    cursor: pointer;\n",
              "    display: none;\n",
              "    fill: var(--fill-color);\n",
              "    height: 32px;\n",
              "    padding: 0;\n",
              "    width: 32px;\n",
              "  }\n",
              "\n",
              "  .colab-df-quickchart:hover {\n",
              "    background-color: var(--hover-bg-color);\n",
              "    box-shadow: 0 1px 2px rgba(60, 64, 67, 0.3), 0 1px 3px 1px rgba(60, 64, 67, 0.15);\n",
              "    fill: var(--button-hover-fill-color);\n",
              "  }\n",
              "\n",
              "  .colab-df-quickchart-complete:disabled,\n",
              "  .colab-df-quickchart-complete:disabled:hover {\n",
              "    background-color: var(--disabled-bg-color);\n",
              "    fill: var(--disabled-fill-color);\n",
              "    box-shadow: none;\n",
              "  }\n",
              "\n",
              "  .colab-df-spinner {\n",
              "    border: 2px solid var(--fill-color);\n",
              "    border-color: transparent;\n",
              "    border-bottom-color: var(--fill-color);\n",
              "    animation:\n",
              "      spin 1s steps(1) infinite;\n",
              "  }\n",
              "\n",
              "  @keyframes spin {\n",
              "    0% {\n",
              "      border-color: transparent;\n",
              "      border-bottom-color: var(--fill-color);\n",
              "      border-left-color: var(--fill-color);\n",
              "    }\n",
              "    20% {\n",
              "      border-color: transparent;\n",
              "      border-left-color: var(--fill-color);\n",
              "      border-top-color: var(--fill-color);\n",
              "    }\n",
              "    30% {\n",
              "      border-color: transparent;\n",
              "      border-left-color: var(--fill-color);\n",
              "      border-top-color: var(--fill-color);\n",
              "      border-right-color: var(--fill-color);\n",
              "    }\n",
              "    40% {\n",
              "      border-color: transparent;\n",
              "      border-right-color: var(--fill-color);\n",
              "      border-top-color: var(--fill-color);\n",
              "    }\n",
              "    60% {\n",
              "      border-color: transparent;\n",
              "      border-right-color: var(--fill-color);\n",
              "    }\n",
              "    80% {\n",
              "      border-color: transparent;\n",
              "      border-right-color: var(--fill-color);\n",
              "      border-bottom-color: var(--fill-color);\n",
              "    }\n",
              "    90% {\n",
              "      border-color: transparent;\n",
              "      border-bottom-color: var(--fill-color);\n",
              "    }\n",
              "  }\n",
              "</style>\n",
              "\n",
              "      <script>\n",
              "        async function quickchart(key) {\n",
              "          const quickchartButtonEl =\n",
              "            document.querySelector('#' + key + ' button');\n",
              "          quickchartButtonEl.disabled = true;  // To prevent multiple clicks.\n",
              "          quickchartButtonEl.classList.add('colab-df-spinner');\n",
              "          try {\n",
              "            const charts = await google.colab.kernel.invokeFunction(\n",
              "                'suggestCharts', [key], {});\n",
              "          } catch (error) {\n",
              "            console.error('Error during call to suggestCharts:', error);\n",
              "          }\n",
              "          quickchartButtonEl.classList.remove('colab-df-spinner');\n",
              "          quickchartButtonEl.classList.add('colab-df-quickchart-complete');\n",
              "        }\n",
              "        (() => {\n",
              "          let quickchartButtonEl =\n",
              "            document.querySelector('#df-6de06d09-199b-4548-a649-c2f1f53f6ddc button');\n",
              "          quickchartButtonEl.style.display =\n",
              "            google.colab.kernel.accessAllowed ? 'block' : 'none';\n",
              "        })();\n",
              "      </script>\n",
              "    </div>\n",
              "\n",
              "    </div>\n",
              "  </div>\n"
            ],
            "application/vnd.google.colaboratory.intrinsic+json": {
              "type": "dataframe",
              "variable_name": "df"
            }
          },
          "metadata": {},
          "execution_count": 68
        }
      ],
      "source": [
        "# Cargar datos del dataset completo\n",
        "csv_path = \"datos_rellenados1.csv\"\n",
        "df = pd.read_csv(csv_path, sep=\";\", decimal=\".\", encoding=\"utf-8\")\n",
        "\n",
        "# Limpiar nombres de columnas\n",
        "df.columns = df.columns.str.strip()\n",
        "\n",
        "print(f\"✅ Datos cargados\")\n",
        "print(f\"   Total de registros: {len(df):,}\")\n",
        "print(f\"   Columnas: {list(df.columns)}\")\n",
        "print(f\"\\n📊 Primeras filas:\")\n",
        "df.head(10)"
      ]
    },
    {
      "cell_type": "markdown",
      "metadata": {
        "id": "t9NZNL3Zc_Ll"
      },
      "source": [
        "=== Cargar dataset ==="
      ]
    },
    {
      "cell_type": "code",
      "execution_count": 69,
      "metadata": {
        "colab": {
          "base_uri": "https://localhost:8080/"
        },
        "id": "f8AiFPkfdBPc",
        "outputId": "93885488-f410-4ea9-8f8b-8842fa33a8c7"
      },
      "outputs": [
        {
          "output_type": "stream",
          "name": "stdout",
          "text": [
            "✅ Datos cargados: 3,546,082 registros\n"
          ]
        }
      ],
      "source": [
        "csv_path = \"datos_rellenados1.csv\"\n",
        "df = pd.read_csv(csv_path, sep=\";\", decimal=\".\", encoding=\"utf-8\")\n",
        "df.columns = df.columns.str.strip()\n",
        "print(f\"✅ Datos cargados: {len(df):,} registros\")"
      ]
    },
    {
      "cell_type": "markdown",
      "metadata": {
        "id": "Cj3wfLMrdDbp"
      },
      "source": [
        "=== Convertir columna 'momento' a datetime ==="
      ]
    },
    {
      "cell_type": "code",
      "execution_count": 70,
      "metadata": {
        "id": "PodlCArVkrEG"
      },
      "outputs": [],
      "source": [
        "df[\"momento\"] = pd.to_datetime(df[\"momento\"], errors=\"coerce\")"
      ]
    },
    {
      "cell_type": "markdown",
      "metadata": {
        "id": "4gPwOPu7k2jb"
      },
      "source": [
        "=== Re-muestrear por hora (promediar cada hora) ==="
      ]
    },
    {
      "cell_type": "code",
      "execution_count": 71,
      "metadata": {
        "colab": {
          "base_uri": "https://localhost:8080/"
        },
        "id": "ca3OrsuNk3yu",
        "outputId": "914bac81-a2ae-48d8-8da2-68b4c9a0b637"
      },
      "outputs": [
        {
          "output_type": "stream",
          "name": "stdout",
          "text": [
            "✅ Datos muestreados por hora\n"
          ]
        }
      ],
      "source": [
        "#=== Re-muestrear por hora (promediar cada hora) ===\n",
        "#df.set_index(\"momento\") Coloca la columna \"momento\" como índice del DataFrame.\n",
        "#.resample(\"1H\")Agrupa los datos en intervalos de 1 hora exacta (por ejemplo: 10:00, 11:00, 12:00, etc.).\n",
        "#.mean() Calcula el promedio de todas las columnas numéricas dentro de cada grupo horario.\n",
        "#.reset_index() Devuelve la columna \"momento\" como columna normal en vez de índice.\n",
        "\n",
        "# Select only numeric columns before resampling\n",
        "numeric_cols = df.select_dtypes(include=np.number).columns.tolist()\n",
        "df = df.set_index(\"momento\")[numeric_cols].resample(\"1H\").mean().reset_index()\n",
        "print(\"✅ Datos muestreados por hora\")"
      ]
    },
    {
      "cell_type": "code",
      "execution_count": 72,
      "metadata": {
        "id": "VPt4Z8dblAGd"
      },
      "outputs": [],
      "source": [
        "#=== Agregar variables temporales ===\n",
        "\n",
        "df[\"timestamp\"] = df[\"momento\"].astype(np.int64) / 1e9\n",
        "df[\"hora\"] = df[\"momento\"].dt.hour\n",
        "df[\"dia_semana\"] = df[\"momento\"].dt.weekday\n",
        "df[\"mes\"] = df[\"momento\"].dt.month\n"
      ]
    },
    {
      "cell_type": "code",
      "execution_count": 73,
      "metadata": {
        "colab": {
          "base_uri": "https://localhost:8080/"
        },
        "id": "O7H14RcylC2C",
        "outputId": "a2b0053e-cdd4-4293-effa-c4358aec6ac1"
      },
      "outputs": [
        {
          "output_type": "stream",
          "name": "stdout",
          "text": [
            "✅ Features seleccionadas: ['ts', 'hr', 'p0', 'hora']\n",
            " Total de registros: 59,161\n"
          ]
        }
      ],
      "source": [
        "#=== Seleccionar features ===\n",
        "#=== Seleccionar features ===\n",
        "\n",
        "feature_cols = ['ts', 'hr', 'p0', 'hora']\n",
        "df_selected = df[feature_cols]\n",
        "\n",
        "print(f\"✅ Features seleccionadas: {feature_cols}\")\n",
        "print(f\" Total de registros: {len(df_selected):,}\")\n"
      ]
    },
    {
      "cell_type": "code",
      "execution_count": 74,
      "metadata": {
        "colab": {
          "base_uri": "https://localhost:8080/",
          "height": 625
        },
        "id": "Q09R8eXclLci",
        "outputId": "aeaa63d2-ca2e-499f-8b65-6aeefea4aa1a"
      },
      "outputs": [
        {
          "output_type": "display_data",
          "data": {
            "text/plain": [
              "<Figure size 800x600 with 2 Axes>"
            ],
            "image/png": "[encoded data removed]"
          },
          "metadata": {}
        },
        {
          "output_type": "stream",
          "name": "stdout",
          "text": [
            "✅ Escalado completado y guardado: scaler_ligero.pkl\n"
          ]
        }
      ],
      "source": [
        "#=== Matriz de correlación ===\n",
        "\n",
        "plt.figure(figsize=(8, 6))\n",
        "sns.heatmap(df_selected.corr(), annot=True, cmap='coolwarm', fmt=\".2f\")\n",
        "plt.title(\"🔗 Matriz de correlación entre variables climáticas\")\n",
        "plt.tight_layout()\n",
        "plt.show()\n",
        "\n",
        "#=== Escalado ===\n",
        "\n",
        "scaler = StandardScaler()\n",
        "data_scaled = scaler.fit_transform(df_selected)\n",
        "scaler_path = \"scaler_ligero.pkl\"\n",
        "joblib.dump(scaler, scaler_path)\n",
        "print(f\"✅ Escalado completado y guardado: {scaler_path}\")\n"
      ]
    },
    {
      "cell_type": "code",
      "execution_count": 75,
      "metadata": {
        "colab": {
          "base_uri": "https://localhost:8080/"
        },
        "id": "Bb8Rlr46lSsI",
        "outputId": "156f83a0-6a9f-4c76-920d-6caf033cfd80"
      },
      "outputs": [
        {
          "output_type": "stream",
          "name": "stdout",
          "text": [
            "✅ Secuencias creadas: X=(59137, 24, 4), y=(59137,)\n"
          ]
        }
      ],
      "source": [
        "#=== Crear secuencias ===\n",
        "\n",
        "def crear_secuencias(datos, pasos=24, col_obj=0):\n",
        "  X, y = [], []\n",
        "  for i in range(pasos, len(datos)):\n",
        "    X.append(datos[i-pasos:i])\n",
        "    y.append(datos[i, col_obj])\n",
        "  return np.array(X), np.array(y)\n",
        "\n",
        "n_pasos = 24\n",
        "X, y = crear_secuencias(data_scaled, pasos=n_pasos, col_obj=0)\n",
        "print(f\"✅ Secuencias creadas: X={X.shape}, y={y.shape}\")"
      ]
    },
    {
      "cell_type": "code",
      "execution_count": 76,
      "metadata": {
        "colab": {
          "base_uri": "https://localhost:8080/"
        },
        "id": "laXARuZKlWpt",
        "outputId": "8e337438-d5bf-4162-b1de-13c47e2738a1"
      },
      "outputs": [
        {
          "output_type": "stream",
          "name": "stdout",
          "text": [
            "✅ División de datos:\n",
            " Entrenamiento: 35482\n",
            " Validación: 11827\n",
            " Prueba: 11828\n"
          ]
        }
      ],
      "source": [
        "#=== División 60% / 20% / 20% ===\n",
        "\n",
        "n_total = len(X)\n",
        "n_train = int(n_total * 0.6)\n",
        "n_val = int(n_total * 0.2)\n",
        "\n",
        "X_train, y_train = X[:n_train], y[:n_train]\n",
        "X_val, y_val = X[n_train:n_train+n_val], y[n_train:n_train+n_val]\n",
        "X_test, y_test = X[n_train+n_val:], y[n_train+n_val:]\n",
        "\n",
        "print(f\"✅ División de datos:\")\n",
        "print(f\" Entrenamiento: {len(X_train)}\")\n",
        "print(f\" Validación: {len(X_val)}\")\n",
        "print(f\" Prueba: {len(X_test)}\")"
      ]
    },
    {
      "cell_type": "code",
      "execution_count": 77,
      "metadata": {
        "colab": {
          "base_uri": "https://localhost:8080/",
          "height": 334
        },
        "id": "m7NwRdT9lbdl",
        "outputId": "0a1b01b0-7ec5-4199-c641-13a4be40e0f7"
      },
      "outputs": [
        {
          "output_type": "display_data",
          "data": {
            "text/plain": [
              "\u001b[1mModel: \"sequential_3\"\u001b[0m\n"
            ],
            "text/html": [
              "<pre style=\"white-space:pre;overflow-x:auto;line-height:normal;font-family:Menlo,'DejaVu Sans Mono',consolas,'Courier New',monospace\"><span style=\"font-weight: bold\">Model: \"sequential_3\"</span>\n",
              "</pre>\n"
            ]
          },
          "metadata": {}
        },
        {
          "output_type": "display_data",
          "data": {
            "text/plain": [
              "┏━━━━━━━━━━━━━━━━━━━━━━━━━━━━━━━━━┳━━━━━━━━━━━━━━━━━━━━━━━━┳━━━━━━━━━━━━━━━┓\n",
              "┃\u001b[1m \u001b[0m\u001b[1mLayer (type)                   \u001b[0m\u001b[1m \u001b[0m┃\u001b[1m \u001b[0m\u001b[1mOutput Shape          \u001b[0m\u001b[1m \u001b[0m┃\u001b[1m \u001b[0m\u001b[1m      Param #\u001b[0m\u001b[1m \u001b[0m┃\n",
              "┡━━━━━━━━━━━━━━━━━━━━━━━━━━━━━━━━━╇━━━━━━━━━━━━━━━━━━━━━━━━╇━━━━━━━━━━━━━━━┩\n",
              "│ lstm_6 (\u001b[38;5;33mLSTM\u001b[0m)                   │ (\u001b[38;5;45mNone\u001b[0m, \u001b[38;5;34m24\u001b[0m, \u001b[38;5;34m64\u001b[0m)         │        \u001b[38;5;34m17,664\u001b[0m │\n",
              "├─────────────────────────────────┼────────────────────────┼───────────────┤\n",
              "│ dropout_6 (\u001b[38;5;33mDropout\u001b[0m)             │ (\u001b[38;5;45mNone\u001b[0m, \u001b[38;5;34m24\u001b[0m, \u001b[38;5;34m64\u001b[0m)         │             \u001b[38;5;34m0\u001b[0m │\n",
              "├─────────────────────────────────┼────────────────────────┼───────────────┤\n",
              "│ lstm_7 (\u001b[38;5;33mLSTM\u001b[0m)                   │ (\u001b[38;5;45mNone\u001b[0m, \u001b[38;5;34m32\u001b[0m)             │        \u001b[38;5;34m12,416\u001b[0m │\n",
              "├─────────────────────────────────┼────────────────────────┼───────────────┤\n",
              "│ dropout_7 (\u001b[38;5;33mDropout\u001b[0m)             │ (\u001b[38;5;45mNone\u001b[0m, \u001b[38;5;34m32\u001b[0m)             │             \u001b[38;5;34m0\u001b[0m │\n",
              "├─────────────────────────────────┼────────────────────────┼───────────────┤\n",
              "│ dense_6 (\u001b[38;5;33mDense\u001b[0m)                 │ (\u001b[38;5;45mNone\u001b[0m, \u001b[38;5;34m8\u001b[0m)              │           \u001b[38;5;34m264\u001b[0m │\n",
              "├─────────────────────────────────┼────────────────────────┼───────────────┤\n",
              "│ dense_7 (\u001b[38;5;33mDense\u001b[0m)                 │ (\u001b[38;5;45mNone\u001b[0m, \u001b[38;5;34m1\u001b[0m)              │             \u001b[38;5;34m9\u001b[0m │\n",
              "└─────────────────────────────────┴────────────────────────┴───────────────┘\n"
            ],
            "text/html": [
              "<pre style=\"white-space:pre;overflow-x:auto;line-height:normal;font-family:Menlo,'DejaVu Sans Mono',consolas,'Courier New',monospace\">┏━━━━━━━━━━━━━━━━━━━━━━━━━━━━━━━━━┳━━━━━━━━━━━━━━━━━━━━━━━━┳━━━━━━━━━━━━━━━┓\n",
              "┃<span style=\"font-weight: bold\"> Layer (type)                    </span>┃<span style=\"font-weight: bold\"> Output Shape           </span>┃<span style=\"font-weight: bold\">       Param # </span>┃\n",
              "┡━━━━━━━━━━━━━━━━━━━━━━━━━━━━━━━━━╇━━━━━━━━━━━━━━━━━━━━━━━━╇━━━━━━━━━━━━━━━┩\n",
              "│ lstm_6 (<span style=\"color: #0087ff; text-decoration-color: #0087ff\">LSTM</span>)                   │ (<span style=\"color: #00d7ff; text-decoration-color: #00d7ff\">None</span>, <span style=\"color: #00af00; text-decoration-color: #00af00\">24</span>, <span style=\"color: #00af00; text-decoration-color: #00af00\">64</span>)         │        <span style=\"color: #00af00; text-decoration-color: #00af00\">17,664</span> │\n",
              "├─────────────────────────────────┼────────────────────────┼───────────────┤\n",
              "│ dropout_6 (<span style=\"color: #0087ff; text-decoration-color: #0087ff\">Dropout</span>)             │ (<span style=\"color: #00d7ff; text-decoration-color: #00d7ff\">None</span>, <span style=\"color: #00af00; text-decoration-color: #00af00\">24</span>, <span style=\"color: #00af00; text-decoration-color: #00af00\">64</span>)         │             <span style=\"color: #00af00; text-decoration-color: #00af00\">0</span> │\n",
              "├─────────────────────────────────┼────────────────────────┼───────────────┤\n",
              "│ lstm_7 (<span style=\"color: #0087ff; text-decoration-color: #0087ff\">LSTM</span>)                   │ (<span style=\"color: #00d7ff; text-decoration-color: #00d7ff\">None</span>, <span style=\"color: #00af00; text-decoration-color: #00af00\">32</span>)             │        <span style=\"color: #00af00; text-decoration-color: #00af00\">12,416</span> │\n",
              "├─────────────────────────────────┼────────────────────────┼───────────────┤\n",
              "│ dropout_7 (<span style=\"color: #0087ff; text-decoration-color: #0087ff\">Dropout</span>)             │ (<span style=\"color: #00d7ff; text-decoration-color: #00d7ff\">None</span>, <span style=\"color: #00af00; text-decoration-color: #00af00\">32</span>)             │             <span style=\"color: #00af00; text-decoration-color: #00af00\">0</span> │\n",
              "├─────────────────────────────────┼────────────────────────┼───────────────┤\n",
              "│ dense_6 (<span style=\"color: #0087ff; text-decoration-color: #0087ff\">Dense</span>)                 │ (<span style=\"color: #00d7ff; text-decoration-color: #00d7ff\">None</span>, <span style=\"color: #00af00; text-decoration-color: #00af00\">8</span>)              │           <span style=\"color: #00af00; text-decoration-color: #00af00\">264</span> │\n",
              "├─────────────────────────────────┼────────────────────────┼───────────────┤\n",
              "│ dense_7 (<span style=\"color: #0087ff; text-decoration-color: #0087ff\">Dense</span>)                 │ (<span style=\"color: #00d7ff; text-decoration-color: #00d7ff\">None</span>, <span style=\"color: #00af00; text-decoration-color: #00af00\">1</span>)              │             <span style=\"color: #00af00; text-decoration-color: #00af00\">9</span> │\n",
              "└─────────────────────────────────┴────────────────────────┴───────────────┘\n",
              "</pre>\n"
            ]
          },
          "metadata": {}
        },
        {
          "output_type": "display_data",
          "data": {
            "text/plain": [
              "\u001b[1m Total params: \u001b[0m\u001b[38;5;34m30,353\u001b[0m (118.57 KB)\n"
            ],
            "text/html": [
              "<pre style=\"white-space:pre;overflow-x:auto;line-height:normal;font-family:Menlo,'DejaVu Sans Mono',consolas,'Courier New',monospace\"><span style=\"font-weight: bold\"> Total params: </span><span style=\"color: #00af00; text-decoration-color: #00af00\">30,353</span> (118.57 KB)\n",
              "</pre>\n"
            ]
          },
          "metadata": {}
        },
        {
          "output_type": "display_data",
          "data": {
            "text/plain": [
              "\u001b[1m Trainable params: \u001b[0m\u001b[38;5;34m30,353\u001b[0m (118.57 KB)\n"
            ],
            "text/html": [
              "<pre style=\"white-space:pre;overflow-x:auto;line-height:normal;font-family:Menlo,'DejaVu Sans Mono',consolas,'Courier New',monospace\"><span style=\"font-weight: bold\"> Trainable params: </span><span style=\"color: #00af00; text-decoration-color: #00af00\">30,353</span> (118.57 KB)\n",
              "</pre>\n"
            ]
          },
          "metadata": {}
        },
        {
          "output_type": "display_data",
          "data": {
            "text/plain": [
              "\u001b[1m Non-trainable params: \u001b[0m\u001b[38;5;34m0\u001b[0m (0.00 B)\n"
            ],
            "text/html": [
              "<pre style=\"white-space:pre;overflow-x:auto;line-height:normal;font-family:Menlo,'DejaVu Sans Mono',consolas,'Courier New',monospace\"><span style=\"font-weight: bold\"> Non-trainable params: </span><span style=\"color: #00af00; text-decoration-color: #00af00\">0</span> (0.00 B)\n",
              "</pre>\n"
            ]
          },
          "metadata": {}
        }
      ],
      "source": [
        "# === Modelo LSTM liviano (2 capas LSTM) ===\n",
        "model = Sequential([\n",
        "    LSTM(64, return_sequences=True, input_shape=(n_pasos, X.shape[2]), activation='tanh'),\n",
        "    Dropout(0.2),\n",
        "    LSTM(32, activation='tanh'),\n",
        "    Dropout(0.1),\n",
        "    Dense(8, activation='relu'),\n",
        "    Dense(1)\n",
        "])\n",
        "\n",
        "model.compile(optimizer=Adam(learning_rate=0.001), loss='mse', metrics=['mae'])\n",
        "model.summary()\n",
        "\n"
      ]
    },
    {
      "cell_type": "code",
      "execution_count": null,
      "metadata": {
        "colab": {
          "base_uri": "https://localhost:8080/"
        },
        "id": "m8KvOc2Dled0",
        "outputId": "cdc10af9-61a6-48f5-a16c-a6f99f908b85"
      },
      "outputs": [
        {
          "output_type": "stream",
          "name": "stdout",
          "text": [
            "Epoch 1/40\n",
            "\u001b[1m1109/1109\u001b[0m \u001b[32m━━━━━━━━━━━━━━━━━━━━\u001b[0m\u001b[37m\u001b[0m \u001b[1m34s\u001b[0m 28ms/step - loss: nan - mae: nan - val_loss: nan - val_mae: nan\n",
            "Epoch 2/40\n",
            "\u001b[1m1109/1109\u001b[0m \u001b[32m━━━━━━━━━━━━━━━━━━━━\u001b[0m\u001b[37m\u001b[0m \u001b[1m31s\u001b[0m 28ms/step - loss: nan - mae: nan - val_loss: nan - val_mae: nan\n",
            "Epoch 3/40\n",
            "\u001b[1m1109/1109\u001b[0m \u001b[32m━━━━━━━━━━━━━━━━━━━━\u001b[0m\u001b[37m\u001b[0m \u001b[1m31s\u001b[0m 28ms/step - loss: nan - mae: nan - val_loss: nan - val_mae: nan\n",
            "Epoch 4/40\n",
            "\u001b[1m1109/1109\u001b[0m \u001b[32m━━━━━━━━━━━━━━━━━━━━\u001b[0m\u001b[37m\u001b[0m \u001b[1m31s\u001b[0m 28ms/step - loss: nan - mae: nan - val_loss: nan - val_mae: nan\n",
            "Epoch 5/40\n",
            "\u001b[1m1109/1109\u001b[0m \u001b[32m━━━━━━━━━━━━━━━━━━━━\u001b[0m\u001b[37m\u001b[0m \u001b[1m31s\u001b[0m 28ms/step - loss: nan - mae: nan - val_loss: nan - val_mae: nan\n",
            "Epoch 6/40\n",
            "\u001b[1m1109/1109\u001b[0m \u001b[32m━━━━━━━━━━━━━━━━━━━━\u001b[0m\u001b[37m\u001b[0m \u001b[1m31s\u001b[0m 28ms/step - loss: nan - mae: nan - val_loss: nan - val_mae: nan\n",
            "Epoch 7/40\n",
            "\u001b[1m 111/1109\u001b[0m \u001b[32m━━\u001b[0m\u001b[37m━━━━━━━━━━━━━━━━━━\u001b[0m \u001b[1m25s\u001b[0m 25ms/step - loss: nan - mae: nan"
          ]
        }
      ],
      "source": [
        "#=== Callbacks ===\n",
        "\n",
        "early_stop = EarlyStopping(monitor='val_loss', patience=8, restore_best_weights=True)\n",
        "checkpoint = ModelCheckpoint(\"modelo_clima_best.h5\", save_best_only=True)\n",
        "\n",
        "#=== Entrenamiento ===\n",
        "\n",
        "history = model.fit(\n",
        "X_train, y_train,\n",
        "validation_data=(X_val, y_val),\n",
        "epochs=40,\n",
        "batch_size=32,\n",
        "callbacks=[early_stop, checkpoint],\n",
        "verbose=1\n",
        ")"
      ]
    },
    {
      "cell_type": "code",
      "execution_count": null,
      "metadata": {
        "id": "GhpFC9HBliU7"
      },
      "outputs": [],
      "source": [
        "#=== Evaluar en test ===\n",
        "\n",
        "loss, mae = model.evaluate(X_test, y_test, verbose=0)\n",
        "print(f\"\\n📊 RESULTADOS FINAL:\")\n",
        "print(f\" MSE: {loss:.4f} | MAE: {mae:.4f}\")"
      ]
    },
    {
      "cell_type": "code",
      "execution_count": null,
      "metadata": {
        "id": "lqw4_ApwllGu"
      },
      "outputs": [],
      "source": [
        "#=== Guardar modelo ===\n",
        "\n",
        "model.save(\"modelo_clima_ligero.h5\")\n",
        "print(\"💾 Modelo guardado: modelo_clima_ligero.h5\")"
      ]
    },
    {
      "cell_type": "code",
      "execution_count": 46,
      "metadata": {
        "colab": {
          "base_uri": "https://localhost:8080/"
        },
        "id": "5Q8bdoEOlqpH",
        "outputId": "4055e484-9008-4eeb-913d-129d32b3285f"
      },
      "outputs": [
        {
          "output_type": "stream",
          "name": "stdout",
          "text": [
            "Saved artifact at '/tmp/tmpr14vmoxn'. The following endpoints are available:\n",
            "\n",
            "* Endpoint 'serve'\n",
            "  args_0 (POSITIONAL_ONLY): TensorSpec(shape=(None, 24, 4), dtype=tf.float32, name='keras_tensor_14')\n",
            "Output Type:\n",
            "  TensorSpec(shape=(None, 1), dtype=tf.float32, name=None)\n",
            "Captures:\n",
            "  139806521813584: TensorSpec(shape=(), dtype=tf.resource, name=None)\n",
            "  139806521817232: TensorSpec(shape=(), dtype=tf.resource, name=None)\n",
            "  139806397114000: TensorSpec(shape=(), dtype=tf.resource, name=None)\n",
            "  139806397112272: TensorSpec(shape=(), dtype=tf.resource, name=None)\n",
            "  139806397114192: TensorSpec(shape=(), dtype=tf.resource, name=None)\n",
            "  139806397113040: TensorSpec(shape=(), dtype=tf.resource, name=None)\n",
            "  139806521817808: TensorSpec(shape=(), dtype=tf.resource, name=None)\n",
            "  139806521816080: TensorSpec(shape=(), dtype=tf.resource, name=None)\n",
            "  139806521811472: TensorSpec(shape=(), dtype=tf.resource, name=None)\n",
            "  139806521815696: TensorSpec(shape=(), dtype=tf.resource, name=None)\n",
            "💡 Conversión exitosa → modelo_clima_ligero.tflite\n",
            "Saved artifact at '/tmp/tmpaxni8ger'. The following endpoints are available:\n",
            "\n",
            "* Endpoint 'serve'\n",
            "  args_0 (POSITIONAL_ONLY): TensorSpec(shape=(None, 24, 4), dtype=tf.float32, name='keras_tensor_14')\n",
            "Output Type:\n",
            "  TensorSpec(shape=(None, 1), dtype=tf.float32, name=None)\n",
            "Captures:\n",
            "  139806521813584: TensorSpec(shape=(), dtype=tf.resource, name=None)\n",
            "  139806521817232: TensorSpec(shape=(), dtype=tf.resource, name=None)\n",
            "  139806397114000: TensorSpec(shape=(), dtype=tf.resource, name=None)\n",
            "  139806397112272: TensorSpec(shape=(), dtype=tf.resource, name=None)\n",
            "  139806397114192: TensorSpec(shape=(), dtype=tf.resource, name=None)\n",
            "  139806397113040: TensorSpec(shape=(), dtype=tf.resource, name=None)\n",
            "  139806521817808: TensorSpec(shape=(), dtype=tf.resource, name=None)\n",
            "  139806521816080: TensorSpec(shape=(), dtype=tf.resource, name=None)\n",
            "  139806521811472: TensorSpec(shape=(), dtype=tf.resource, name=None)\n",
            "  139806521815696: TensorSpec(shape=(), dtype=tf.resource, name=None)\n",
            "✅ Modelo cuantizado FP16 guardado (para Raspberry Pi)\n"
          ]
        }
      ],
      "source": [
        "#==================================================\n",
        "#CONVERSIÓN A TENSORFLOW LITE\n",
        "#==================================================\n",
        "\n",
        "converter = tf.lite.TFLiteConverter.from_keras_model(model)\n",
        "converter.target_spec.supported_ops = [\n",
        "tf.lite.OpsSet.TFLITE_BUILTINS,\n",
        "tf.lite.OpsSet.SELECT_TF_OPS\n",
        "]\n",
        "converter._experimental_lower_tensor_list_ops = False\n",
        "converter.optimizations = [tf.lite.Optimize.DEFAULT]\n",
        "\n",
        "tflite_model = converter.convert()\n",
        "with open(\"modelo_clima_ligero.tflite\", \"wb\") as f:\n",
        "  f.write(tflite_model)\n",
        "print(\"💡 Conversión exitosa → modelo_clima_ligero.tflite\")\n",
        "\n",
        "#=== Cuantización FP16 (opcional) ===\n",
        "\n",
        "converter.target_spec.supported_types = [tf.float16]\n",
        "tflite_model_fp16 = converter.convert()\n",
        "with open(\"modelo_clima_ligero_fp16.tflite\", \"wb\") as f:\n",
        "  f.write(tflite_model_fp16)\n",
        "print(\"✅ Modelo cuantizado FP16 guardado (para Raspberry Pi)\")"
      ]
    },
    {
      "cell_type": "code",
      "source": [
        "#=== Verificar valores NaN antes de calcular métricas ===\n",
        "import numpy as np\n",
        "\n",
        "# Revisar si hay NaN en las predicciones o reales\n",
        "print(\"🔍 Revisando NaN...\")\n",
        "print(f\"NaN en y_pred_real: {np.isnan(y_pred_real).sum()}\")\n",
        "print(f\"NaN en y_true_real: {np.isnan(y_true_real).sum()}\")\n",
        "\n",
        "# Eliminar filas con NaN\n",
        "mask = ~np.isnan(y_true_real) & ~np.isnan(y_pred_real)\n",
        "y_true_real = y_true_real[mask]\n",
        "y_pred_real = y_pred_real[mask]\n",
        "\n",
        "print(f\"✅ Filas válidas: {len(y_true_real)} (eliminadas {len(mask) - mask.sum()})\")\n",
        "print(\"Scaler entrenado con columnas:\", data_scaled.shape[1])\n",
        "print(\"Dummy shape:\", dummy_pred.shape)\n",
        "print(\"Predicciones shape:\", y_pred_scaled.shape)\n",
        "\n"
      ],
      "metadata": {
        "id": "kb5A0mHixRLW"
      },
      "execution_count": null,
      "outputs": []
    },
    {
      "cell_type": "code",
      "execution_count": null,
      "metadata": {
        "id": "RetTE0bNltX3"
      },
      "outputs": [],
      "source": [
        "#==================================================\n",
        "#EVALUACIÓN COMPLETA (MAE, MSE, R², confianza)\n",
        "#==================================================\n",
        "#=== Verificar valores NaN antes de calcular métricas ===\n",
        "\n",
        "y_pred_scaled = model.predict(X_test)\n",
        "dummy_pred = np.zeros((len(y_pred_scaled), data_scaled.shape[1]))\n",
        "dummy_pred[:, 0] = y_pred_scaled.flatten()\n",
        "y_pred_real = scaler.inverse_transform(dummy_pred)[:, 0]\n",
        "\n",
        "dummy_true = np.zeros((len(y_test), data_scaled.shape[1]))\n",
        "dummy_true[:, 0] = y_test\n",
        "y_true_real = scaler.inverse_transform(dummy_true)[:, 0]\n",
        "\n",
        "mae_real = mean_absolute_error(y_true_real, y_pred_real)\n",
        "mse_real = mean_squared_error(y_true_real, y_pred_real)\n",
        "r2 = r2_score(y_true_real, y_pred_real)\n",
        "confianza = max(0, min(100, r2 * 100))\n",
        "\n",
        "print(\"\\n📈 MÉTRICAS EN ESCALA REAL:\")\n",
        "print(f\" - MAE: {mae_real:.3f}\")\n",
        "print(f\" - MSE: {mse_real:.3f}\")\n",
        "print(f\" - R²: {r2:.3f}\")\n",
        "print(f\" - Confianza: {confianza:.1f}%\")\n",
        "\n",
        "#=== Gráficos ===\n",
        "\n",
        "plt.figure(figsize=(14, 5))\n",
        "plt.plot(y_true_real[:300], label=\"Real\", alpha=0.8)\n",
        "plt.plot(y_pred_real[:300], label=\"Predicho\", alpha=0.8)\n",
        "plt.title(\"Predicciones vs Valores Reales (muestras de prueba)\")\n",
        "plt.legend()\n",
        "plt.grid(True, alpha=0.3)\n",
        "plt.show()\n",
        "\n",
        "#--- Gráfico de métricas ---\n",
        "\n",
        "metricas = {\"MAE\": mae_real, \"MSE\": mse_real, \"R²\": r2}\n",
        "plt.figure(figsize=(6, 4))\n",
        "sns.barplot(x=list(metricas.keys()), y=list(metricas.values()), palette=\"viridis\")\n",
        "plt.title(\"Comparación de Métricas del Modelo\")\n",
        "plt.grid(axis='y', alpha=0.3)\n",
        "plt.show()"
      ]
    },
    {
      "cell_type": "code",
      "execution_count": null,
      "metadata": {
        "id": "j4X-7AoedFrP"
      },
      "outputs": [],
      "source": [
        "#==================================================\n",
        "#GUARDAR MODELO FINAL Y RESUMEN\n",
        "#==================================================\n",
        "\n",
        "model_path = \"modelo_lstm_3_features.h5\"\n",
        "model.save(model_path)\n",
        "\n",
        "print(f\"\\n✅ ARCHIVOS GUARDADOS:\")\n",
        "print(f\" 📦 Modelo: {model_path}\")\n",
        "print(f\" 📦 Scaler: {scaler_path}\")\n",
        "print(f\"\\n🎉 ¡Entrenamiento completado exitosamente!\")\n",
        "print(f\"\\n📝 Configuración del modelo:\")\n",
        "print(f\" - Dataset: dataset_ml.csv\")\n",
        "print(f\" - Features: 3 columnas (ts, hr, p0)\")\n",
        "print(f\" - Timesteps: {n_pasos}\")\n",
        "print(f\" - MAE: {mae_real:.3f} °C\")\n",
        "print(f\" - Objetivo: Predecir 'ts' (Temperatura del Aire Seco)\")\n",
        "print(f\" - Confianza: {confianza:.1f}%\")\n",
        "print(f\"\\n💡 Ahora puedes usar el modelo con 'predecir_simple.py'\")"
      ]
    }
  ],
  "metadata": {
    "colab": {
      "machine_shape": "hm",
      "provenance": []
    },
    "kernelspec": {
      "display_name": "Python 3",
      "name": "python3"
    },
    "language_info": {
      "name": "python"
    }
  },
  "nbformat": 4,
  "nbformat_minor": 0
}