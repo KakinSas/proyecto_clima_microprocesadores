{
 "cells": [
  {
   "cell_type": "markdown",
   "id": "2e6624e1",
   "metadata": {},
   "source": [
    "# Entrenamiento de Modelo Simple para TFLite\n",
    "## Modelo compatible con tflite-runtime (sin operaciones Flex)\n",
    "\n",
    "Este notebook entrena un modelo **sin LSTM** para garantizar compatibilidad total con TFLite:\n",
    "\n",
    "**Características:**\n",
    "- ✅ Solo capas Dense (sin LSTM)\n",
    "- ✅ 100% compatible con tflite-runtime\n",
    "- ✅ No requiere TensorFlow completo en producción\n",
    "- ✅ Usa las mismas 4 features (ts, hr, p0, hora_decimal)\n",
    "\n",
    "**Trade-off:**\n",
    "- ⚠️ Menos precisión que LSTM (no captura patrones temporales complejos)\n",
    "- ✅ Mucho más ligero y rápido"
   ]
  },
  {
   "cell_type": "code",
   "execution_count": 1,
   "id": "a2a390e0",
   "metadata": {},
   "outputs": [
    {
     "name": "stdout",
     "output_type": "stream",
     "text": [
      "TensorFlow version: 2.20.0\n"
     ]
    }
   ],
   "source": [
    "# Imports necesarios\n",
    "import pandas as pd\n",
    "import numpy as np\n",
    "import matplotlib.pyplot as plt\n",
    "from sklearn.preprocessing import StandardScaler\n",
    "from tensorflow.keras.models import Sequential\n",
    "from tensorflow.keras.layers import Dense, Dropout, Flatten\n",
    "from tensorflow.keras.callbacks import EarlyStopping, ModelCheckpoint\n",
    "from tensorflow.keras.optimizers import Adam\n",
    "import tensorflow as tf\n",
    "import joblib\n",
    "import warnings\n",
    "warnings.filterwarnings('ignore')\n",
    "\n",
    "print(f\"TensorFlow version: {tf.__version__}\")"
   ]
  },
  {
   "cell_type": "markdown",
   "id": "96884541",
   "metadata": {},
   "source": [
    "## 1. Cargar y explorar datos"
   ]
  },
  {
   "cell_type": "code",
   "execution_count": 2,
   "id": "8867bfc9",
   "metadata": {},
   "outputs": [
    {
     "name": "stdout",
     "output_type": "stream",
     "text": [
      "✅ Datos cargados\n",
      "   Total de registros: 3,549,541\n",
      "   Columnas: ['momento', 'ts', 'td', 'tMin12Horas', 'tMax12Horas', 'tMin24Horas', 'hr', 'p0', 'qfe1', 'qfe2', 'qff', 'qnh', 'tPromedio24h', 'deltaTemp1h', 'deltaPresion1h', 'humedadRelativaCambio']\n",
      "\n",
      "📊 Primeras filas:\n"
     ]
    },
    {
     "data": {
      "text/html": [
       "<div>\n",
       "<style scoped>\n",
       "    .dataframe tbody tr th:only-of-type {\n",
       "        vertical-align: middle;\n",
       "    }\n",
       "\n",
       "    .dataframe tbody tr th {\n",
       "        vertical-align: top;\n",
       "    }\n",
       "\n",
       "    .dataframe thead th {\n",
       "        text-align: right;\n",
       "    }\n",
       "</style>\n",
       "<table border=\"1\" class=\"dataframe\">\n",
       "  <thead>\n",
       "    <tr style=\"text-align: right;\">\n",
       "      <th></th>\n",
       "      <th>momento</th>\n",
       "      <th>ts</th>\n",
       "      <th>td</th>\n",
       "      <th>tMin12Horas</th>\n",
       "      <th>tMax12Horas</th>\n",
       "      <th>tMin24Horas</th>\n",
       "      <th>hr</th>\n",
       "      <th>p0</th>\n",
       "      <th>qfe1</th>\n",
       "      <th>qfe2</th>\n",
       "      <th>qff</th>\n",
       "      <th>qnh</th>\n",
       "      <th>tPromedio24h</th>\n",
       "      <th>deltaTemp1h</th>\n",
       "      <th>deltaPresion1h</th>\n",
       "      <th>humedadRelativaCambio</th>\n",
       "    </tr>\n",
       "  </thead>\n",
       "  <tbody>\n",
       "    <tr>\n",
       "      <th>0</th>\n",
       "      <td>2019-01-01 01:00:00</td>\n",
       "      <td>21.9</td>\n",
       "      <td>3.5</td>\n",
       "      <td>21.0</td>\n",
       "      <td>32.3</td>\n",
       "      <td>32.9</td>\n",
       "      <td>30.0</td>\n",
       "      <td>950.9</td>\n",
       "      <td>951.0</td>\n",
       "      <td>951.184</td>\n",
       "      <td>1010.0</td>\n",
       "      <td>1011.9</td>\n",
       "      <td>22.683607</td>\n",
       "      <td>-1.7</td>\n",
       "      <td>0.5</td>\n",
       "      <td>1.2</td>\n",
       "    </tr>\n",
       "    <tr>\n",
       "      <th>1</th>\n",
       "      <td>2019-01-01 01:01:00</td>\n",
       "      <td>21.8</td>\n",
       "      <td>3.5</td>\n",
       "      <td>21.0</td>\n",
       "      <td>32.3</td>\n",
       "      <td>32.9</td>\n",
       "      <td>30.0</td>\n",
       "      <td>950.9</td>\n",
       "      <td>951.0</td>\n",
       "      <td>951.184</td>\n",
       "      <td>1010.0</td>\n",
       "      <td>1011.9</td>\n",
       "      <td>22.669355</td>\n",
       "      <td>-1.8</td>\n",
       "      <td>0.5</td>\n",
       "      <td>1.2</td>\n",
       "    </tr>\n",
       "    <tr>\n",
       "      <th>2</th>\n",
       "      <td>2019-01-01 01:02:00</td>\n",
       "      <td>21.8</td>\n",
       "      <td>3.5</td>\n",
       "      <td>21.0</td>\n",
       "      <td>32.3</td>\n",
       "      <td>32.9</td>\n",
       "      <td>30.0</td>\n",
       "      <td>950.9</td>\n",
       "      <td>951.2</td>\n",
       "      <td>951.184</td>\n",
       "      <td>1010.2</td>\n",
       "      <td>1012.1</td>\n",
       "      <td>22.655556</td>\n",
       "      <td>-1.8</td>\n",
       "      <td>0.5</td>\n",
       "      <td>1.0</td>\n",
       "    </tr>\n",
       "    <tr>\n",
       "      <th>3</th>\n",
       "      <td>2019-01-01 01:03:00</td>\n",
       "      <td>21.8</td>\n",
       "      <td>3.6</td>\n",
       "      <td>21.0</td>\n",
       "      <td>32.3</td>\n",
       "      <td>32.9</td>\n",
       "      <td>30.1</td>\n",
       "      <td>950.9</td>\n",
       "      <td>951.1</td>\n",
       "      <td>951.184</td>\n",
       "      <td>1010.1</td>\n",
       "      <td>1012.0</td>\n",
       "      <td>22.642187</td>\n",
       "      <td>-1.7</td>\n",
       "      <td>0.5</td>\n",
       "      <td>1.0</td>\n",
       "    </tr>\n",
       "    <tr>\n",
       "      <th>4</th>\n",
       "      <td>2019-01-01 01:04:00</td>\n",
       "      <td>21.8</td>\n",
       "      <td>3.5</td>\n",
       "      <td>21.0</td>\n",
       "      <td>32.3</td>\n",
       "      <td>32.9</td>\n",
       "      <td>30.1</td>\n",
       "      <td>950.9</td>\n",
       "      <td>951.1</td>\n",
       "      <td>951.184</td>\n",
       "      <td>1010.1</td>\n",
       "      <td>1012.0</td>\n",
       "      <td>22.629231</td>\n",
       "      <td>-1.7</td>\n",
       "      <td>0.5</td>\n",
       "      <td>0.9</td>\n",
       "    </tr>\n",
       "    <tr>\n",
       "      <th>5</th>\n",
       "      <td>2019-01-01 01:05:00</td>\n",
       "      <td>21.7</td>\n",
       "      <td>3.5</td>\n",
       "      <td>21.0</td>\n",
       "      <td>32.3</td>\n",
       "      <td>32.9</td>\n",
       "      <td>30.1</td>\n",
       "      <td>950.9</td>\n",
       "      <td>951.1</td>\n",
       "      <td>951.184</td>\n",
       "      <td>1010.1</td>\n",
       "      <td>1012.0</td>\n",
       "      <td>22.615152</td>\n",
       "      <td>-1.7</td>\n",
       "      <td>0.4</td>\n",
       "      <td>1.0</td>\n",
       "    </tr>\n",
       "    <tr>\n",
       "      <th>6</th>\n",
       "      <td>2019-01-01 01:06:00</td>\n",
       "      <td>21.7</td>\n",
       "      <td>3.3</td>\n",
       "      <td>21.0</td>\n",
       "      <td>32.3</td>\n",
       "      <td>32.9</td>\n",
       "      <td>29.7</td>\n",
       "      <td>950.9</td>\n",
       "      <td>951.0</td>\n",
       "      <td>951.184</td>\n",
       "      <td>1010.1</td>\n",
       "      <td>1011.9</td>\n",
       "      <td>22.601493</td>\n",
       "      <td>-1.7</td>\n",
       "      <td>0.4</td>\n",
       "      <td>0.8</td>\n",
       "    </tr>\n",
       "    <tr>\n",
       "      <th>7</th>\n",
       "      <td>2019-01-01 01:07:00</td>\n",
       "      <td>21.8</td>\n",
       "      <td>3.3</td>\n",
       "      <td>21.0</td>\n",
       "      <td>32.3</td>\n",
       "      <td>32.9</td>\n",
       "      <td>29.7</td>\n",
       "      <td>951.0</td>\n",
       "      <td>951.1</td>\n",
       "      <td>951.184</td>\n",
       "      <td>1010.1</td>\n",
       "      <td>1012.0</td>\n",
       "      <td>22.589706</td>\n",
       "      <td>-1.6</td>\n",
       "      <td>0.6</td>\n",
       "      <td>0.7</td>\n",
       "    </tr>\n",
       "    <tr>\n",
       "      <th>8</th>\n",
       "      <td>2019-01-01 01:08:00</td>\n",
       "      <td>21.8</td>\n",
       "      <td>3.3</td>\n",
       "      <td>21.0</td>\n",
       "      <td>32.3</td>\n",
       "      <td>32.9</td>\n",
       "      <td>29.9</td>\n",
       "      <td>951.0</td>\n",
       "      <td>951.1</td>\n",
       "      <td>951.184</td>\n",
       "      <td>1010.1</td>\n",
       "      <td>1012.0</td>\n",
       "      <td>22.578261</td>\n",
       "      <td>-1.6</td>\n",
       "      <td>0.5</td>\n",
       "      <td>1.0</td>\n",
       "    </tr>\n",
       "    <tr>\n",
       "      <th>9</th>\n",
       "      <td>2019-01-01 01:09:00</td>\n",
       "      <td>21.7</td>\n",
       "      <td>3.5</td>\n",
       "      <td>21.0</td>\n",
       "      <td>32.3</td>\n",
       "      <td>32.9</td>\n",
       "      <td>30.1</td>\n",
       "      <td>951.0</td>\n",
       "      <td>951.2</td>\n",
       "      <td>951.184</td>\n",
       "      <td>1010.2</td>\n",
       "      <td>1012.1</td>\n",
       "      <td>22.565714</td>\n",
       "      <td>-1.6</td>\n",
       "      <td>0.5</td>\n",
       "      <td>1.1</td>\n",
       "    </tr>\n",
       "  </tbody>\n",
       "</table>\n",
       "</div>"
      ],
      "text/plain": [
       "               momento    ts   td  tMin12Horas  tMax12Horas  tMin24Horas  \\\n",
       "0  2019-01-01 01:00:00  21.9  3.5         21.0         32.3         32.9   \n",
       "1  2019-01-01 01:01:00  21.8  3.5         21.0         32.3         32.9   \n",
       "2  2019-01-01 01:02:00  21.8  3.5         21.0         32.3         32.9   \n",
       "3  2019-01-01 01:03:00  21.8  3.6         21.0         32.3         32.9   \n",
       "4  2019-01-01 01:04:00  21.8  3.5         21.0         32.3         32.9   \n",
       "5  2019-01-01 01:05:00  21.7  3.5         21.0         32.3         32.9   \n",
       "6  2019-01-01 01:06:00  21.7  3.3         21.0         32.3         32.9   \n",
       "7  2019-01-01 01:07:00  21.8  3.3         21.0         32.3         32.9   \n",
       "8  2019-01-01 01:08:00  21.8  3.3         21.0         32.3         32.9   \n",
       "9  2019-01-01 01:09:00  21.7  3.5         21.0         32.3         32.9   \n",
       "\n",
       "     hr     p0   qfe1     qfe2     qff     qnh  tPromedio24h  deltaTemp1h  \\\n",
       "0  30.0  950.9  951.0  951.184  1010.0  1011.9     22.683607         -1.7   \n",
       "1  30.0  950.9  951.0  951.184  1010.0  1011.9     22.669355         -1.8   \n",
       "2  30.0  950.9  951.2  951.184  1010.2  1012.1     22.655556         -1.8   \n",
       "3  30.1  950.9  951.1  951.184  1010.1  1012.0     22.642187         -1.7   \n",
       "4  30.1  950.9  951.1  951.184  1010.1  1012.0     22.629231         -1.7   \n",
       "5  30.1  950.9  951.1  951.184  1010.1  1012.0     22.615152         -1.7   \n",
       "6  29.7  950.9  951.0  951.184  1010.1  1011.9     22.601493         -1.7   \n",
       "7  29.7  951.0  951.1  951.184  1010.1  1012.0     22.589706         -1.6   \n",
       "8  29.9  951.0  951.1  951.184  1010.1  1012.0     22.578261         -1.6   \n",
       "9  30.1  951.0  951.2  951.184  1010.2  1012.1     22.565714         -1.6   \n",
       "\n",
       "   deltaPresion1h  humedadRelativaCambio  \n",
       "0             0.5                    1.2  \n",
       "1             0.5                    1.2  \n",
       "2             0.5                    1.0  \n",
       "3             0.5                    1.0  \n",
       "4             0.5                    0.9  \n",
       "5             0.4                    1.0  \n",
       "6             0.4                    0.8  \n",
       "7             0.6                    0.7  \n",
       "8             0.5                    1.0  \n",
       "9             0.5                    1.1  "
      ]
     },
     "execution_count": 2,
     "metadata": {},
     "output_type": "execute_result"
    }
   ],
   "source": [
    "# Cargar datos del dataset completo\n",
    "csv_path = \"dataset_ml.csv\"\n",
    "df = pd.read_csv(csv_path, sep=\";\", decimal=\".\", encoding=\"utf-8\")\n",
    "\n",
    "# Limpiar nombres de columnas\n",
    "df.columns = df.columns.str.strip()\n",
    "\n",
    "print(f\"✅ Datos cargados\")\n",
    "print(f\"   Total de registros: {len(df):,}\")\n",
    "print(f\"   Columnas: {list(df.columns)}\")\n",
    "print(f\"\\n📊 Primeras filas:\")\n",
    "df.head(10)"
   ]
  },
  {
   "cell_type": "markdown",
   "id": "fea372d2",
   "metadata": {},
   "source": [
    "## 2. Preparar datos"
   ]
  },
  {
   "cell_type": "code",
   "execution_count": 3,
   "id": "ea15fce4",
   "metadata": {},
   "outputs": [
    {
     "name": "stdout",
     "output_type": "stream",
     "text": [
      "✅ Todas las columnas disponibles\n",
      "\n",
      "✅ Datos preparados\n",
      "   Registros después de limpieza: 3,549,541\n",
      "   Features: ['ts', 'hr', 'p0', 'hora_decimal']\n",
      "   Shape: (3549541, 4)\n"
     ]
    }
   ],
   "source": [
    "# Convertir momento a hora decimal\n",
    "df[\"momento\"] = pd.to_datetime(df[\"momento\"], errors='coerce')\n",
    "df[\"hora_decimal\"] = df[\"momento\"].dt.hour + df[\"momento\"].dt.minute / 60.0\n",
    "df = df.drop(columns=[\"momento\"])\n",
    "\n",
    "# Seleccionar features (igual que el modelo LSTM)\n",
    "feature_cols = ['ts', 'hr', 'p0', 'hora_decimal']\n",
    "\n",
    "# Verificar columnas\n",
    "missing = [col for col in feature_cols if col not in df.columns]\n",
    "if missing:\n",
    "    print(f\"❌ Columnas faltantes: {missing}\")\n",
    "else:\n",
    "    print(f\"✅ Todas las columnas disponibles\")\n",
    "\n",
    "# Extraer y limpiar\n",
    "df_selected = df[feature_cols].copy()\n",
    "df_selected = df_selected.apply(pd.to_numeric, errors='coerce')\n",
    "df_selected = df_selected.replace([np.inf, -np.inf], np.nan).dropna()\n",
    "\n",
    "print(f\"\\n✅ Datos preparados\")\n",
    "print(f\"   Registros después de limpieza: {len(df_selected):,}\")\n",
    "print(f\"   Features: {feature_cols}\")\n",
    "\n",
    "data = df_selected.values\n",
    "print(f\"   Shape: {data.shape}\")"
   ]
  },
  {
   "cell_type": "code",
   "execution_count": 4,
   "id": "777e1b88",
   "metadata": {},
   "outputs": [
    {
     "name": "stdout",
     "output_type": "stream",
     "text": [
      "✅ Datos escalados con StandardScaler\n",
      "   Shape: (3549541, 4)\n",
      "\n",
      "💾 Scaler guardado: scaler_4_features_tflite.pkl\n"
     ]
    }
   ],
   "source": [
    "# Escalar datos\n",
    "scaler = StandardScaler()\n",
    "data_scaled = scaler.fit_transform(data)\n",
    "\n",
    "print(\"✅ Datos escalados con StandardScaler\")\n",
    "print(f\"   Shape: {data_scaled.shape}\")\n",
    "\n",
    "# Guardar scaler\n",
    "scaler_tflite_path = \"scaler_4_features_tflite.pkl\"\n",
    "joblib.dump(scaler, scaler_tflite_path)\n",
    "print(f\"\\n💾 Scaler guardado: {scaler_tflite_path}\")"
   ]
  },
  {
   "cell_type": "markdown",
   "id": "17492c2d",
   "metadata": {},
   "source": [
    "## 3. Crear secuencias (SIN LSTM, pero manteniendo estructura temporal)"
   ]
  },
  {
   "cell_type": "code",
   "execution_count": 5,
   "id": "e157f05b",
   "metadata": {},
   "outputs": [
    {
     "name": "stdout",
     "output_type": "stream",
     "text": [
      "✅ Secuencias creadas (aplanadas para Dense)\n",
      "   X shape: (3549517, 96) (secuencias, features_aplanadas)\n",
      "   y shape: (3549517,)\n",
      "   Features por muestra: 96 = 24 timesteps × 4 features\n"
     ]
    }
   ],
   "source": [
    "def crear_secuencias_flatten(datos, n_pasos, columna_objetivo=0):\n",
    "    \"\"\"\n",
    "    Crea secuencias aplanadas para modelo Dense (sin LSTM).\n",
    "    \n",
    "    Args:\n",
    "        datos: Array escalado (n_samples, n_features)\n",
    "        n_pasos: Número de timesteps\n",
    "        columna_objetivo: Índice de columna a predecir (0 = ts)\n",
    "    \n",
    "    Returns:\n",
    "        X: Array aplanado (n_sequences, n_pasos * n_features)\n",
    "        y: Valores objetivo (n_sequences,)\n",
    "    \"\"\"\n",
    "    X, y = [], []\n",
    "    for i in range(n_pasos, len(datos)):\n",
    "        # Tomar ventana y aplanarla\n",
    "        ventana = datos[i - n_pasos:i].flatten()\n",
    "        X.append(ventana)\n",
    "        y.append(datos[i, columna_objetivo])\n",
    "    return np.array(X), np.array(y)\n",
    "\n",
    "# Configuración\n",
    "n_pasos = 24  # Mismo que modelo LSTM\n",
    "columna_ts = 0\n",
    "\n",
    "X, y = crear_secuencias_flatten(data_scaled, n_pasos, columna_ts)\n",
    "\n",
    "print(f\"✅ Secuencias creadas (aplanadas para Dense)\")\n",
    "print(f\"   X shape: {X.shape} (secuencias, features_aplanadas)\")\n",
    "print(f\"   y shape: {y.shape}\")\n",
    "print(f\"   Features por muestra: {X.shape[1]} = {n_pasos} timesteps × 4 features\")"
   ]
  },
  {
   "cell_type": "markdown",
   "id": "e4b771ad",
   "metadata": {},
   "source": [
    "## 4. Dividir datos"
   ]
  },
  {
   "cell_type": "code",
   "execution_count": 6,
   "id": "3458e4c2",
   "metadata": {},
   "outputs": [
    {
     "name": "stdout",
     "output_type": "stream",
     "text": [
      "✅ División completada\n",
      "   Entrenamiento: 2,839,613 (80%)\n",
      "   Validación:    709,904 (20%)\n"
     ]
    }
   ],
   "source": [
    "# División 80/20\n",
    "split_ratio = 0.8\n",
    "n_train = int(len(X) * split_ratio)\n",
    "\n",
    "X_train, X_val = X[:n_train], X[n_train:]\n",
    "y_train, y_val = y[:n_train], y[n_train:]\n",
    "\n",
    "print(f\"✅ División completada\")\n",
    "print(f\"   Entrenamiento: {len(X_train):,} ({split_ratio*100:.0f}%)\")\n",
    "print(f\"   Validación:    {len(X_val):,} ({(1-split_ratio)*100:.0f}%)\")"
   ]
  },
  {
   "cell_type": "markdown",
   "id": "326f60ee",
   "metadata": {},
   "source": [
    "## 5. Construir modelo Dense (compatible con TFLite puro)"
   ]
  },
  {
   "cell_type": "code",
   "execution_count": 7,
   "id": "c586f6e3",
   "metadata": {},
   "outputs": [
    {
     "name": "stdout",
     "output_type": "stream",
     "text": [
      "✅ Modelo Dense construido (100% compatible con TFLite)\n"
     ]
    },
    {
     "data": {
      "text/html": [
       "<pre style=\"white-space:pre;overflow-x:auto;line-height:normal;font-family:Menlo,'DejaVu Sans Mono',consolas,'Courier New',monospace\"><span style=\"font-weight: bold\">Model: \"sequential\"</span>\n",
       "</pre>\n"
      ],
      "text/plain": [
       "\u001b[1mModel: \"sequential\"\u001b[0m\n"
      ]
     },
     "metadata": {},
     "output_type": "display_data"
    },
    {
     "data": {
      "text/html": [
       "<pre style=\"white-space:pre;overflow-x:auto;line-height:normal;font-family:Menlo,'DejaVu Sans Mono',consolas,'Courier New',monospace\">┏━━━━━━━━━━━━━━━━━━━━━━━━━━━━━━━━━┳━━━━━━━━━━━━━━━━━━━━━━━━┳━━━━━━━━━━━━━━━┓\n",
       "┃<span style=\"font-weight: bold\"> Layer (type)                    </span>┃<span style=\"font-weight: bold\"> Output Shape           </span>┃<span style=\"font-weight: bold\">       Param # </span>┃\n",
       "┡━━━━━━━━━━━━━━━━━━━━━━━━━━━━━━━━━╇━━━━━━━━━━━━━━━━━━━━━━━━╇━━━━━━━━━━━━━━━┩\n",
       "│ dense (<span style=\"color: #0087ff; text-decoration-color: #0087ff\">Dense</span>)                   │ (<span style=\"color: #00d7ff; text-decoration-color: #00d7ff\">None</span>, <span style=\"color: #00af00; text-decoration-color: #00af00\">128</span>)            │        <span style=\"color: #00af00; text-decoration-color: #00af00\">12,416</span> │\n",
       "├─────────────────────────────────┼────────────────────────┼───────────────┤\n",
       "│ dropout (<span style=\"color: #0087ff; text-decoration-color: #0087ff\">Dropout</span>)               │ (<span style=\"color: #00d7ff; text-decoration-color: #00d7ff\">None</span>, <span style=\"color: #00af00; text-decoration-color: #00af00\">128</span>)            │             <span style=\"color: #00af00; text-decoration-color: #00af00\">0</span> │\n",
       "├─────────────────────────────────┼────────────────────────┼───────────────┤\n",
       "│ dense_1 (<span style=\"color: #0087ff; text-decoration-color: #0087ff\">Dense</span>)                 │ (<span style=\"color: #00d7ff; text-decoration-color: #00d7ff\">None</span>, <span style=\"color: #00af00; text-decoration-color: #00af00\">64</span>)             │         <span style=\"color: #00af00; text-decoration-color: #00af00\">8,256</span> │\n",
       "├─────────────────────────────────┼────────────────────────┼───────────────┤\n",
       "│ dropout_1 (<span style=\"color: #0087ff; text-decoration-color: #0087ff\">Dropout</span>)             │ (<span style=\"color: #00d7ff; text-decoration-color: #00d7ff\">None</span>, <span style=\"color: #00af00; text-decoration-color: #00af00\">64</span>)             │             <span style=\"color: #00af00; text-decoration-color: #00af00\">0</span> │\n",
       "├─────────────────────────────────┼────────────────────────┼───────────────┤\n",
       "│ dense_2 (<span style=\"color: #0087ff; text-decoration-color: #0087ff\">Dense</span>)                 │ (<span style=\"color: #00d7ff; text-decoration-color: #00d7ff\">None</span>, <span style=\"color: #00af00; text-decoration-color: #00af00\">32</span>)             │         <span style=\"color: #00af00; text-decoration-color: #00af00\">2,080</span> │\n",
       "├─────────────────────────────────┼────────────────────────┼───────────────┤\n",
       "│ dense_3 (<span style=\"color: #0087ff; text-decoration-color: #0087ff\">Dense</span>)                 │ (<span style=\"color: #00d7ff; text-decoration-color: #00d7ff\">None</span>, <span style=\"color: #00af00; text-decoration-color: #00af00\">1</span>)              │            <span style=\"color: #00af00; text-decoration-color: #00af00\">33</span> │\n",
       "└─────────────────────────────────┴────────────────────────┴───────────────┘\n",
       "</pre>\n"
      ],
      "text/plain": [
       "┏━━━━━━━━━━━━━━━━━━━━━━━━━━━━━━━━━┳━━━━━━━━━━━━━━━━━━━━━━━━┳━━━━━━━━━━━━━━━┓\n",
       "┃\u001b[1m \u001b[0m\u001b[1mLayer (type)                   \u001b[0m\u001b[1m \u001b[0m┃\u001b[1m \u001b[0m\u001b[1mOutput Shape          \u001b[0m\u001b[1m \u001b[0m┃\u001b[1m \u001b[0m\u001b[1m      Param #\u001b[0m\u001b[1m \u001b[0m┃\n",
       "┡━━━━━━━━━━━━━━━━━━━━━━━━━━━━━━━━━╇━━━━━━━━━━━━━━━━━━━━━━━━╇━━━━━━━━━━━━━━━┩\n",
       "│ dense (\u001b[38;5;33mDense\u001b[0m)                   │ (\u001b[38;5;45mNone\u001b[0m, \u001b[38;5;34m128\u001b[0m)            │        \u001b[38;5;34m12,416\u001b[0m │\n",
       "├─────────────────────────────────┼────────────────────────┼───────────────┤\n",
       "│ dropout (\u001b[38;5;33mDropout\u001b[0m)               │ (\u001b[38;5;45mNone\u001b[0m, \u001b[38;5;34m128\u001b[0m)            │             \u001b[38;5;34m0\u001b[0m │\n",
       "├─────────────────────────────────┼────────────────────────┼───────────────┤\n",
       "│ dense_1 (\u001b[38;5;33mDense\u001b[0m)                 │ (\u001b[38;5;45mNone\u001b[0m, \u001b[38;5;34m64\u001b[0m)             │         \u001b[38;5;34m8,256\u001b[0m │\n",
       "├─────────────────────────────────┼────────────────────────┼───────────────┤\n",
       "│ dropout_1 (\u001b[38;5;33mDropout\u001b[0m)             │ (\u001b[38;5;45mNone\u001b[0m, \u001b[38;5;34m64\u001b[0m)             │             \u001b[38;5;34m0\u001b[0m │\n",
       "├─────────────────────────────────┼────────────────────────┼───────────────┤\n",
       "│ dense_2 (\u001b[38;5;33mDense\u001b[0m)                 │ (\u001b[38;5;45mNone\u001b[0m, \u001b[38;5;34m32\u001b[0m)             │         \u001b[38;5;34m2,080\u001b[0m │\n",
       "├─────────────────────────────────┼────────────────────────┼───────────────┤\n",
       "│ dense_3 (\u001b[38;5;33mDense\u001b[0m)                 │ (\u001b[38;5;45mNone\u001b[0m, \u001b[38;5;34m1\u001b[0m)              │            \u001b[38;5;34m33\u001b[0m │\n",
       "└─────────────────────────────────┴────────────────────────┴───────────────┘\n"
      ]
     },
     "metadata": {},
     "output_type": "display_data"
    },
    {
     "data": {
      "text/html": [
       "<pre style=\"white-space:pre;overflow-x:auto;line-height:normal;font-family:Menlo,'DejaVu Sans Mono',consolas,'Courier New',monospace\"><span style=\"font-weight: bold\"> Total params: </span><span style=\"color: #00af00; text-decoration-color: #00af00\">22,785</span> (89.00 KB)\n",
       "</pre>\n"
      ],
      "text/plain": [
       "\u001b[1m Total params: \u001b[0m\u001b[38;5;34m22,785\u001b[0m (89.00 KB)\n"
      ]
     },
     "metadata": {},
     "output_type": "display_data"
    },
    {
     "data": {
      "text/html": [
       "<pre style=\"white-space:pre;overflow-x:auto;line-height:normal;font-family:Menlo,'DejaVu Sans Mono',consolas,'Courier New',monospace\"><span style=\"font-weight: bold\"> Trainable params: </span><span style=\"color: #00af00; text-decoration-color: #00af00\">22,785</span> (89.00 KB)\n",
       "</pre>\n"
      ],
      "text/plain": [
       "\u001b[1m Trainable params: \u001b[0m\u001b[38;5;34m22,785\u001b[0m (89.00 KB)\n"
      ]
     },
     "metadata": {},
     "output_type": "display_data"
    },
    {
     "data": {
      "text/html": [
       "<pre style=\"white-space:pre;overflow-x:auto;line-height:normal;font-family:Menlo,'DejaVu Sans Mono',consolas,'Courier New',monospace\"><span style=\"font-weight: bold\"> Non-trainable params: </span><span style=\"color: #00af00; text-decoration-color: #00af00\">0</span> (0.00 B)\n",
       "</pre>\n"
      ],
      "text/plain": [
       "\u001b[1m Non-trainable params: \u001b[0m\u001b[38;5;34m0\u001b[0m (0.00 B)\n"
      ]
     },
     "metadata": {},
     "output_type": "display_data"
    }
   ],
   "source": [
    "# Modelo completamente Dense (sin LSTM)\n",
    "model = Sequential([\n",
    "    Dense(128, activation='relu', input_shape=(X.shape[1],)),\n",
    "    Dropout(0.2),\n",
    "    Dense(64, activation='relu'),\n",
    "    Dropout(0.2),\n",
    "    Dense(32, activation='relu'),\n",
    "    Dense(1)  # Salida: temperatura\n",
    "])\n",
    "\n",
    "model.compile(\n",
    "    optimizer=Adam(learning_rate=0.001),\n",
    "    loss='mse',\n",
    "    metrics=['mae']\n",
    ")\n",
    "\n",
    "print(\"✅ Modelo Dense construido (100% compatible con TFLite)\")\n",
    "model.summary()"
   ]
  },
  {
   "cell_type": "markdown",
   "id": "67bb7ea8",
   "metadata": {},
   "source": [
    "## 6. Entrenar modelo (2 épocas para prueba rápida)"
   ]
  },
  {
   "cell_type": "code",
   "execution_count": 8,
   "id": "49af0088",
   "metadata": {},
   "outputs": [
    {
     "name": "stdout",
     "output_type": "stream",
     "text": [
      "🚀 Iniciando entrenamiento (2 épocas)...\n",
      "\n",
      "Epoch 1/2\n",
      "\u001b[1m88730/88738\u001b[0m \u001b[32m━━━━━━━━━━━━━━━━━━━\u001b[0m\u001b[37m━\u001b[0m \u001b[1m0s\u001b[0m 1ms/step - loss: 0.0062 - mae: 0.0477\n",
      "Epoch 1: val_loss improved from None to 0.08933, saving model to modelo_simple_tflite_best.h5\n"
     ]
    },
    {
     "name": "stderr",
     "output_type": "stream",
     "text": [
      "WARNING:absl:You are saving your model as an HDF5 file via `model.save()` or `keras.saving.save_model(model)`. This file format is considered legacy. We recommend using instead the native Keras format, e.g. `model.save('my_model.keras')` or `keras.saving.save_model(model, 'my_model.keras')`. \n"
     ]
    },
    {
     "name": "stdout",
     "output_type": "stream",
     "text": [
      "\u001b[1m88738/88738\u001b[0m \u001b[32m━━━━━━━━━━━━━━━━━━━━\u001b[0m\u001b[37m\u001b[0m \u001b[1m141s\u001b[0m 2ms/step - loss: 0.0029 - mae: 0.0348 - val_loss: 0.0893 - val_mae: 0.2702\n",
      "Epoch 2/2\n",
      "\u001b[1m88733/88738\u001b[0m \u001b[32m━━━━━━━━━━━━━━━━━━━\u001b[0m\u001b[37m━\u001b[0m \u001b[1m0s\u001b[0m 1ms/step - loss: 0.0014 - mae: 0.0247\n",
      "Epoch 2: val_loss did not improve from 0.08933\n",
      "\u001b[1m88738/88738\u001b[0m \u001b[32m━━━━━━━━━━━━━━━━━━━━\u001b[0m\u001b[37m\u001b[0m \u001b[1m149s\u001b[0m 2ms/step - loss: 0.0013 - mae: 0.0237 - val_loss: 0.0957 - val_mae: 0.2843\n",
      "Restoring model weights from the end of the best epoch: 1.\n",
      "\n",
      "✅ Entrenamiento completado\n"
     ]
    }
   ],
   "source": [
    "# Callbacks\n",
    "early_stop = EarlyStopping(\n",
    "    monitor='val_loss',\n",
    "    patience=10,\n",
    "    restore_best_weights=True,\n",
    "    verbose=1\n",
    ")\n",
    "\n",
    "checkpoint = ModelCheckpoint(\n",
    "    'modelo_simple_tflite_best.h5',\n",
    "    monitor='val_loss',\n",
    "    save_best_only=True,\n",
    "    verbose=1\n",
    ")\n",
    "\n",
    "# Entrenamiento\n",
    "print(\"🚀 Iniciando entrenamiento (2 épocas)...\\n\")\n",
    "history = model.fit(\n",
    "    X_train, y_train,\n",
    "    validation_data=(X_val, y_val),\n",
    "    epochs=2,  # Solo 2 épocas para prueba\n",
    "    batch_size=32,\n",
    "    callbacks=[early_stop, checkpoint],\n",
    "    verbose=1\n",
    ")\n",
    "\n",
    "print(\"\\n✅ Entrenamiento completado\")"
   ]
  },
  {
   "cell_type": "markdown",
   "id": "5e1dc117",
   "metadata": {},
   "source": [
    "## 7. Evaluar modelo"
   ]
  },
  {
   "cell_type": "code",
   "execution_count": 9,
   "id": "f153ab87",
   "metadata": {},
   "outputs": [
    {
     "name": "stdout",
     "output_type": "stream",
     "text": [
      "📊 RESULTADOS EN VALIDACIÓN\n",
      "   Loss (MSE): 0.089333\n",
      "   MAE:        0.270160\n",
      "\n",
      "🌡️  MAE en escala real: 2.109 °C\n"
     ]
    }
   ],
   "source": [
    "# Evaluar\n",
    "loss, mae = model.evaluate(X_val, y_val, verbose=0)\n",
    "print(f\"📊 RESULTADOS EN VALIDACIÓN\")\n",
    "print(f\"   Loss (MSE): {loss:.6f}\")\n",
    "print(f\"   MAE:        {mae:.6f}\")\n",
    "\n",
    "# Predicciones\n",
    "y_pred_scaled = model.predict(X_val, verbose=0)\n",
    "\n",
    "# Invertir escalado\n",
    "dummy_pred = np.zeros((len(y_pred_scaled), 4))\n",
    "dummy_pred[:, 0] = y_pred_scaled.flatten()\n",
    "y_pred_real = scaler.inverse_transform(dummy_pred)[:, 0]\n",
    "\n",
    "dummy_true = np.zeros((len(y_val), 4))\n",
    "dummy_true[:, 0] = y_val\n",
    "y_true_real = scaler.inverse_transform(dummy_true)[:, 0]\n",
    "\n",
    "mae_real = np.mean(np.abs(y_pred_real - y_true_real))\n",
    "print(f\"\\n🌡️  MAE en escala real: {mae_real:.3f} °C\")"
   ]
  },
  {
   "cell_type": "markdown",
   "id": "2107c7ea",
   "metadata": {},
   "source": [
    "## 8. Guardar modelo Keras"
   ]
  },
  {
   "cell_type": "code",
   "execution_count": 10,
   "id": "4c1f86e0",
   "metadata": {},
   "outputs": [
    {
     "name": "stderr",
     "output_type": "stream",
     "text": [
      "WARNING:absl:You are saving your model as an HDF5 file via `model.save()` or `keras.saving.save_model(model)`. This file format is considered legacy. We recommend using instead the native Keras format, e.g. `model.save('my_model.keras')` or `keras.saving.save_model(model, 'my_model.keras')`. \n"
     ]
    },
    {
     "name": "stdout",
     "output_type": "stream",
     "text": [
      "✅ Modelo guardado: modelo_simple_tflite.h5\n"
     ]
    }
   ],
   "source": [
    "# Guardar modelo .h5\n",
    "model_h5_path = \"modelo_simple_tflite.h5\"\n",
    "model.save(model_h5_path)\n",
    "print(f\"✅ Modelo guardado: {model_h5_path}\")"
   ]
  },
  {
   "cell_type": "markdown",
   "id": "b485a251",
   "metadata": {},
   "source": [
    "## 9. Convertir a TFLite (100% compatible)"
   ]
  },
  {
   "cell_type": "code",
   "execution_count": 11,
   "id": "2ff506ff",
   "metadata": {},
   "outputs": [
    {
     "name": "stdout",
     "output_type": "stream",
     "text": [
      "INFO:tensorflow:Assets written to: C:\\Users\\benja\\AppData\\Local\\Temp\\tmp_hjcscbi\\assets\n"
     ]
    },
    {
     "name": "stderr",
     "output_type": "stream",
     "text": [
      "INFO:tensorflow:Assets written to: C:\\Users\\benja\\AppData\\Local\\Temp\\tmp_hjcscbi\\assets\n"
     ]
    },
    {
     "name": "stdout",
     "output_type": "stream",
     "text": [
      "Saved artifact at 'C:\\Users\\benja\\AppData\\Local\\Temp\\tmp_hjcscbi'. The following endpoints are available:\n",
      "\n",
      "* Endpoint 'serve'\n",
      "  args_0 (POSITIONAL_ONLY): TensorSpec(shape=(None, 96), dtype=tf.float32, name='keras_tensor')\n",
      "Output Type:\n",
      "  TensorSpec(shape=(None, 1), dtype=tf.float32, name=None)\n",
      "Captures:\n",
      "  1695795968528: TensorSpec(shape=(), dtype=tf.resource, name=None)\n",
      "  1695795969872: TensorSpec(shape=(), dtype=tf.resource, name=None)\n",
      "  1695795968336: TensorSpec(shape=(), dtype=tf.resource, name=None)\n",
      "  1695795969488: TensorSpec(shape=(), dtype=tf.resource, name=None)\n",
      "  1695795969680: TensorSpec(shape=(), dtype=tf.resource, name=None)\n",
      "  1695795968144: TensorSpec(shape=(), dtype=tf.resource, name=None)\n",
      "  1695795968912: TensorSpec(shape=(), dtype=tf.resource, name=None)\n",
      "  1695795969104: TensorSpec(shape=(), dtype=tf.resource, name=None)\n",
      "✅ Conversión a TFLite completada!\n",
      "   📦 .h5:     304.48 KB\n",
      "   📦 .tflite: 27.89 KB\n",
      "   🎯 Reducción: 90.8%\n",
      "\n",
      "🎉 Modelo 100% compatible con tflite-runtime (sin TensorFlow)\n"
     ]
    }
   ],
   "source": [
    "# Convertir a TFLite puro (sin Flex ops)\n",
    "converter = tf.lite.TFLiteConverter.from_keras_model(model)\n",
    "converter.optimizations = [tf.lite.Optimize.DEFAULT]\n",
    "converter.target_spec.supported_ops = [tf.lite.OpsSet.TFLITE_BUILTINS]\n",
    "\n",
    "tflite_model = converter.convert()\n",
    "\n",
    "# Guardar .tflite\n",
    "tflite_path = \"modelo_simple_tflite.tflite\"\n",
    "with open(tflite_path, 'wb') as f:\n",
    "    f.write(tflite_model)\n",
    "\n",
    "# Comparar tamaños\n",
    "import os\n",
    "size_h5 = os.path.getsize(model_h5_path) / 1024  # KB\n",
    "size_tflite = os.path.getsize(tflite_path) / 1024  # KB\n",
    "\n",
    "print(f\"✅ Conversión a TFLite completada!\")\n",
    "print(f\"   📦 .h5:     {size_h5:.2f} KB\")\n",
    "print(f\"   📦 .tflite: {size_tflite:.2f} KB\")\n",
    "print(f\"   🎯 Reducción: {((size_h5 - size_tflite) / size_h5 * 100):.1f}%\")\n",
    "print(f\"\\n🎉 Modelo 100% compatible con tflite-runtime (sin TensorFlow)\")"
   ]
  },
  {
   "cell_type": "markdown",
   "id": "c97607c1",
   "metadata": {},
   "source": [
    "## 10. Verificar compatibilidad TFLite"
   ]
  },
  {
   "cell_type": "code",
   "execution_count": 12,
   "id": "4d69981c",
   "metadata": {},
   "outputs": [
    {
     "name": "stdout",
     "output_type": "stream",
     "text": [
      "✅ Modelo TFLite verificado\n",
      "\n",
      "📋 Detalles del modelo:\n",
      "   Input shape:  [ 1 96]\n",
      "   Output shape: [1 1]\n",
      "   Input dtype:  <class 'numpy.float32'>\n",
      "\n",
      "🔮 Predicción de prueba:\n",
      "   Keras:  -0.548105\n",
      "   TFLite: -0.547578\n",
      "   Diff:   0.000528\n",
      "\n",
      "✅ Modelo funcionando correctamente!\n"
     ]
    }
   ],
   "source": [
    "# Probar modelo TFLite\n",
    "interpreter = tf.lite.Interpreter(model_path=tflite_path)\n",
    "interpreter.allocate_tensors()\n",
    "\n",
    "input_details = interpreter.get_input_details()\n",
    "output_details = interpreter.get_output_details()\n",
    "\n",
    "print(\"✅ Modelo TFLite verificado\")\n",
    "print(f\"\\n📋 Detalles del modelo:\")\n",
    "print(f\"   Input shape:  {input_details[0]['shape']}\")\n",
    "print(f\"   Output shape: {output_details[0]['shape']}\")\n",
    "print(f\"   Input dtype:  {input_details[0]['dtype']}\")\n",
    "\n",
    "# Hacer una predicción de prueba\n",
    "test_input = X_val[0:1].astype(np.float32)\n",
    "interpreter.set_tensor(input_details[0]['index'], test_input)\n",
    "interpreter.invoke()\n",
    "tflite_pred = interpreter.get_tensor(output_details[0]['index'])[0][0]\n",
    "\n",
    "# Comparar con predicción Keras\n",
    "keras_pred = model.predict(test_input, verbose=0)[0][0]\n",
    "\n",
    "print(f\"\\n🔮 Predicción de prueba:\")\n",
    "print(f\"   Keras:  {keras_pred:.6f}\")\n",
    "print(f\"   TFLite: {tflite_pred:.6f}\")\n",
    "print(f\"   Diff:   {abs(keras_pred - tflite_pred):.6f}\")\n",
    "print(f\"\\n✅ Modelo funcionando correctamente!\")"
   ]
  },
  {
   "cell_type": "markdown",
   "id": "0341f576",
   "metadata": {},
   "source": [
    "## 11. Resumen final"
   ]
  },
  {
   "cell_type": "code",
   "execution_count": 13,
   "id": "13f4ac13",
   "metadata": {},
   "outputs": [
    {
     "name": "stdout",
     "output_type": "stream",
     "text": [
      "============================================================\n",
      "🎉 MODELO TFLITE COMPATIBLE CREADO EXITOSAMENTE\n",
      "============================================================\n",
      "\n",
      "📦 Archivos generados:\n",
      "   1. modelo_simple_tflite.h5\n",
      "   2. modelo_simple_tflite.tflite\n",
      "   3. scaler_4_features_tflite.pkl\n",
      "\n",
      "✅ Características:\n",
      "   • Arquitectura: Dense (sin LSTM)\n",
      "   • Compatible: tflite-runtime (sin TensorFlow)\n",
      "   • Features: 4 (ts, hr, p0, hora_decimal)\n",
      "   • Timesteps: 24\n",
      "   • MAE: 2.109 °C\n",
      "\n",
      "🚀 Listo para usar en Raspberry Pi con solo tflite-runtime\n",
      "============================================================\n"
     ]
    }
   ],
   "source": [
    "print(\"=\"*60)\n",
    "print(\"🎉 MODELO TFLITE COMPATIBLE CREADO EXITOSAMENTE\")\n",
    "print(\"=\"*60)\n",
    "print(f\"\\n📦 Archivos generados:\")\n",
    "print(f\"   1. {model_h5_path}\")\n",
    "print(f\"   2. {tflite_path}\")\n",
    "print(f\"   3. {scaler_tflite_path}\")\n",
    "print(f\"\\n✅ Características:\")\n",
    "print(f\"   • Arquitectura: Dense (sin LSTM)\")\n",
    "print(f\"   • Compatible: tflite-runtime (sin TensorFlow)\")\n",
    "print(f\"   • Features: 4 (ts, hr, p0, hora_decimal)\")\n",
    "print(f\"   • Timesteps: {n_pasos}\")\n",
    "print(f\"   • MAE: {mae_real:.3f} °C\")\n",
    "print(f\"\\n🚀 Listo para usar en Raspberry Pi con solo tflite-runtime\")\n",
    "print(\"=\"*60)"
   ]
  }
 ],
 "metadata": {
  "kernelspec": {
   "display_name": "Python 3",
   "language": "python",
   "name": "python3"
  },
  "language_info": {
   "codemirror_mode": {
    "name": "ipython",
    "version": 3
   },
   "file_extension": ".py",
   "mimetype": "text/x-python",
   "name": "python",
   "nbconvert_exporter": "python",
   "pygments_lexer": "ipython3",
   "version": "3.13.3"
  }
 },
 "nbformat": 4,
 "nbformat_minor": 5
}
